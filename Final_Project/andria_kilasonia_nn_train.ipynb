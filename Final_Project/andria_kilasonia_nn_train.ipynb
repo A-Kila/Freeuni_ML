{
 "cells": [
  {
   "cell_type": "markdown",
   "metadata": {},
   "source": [
    "# Georgian Digital Alphabet Recognition"
   ]
  },
  {
   "cell_type": "markdown",
   "metadata": {},
   "source": [
    "### Preprocessing\n",
    "add useful imports"
   ]
  },
  {
   "cell_type": "code",
   "execution_count": 1,
   "metadata": {},
   "outputs": [],
   "source": [
    "import numpy as np\n",
    "import matplotlib.pyplot as plt\n",
    "import os\n",
    "import tensorflow as tf\n",
    "%matplotlib inline"
   ]
  },
  {
   "cell_type": "markdown",
   "metadata": {},
   "source": [
    "turns a number to a one hot array"
   ]
  },
  {
   "cell_type": "code",
   "execution_count": 2,
   "metadata": {},
   "outputs": [],
   "source": [
    "def to_one_hot(values: np.ndarray, max: int) -> np.matrix:\n",
    "    one_hot = np.zeros((values.size, max))\n",
    "    rows = np.arange(values.size)\n",
    "    one_hot[rows, values] = 1    \n",
    "\n",
    "    return one_hot"
   ]
  },
  {
   "cell_type": "markdown",
   "metadata": {},
   "source": [
    "import image data"
   ]
  },
  {
   "cell_type": "code",
   "execution_count": 3,
   "metadata": {},
   "outputs": [],
   "source": [
    "import matplotlib.image as im\n",
    "\n",
    "X_arr = list[np.ndarray]()\n",
    "Y_arr = list[int]()\n",
    "num_chars = ord(\"ჰ\") - ord(\"ა\") + 1\n",
    "\n",
    "for i in range(num_chars):\n",
    "    char = chr(ord(\"ა\") + i)    # ger character\n",
    "\n",
    "    file_path_1 = f\"data_train/Letters/{char}\"\n",
    "    file_path_2 = f\"data_train/images/{char}\"\n",
    "\n",
    "    # import first data\n",
    "    for image in os.listdir(file_path_1):\n",
    "        img_data = im.imread(f\"{file_path_1}/{image}\").ravel()\n",
    "\n",
    "        X_arr.append(np.append(img_data, np.ones(10000 - len(img_data))))\n",
    "        Y_arr.append(i)\n",
    "    \n",
    "    # import second data\n",
    "    for image in os.listdir(file_path_2):\n",
    "        img_data = im.imread(f\"{file_path_2}/{image}\").ravel()\n",
    "\n",
    "        X_arr.append(np.append(img_data, np.ones(10000 - len(img_data))))\n",
    "        Y_arr.append(i)"
   ]
  },
  {
   "cell_type": "markdown",
   "metadata": {},
   "source": [
    "turn list of image values to numpy matrix, values to one_hot vector"
   ]
  },
  {
   "cell_type": "code",
   "execution_count": 4,
   "metadata": {},
   "outputs": [
    {
     "data": {
      "text/plain": [
       "((96897, 10000), (96897, 33))"
      ]
     },
     "execution_count": 4,
     "metadata": {},
     "output_type": "execute_result"
    }
   ],
   "source": [
    "X = np.asmatrix(X_arr)\n",
    "Y = to_one_hot(np.asarray(Y_arr), num_chars)    # convert 33 characters to one_hot array\n",
    "\n",
    "X.shape, Y.shape"
   ]
  },
  {
   "cell_type": "markdown",
   "metadata": {},
   "source": [
    "divide data to train, validation, and test"
   ]
  },
  {
   "cell_type": "code",
   "execution_count": 5,
   "metadata": {},
   "outputs": [
    {
     "data": {
      "text/plain": [
       "((58138, 10000),\n",
       " (58138, 33),\n",
       " (19379, 10000),\n",
       " (19379, 33),\n",
       " (19380, 10000),\n",
       " (19380, 33))"
      ]
     },
     "execution_count": 5,
     "metadata": {},
     "output_type": "execute_result"
    }
   ],
   "source": [
    "division_points = (int(X.shape[0] * 0.6), int(X.shape[0] * 0.8))\n",
    "\n",
    "data = np.append(X, Y, 1)\n",
    "np.random.shuffle(data)\n",
    "\n",
    "X = data[:, 0: X.shape[1]]\n",
    "Y = data[:, X.shape[1]:]\n",
    "\n",
    "X_train = X[0: division_points[0], :]\n",
    "Y_train = Y[0: division_points[0], :]\n",
    "\n",
    "X_valid = X[division_points[0]: division_points[1], :]\n",
    "Y_valid = Y[division_points[0]: division_points[1], :]\n",
    "\n",
    "X_test = X[division_points[1]:, :]\n",
    "Y_test = Y[division_points[1]:, :]\n",
    "\n",
    "X_train.shape, Y_train.shape, X_valid.shape, Y_valid.shape, X_test.shape, Y_test.shape"
   ]
  },
  {
   "cell_type": "markdown",
   "metadata": {},
   "source": [
    "add normalizarion to the three datas seperately"
   ]
  },
  {
   "cell_type": "code",
   "execution_count": 6,
   "metadata": {},
   "outputs": [],
   "source": [
    "X_train_mean = X_train.mean(0)\n",
    "\n",
    "X_train -= X_train_mean\n",
    "X_valid -= X_train_mean\n",
    "X_test -= X_train_mean"
   ]
  },
  {
   "cell_type": "markdown",
   "metadata": {},
   "source": [
    "##### Reduce dimensions using PCA for data compression reasons\n",
    "find minimum dimension to reduce data to\n",
    "\n",
    "start from 0 and raise dimension, until reduced dimension retaines 99% of the original varinace"
   ]
  },
  {
   "cell_type": "code",
   "execution_count": 7,
   "metadata": {},
   "outputs": [],
   "source": [
    "min_dimension = 0\n",
    "\n",
    "sigma = (1 / X_train.shape[0]) * X.T * X\n",
    "u, s, _ = np.linalg.svd(sigma)\n",
    "\n",
    "dimension_sum = 0\n",
    "full_sum = np.sum(s)\n",
    "\n",
    "for k in range(len(s)):\n",
    "    dimension_sum += s[k]\n",
    "    variance_retained = dimension_sum / full_sum\n",
    "\n",
    "    if variance_retained > 0.99:\n",
    "        min_dimension = k\n",
    "        break"
   ]
  },
  {
   "cell_type": "code",
   "execution_count": 8,
   "metadata": {},
   "outputs": [
    {
     "data": {
      "text/plain": [
       "2344"
      ]
     },
     "execution_count": 8,
     "metadata": {},
     "output_type": "execute_result"
    }
   ],
   "source": [
    "min_dimension"
   ]
  },
  {
   "cell_type": "markdown",
   "metadata": {},
   "source": [
    "reduce data"
   ]
  },
  {
   "cell_type": "code",
   "execution_count": 9,
   "metadata": {},
   "outputs": [
    {
     "data": {
      "text/plain": [
       "((58138, 2344), (19379, 2344), (19380, 2344))"
      ]
     },
     "execution_count": 9,
     "metadata": {},
     "output_type": "execute_result"
    }
   ],
   "source": [
    "u_reduce = u[:, : min_dimension]\n",
    "\n",
    "X_train = X_train * u_reduce\n",
    "X_valid = X_valid * u_reduce\n",
    "X_test = X_test * u_reduce\n",
    "\n",
    "X_train.shape, X_valid.shape, X_test.shape"
   ]
  },
  {
   "cell_type": "markdown",
   "metadata": {},
   "source": [
    "### Build a model\n",
    "build a model using tensorFlow and Keras libraries"
   ]
  },
  {
   "cell_type": "code",
   "execution_count": 10,
   "metadata": {},
   "outputs": [],
   "source": [
    "from typing import Optional\n",
    "\n",
    "def get_model(alpha: float, lambd: Optional[float] = 0) -> tf.keras.Sequential:\n",
    "    # l2 regulizer - sum(square(x))\n",
    "    from tensorflow.keras.regularizers import l2\n",
    "\n",
    "    # model with 4 layers\n",
    "    # Input layer with {min_dimension} nodes\n",
    "    # 2 hidden layers with \"ReLU\" activation function and 256 nodes\n",
    "    # Output layer with \"SoftMax\" activation function and {num_chars} or 33 layers\n",
    "    model = tf.keras.Sequential([\n",
    "        tf.keras.layers.Input(shape=min_dimension),\n",
    "        tf.keras.layers.Dense(256, activation='relu', kernel_regularizer=l2(l=lambd)),\n",
    "        tf.keras.layers.Dense(256, activation='relu', kernel_regularizer=l2(l=lambd)),\n",
    "        tf.keras.layers.Dense(num_chars, activation='softmax', kernel_regularizer=l2(l=lambd))\n",
    "    ])\n",
    "\n",
    "    model.compile(\n",
    "        optimizer=tf.keras.optimizers.Adam(learning_rate=alpha), \n",
    "        loss='categorical_crossentropy',    # cost function\n",
    "        metrics=['accuracy']                # statistics to keep track of\n",
    "    )\n",
    "\n",
    "    return model"
   ]
  },
  {
   "cell_type": "markdown",
   "metadata": {},
   "source": [
    "##### draw the graph of model costs to choose the best alpha"
   ]
  },
  {
   "cell_type": "code",
   "execution_count": 11,
   "metadata": {},
   "outputs": [
    {
     "name": "stderr",
     "output_type": "stream",
     "text": [
      "2022-02-08 23:42:41.419978: I tensorflow/core/platform/cpu_feature_guard.cc:151] This TensorFlow binary is optimized with oneAPI Deep Neural Network Library (oneDNN) to use the following CPU instructions in performance-critical operations:  AVX2 FMA\n",
      "To enable them in other operations, rebuild TensorFlow with the appropriate compiler flags.\n"
     ]
    },
    {
     "name": "stdout",
     "output_type": "stream",
     "text": [
      "Epoch 1/10\n",
      "1817/1817 [==============================] - 7s 4ms/step - loss: 1.3139 - accuracy: 0.6403 - val_loss: 0.9000 - val_accuracy: 0.7464\n",
      "Epoch 2/10\n",
      "1817/1817 [==============================] - 6s 3ms/step - loss: 0.5953 - accuracy: 0.8256 - val_loss: 0.8114 - val_accuracy: 0.7779\n",
      "Epoch 3/10\n",
      "1817/1817 [==============================] - 6s 3ms/step - loss: 0.3579 - accuracy: 0.8920 - val_loss: 0.8263 - val_accuracy: 0.7946\n",
      "Epoch 4/10\n",
      "1817/1817 [==============================] - 6s 3ms/step - loss: 0.2425 - accuracy: 0.9254 - val_loss: 0.9082 - val_accuracy: 0.7992\n",
      "Epoch 5/10\n",
      "1817/1817 [==============================] - 6s 3ms/step - loss: 0.1802 - accuracy: 0.9436 - val_loss: 1.0225 - val_accuracy: 0.8015\n",
      "Epoch 6/10\n",
      "1817/1817 [==============================] - 6s 3ms/step - loss: 0.1522 - accuracy: 0.9545 - val_loss: 1.0902 - val_accuracy: 0.8069\n",
      "Epoch 7/10\n",
      "1817/1817 [==============================] - 6s 3ms/step - loss: 0.1239 - accuracy: 0.9623 - val_loss: 1.2294 - val_accuracy: 0.7999\n",
      "Epoch 8/10\n",
      "1817/1817 [==============================] - 6s 3ms/step - loss: 0.1130 - accuracy: 0.9672 - val_loss: 1.2525 - val_accuracy: 0.8060\n",
      "Epoch 9/10\n",
      "1817/1817 [==============================] - 9s 5ms/step - loss: 0.0951 - accuracy: 0.9723 - val_loss: 1.3722 - val_accuracy: 0.8028\n",
      "Epoch 10/10\n",
      "1817/1817 [==============================] - 7s 4ms/step - loss: 0.0963 - accuracy: 0.9720 - val_loss: 1.4212 - val_accuracy: 0.8038\n"
     ]
    }
   ],
   "source": [
    "alpha = 0.001   # Manually select the best alpha acording to the cost function graph\n",
    "\n",
    "model = get_model(alpha)\n",
    "\n",
    "history = model.fit(X_train, Y_train, epochs=10, validation_data=(X_valid, Y_valid))\n",
    "loss = history.history['loss']"
   ]
  },
  {
   "cell_type": "code",
   "execution_count": 12,
   "metadata": {},
   "outputs": [
    {
     "data": {
      "text/plain": [
       "Text(0.5, 1.0, 'Error vs. Training Epoch')"
      ]
     },
     "execution_count": 12,
     "metadata": {},
     "output_type": "execute_result"
    },
    {
     "data": {
      "image/png": "[encoded data removed]",
      "text/plain": [
       "<Figure size 864x576 with 1 Axes>"
      ]
     },
     "metadata": {
      "needs_background": "light"
     },
     "output_type": "display_data"
    }
   ],
   "source": [
    "vfig, ax = plt.subplots(figsize=(12,8))\n",
    "ax.plot(np.arange(len(loss)) + 1, loss, 'r')\n",
    "ax.set_xlabel('Iterations')\n",
    "ax.set_ylabel('Cost')\n",
    "ax.set_title('Error vs. Training Epoch')"
   ]
  },
  {
   "cell_type": "markdown",
   "metadata": {},
   "source": [
    "##### Choose the number of epochs based on validation data"
   ]
  },
  {
   "cell_type": "code",
   "execution_count": 13,
   "metadata": {},
   "outputs": [
    {
     "name": "stdout",
     "output_type": "stream",
     "text": [
      "1817/1817 [==============================] - 8s 4ms/step - loss: 1.3145 - accuracy: 0.6421 - val_loss: 0.8860 - val_accuracy: 0.7503\n",
      "1 / 12\n",
      "Epoch 1/2\n",
      "1817/1817 [==============================] - 8s 4ms/step - loss: 1.3207 - accuracy: 0.6398 - val_loss: 0.9060 - val_accuracy: 0.7469\n",
      "Epoch 2/2\n",
      "1817/1817 [==============================] - 7s 4ms/step - loss: 0.5990 - accuracy: 0.8248 - val_loss: 0.7872 - val_accuracy: 0.7858\n",
      "2 / 12\n",
      "Epoch 1/3\n",
      "1817/1817 [==============================] - 8s 4ms/step - loss: 1.3156 - accuracy: 0.6413 - val_loss: 0.8797 - val_accuracy: 0.7543\n",
      "Epoch 2/3\n",
      "1817/1817 [==============================] - 7s 4ms/step - loss: 0.5963 - accuracy: 0.8261 - val_loss: 0.8239 - val_accuracy: 0.7765\n",
      "Epoch 3/3\n",
      "1817/1817 [==============================] - 8s 4ms/step - loss: 0.3612 - accuracy: 0.8907 - val_loss: 0.8426 - val_accuracy: 0.7929\n",
      "3 / 12\n",
      "Epoch 1/4\n",
      "1817/1817 [==============================] - 8s 4ms/step - loss: 1.3162 - accuracy: 0.6414 - val_loss: 0.8910 - val_accuracy: 0.7545\n",
      "Epoch 2/4\n",
      "1817/1817 [==============================] - 7s 4ms/step - loss: 0.5975 - accuracy: 0.8265 - val_loss: 0.8252 - val_accuracy: 0.7759\n",
      "Epoch 3/4\n",
      "1817/1817 [==============================] - 7s 4ms/step - loss: 0.3610 - accuracy: 0.8895 - val_loss: 0.8509 - val_accuracy: 0.7886\n",
      "Epoch 4/4\n",
      "1817/1817 [==============================] - 7s 4ms/step - loss: 0.2416 - accuracy: 0.9255 - val_loss: 0.9453 - val_accuracy: 0.7947\n",
      "4 / 12\n",
      "Epoch 1/5\n",
      "1817/1817 [==============================] - 9s 5ms/step - loss: 1.3065 - accuracy: 0.6438 - val_loss: 0.8835 - val_accuracy: 0.7512\n",
      "Epoch 2/5\n",
      "1817/1817 [==============================] - 8s 4ms/step - loss: 0.5932 - accuracy: 0.8286 - val_loss: 0.7955 - val_accuracy: 0.7830\n",
      "Epoch 3/5\n",
      "1817/1817 [==============================] - 8s 4ms/step - loss: 0.3581 - accuracy: 0.8919 - val_loss: 0.8245 - val_accuracy: 0.7931\n",
      "Epoch 4/5\n",
      "1817/1817 [==============================] - 8s 4ms/step - loss: 0.2437 - accuracy: 0.9251 - val_loss: 0.9384 - val_accuracy: 0.7981\n",
      "Epoch 5/5\n",
      "1817/1817 [==============================] - 8s 4ms/step - loss: 0.1837 - accuracy: 0.9442 - val_loss: 1.0025 - val_accuracy: 0.8007\n",
      "5 / 12\n",
      "Epoch 1/6\n",
      "1817/1817 [==============================] - 9s 5ms/step - loss: 1.3243 - accuracy: 0.6397 - val_loss: 0.9033 - val_accuracy: 0.7472\n",
      "Epoch 2/6\n",
      "1817/1817 [==============================] - 8s 4ms/step - loss: 0.6040 - accuracy: 0.8246 - val_loss: 0.7903 - val_accuracy: 0.7835\n",
      "Epoch 3/6\n",
      "1817/1817 [==============================] - 8s 5ms/step - loss: 0.3639 - accuracy: 0.8903 - val_loss: 0.8421 - val_accuracy: 0.7916\n",
      "Epoch 4/6\n",
      "1817/1817 [==============================] - 8s 4ms/step - loss: 0.2523 - accuracy: 0.9229 - val_loss: 0.9089 - val_accuracy: 0.7992\n",
      "Epoch 5/6\n",
      "1817/1817 [==============================] - 8s 4ms/step - loss: 0.1876 - accuracy: 0.9439 - val_loss: 1.0466 - val_accuracy: 0.8006\n",
      "Epoch 6/6\n",
      "1817/1817 [==============================] - 8s 4ms/step - loss: 0.1550 - accuracy: 0.9534 - val_loss: 1.0862 - val_accuracy: 0.8027\n",
      "6 / 12\n",
      "Epoch 1/7\n",
      "1817/1817 [==============================] - 8s 4ms/step - loss: 1.3214 - accuracy: 0.6397 - val_loss: 0.9045 - val_accuracy: 0.7441\n",
      "Epoch 2/7\n",
      "1817/1817 [==============================] - 8s 4ms/step - loss: 0.5881 - accuracy: 0.8277 - val_loss: 0.8061 - val_accuracy: 0.7829\n",
      "Epoch 3/7\n",
      "1817/1817 [==============================] - 7s 4ms/step - loss: 0.3547 - accuracy: 0.8924 - val_loss: 0.8600 - val_accuracy: 0.7896\n",
      "Epoch 4/7\n",
      "1817/1817 [==============================] - 7s 4ms/step - loss: 0.2440 - accuracy: 0.9247 - val_loss: 0.9640 - val_accuracy: 0.7913\n",
      "Epoch 5/7\n",
      "1817/1817 [==============================] - 8s 4ms/step - loss: 0.1875 - accuracy: 0.9424 - val_loss: 1.0371 - val_accuracy: 0.7992\n",
      "Epoch 6/7\n",
      "1817/1817 [==============================] - 8s 4ms/step - loss: 0.1449 - accuracy: 0.9560 - val_loss: 1.1116 - val_accuracy: 0.8019\n",
      "Epoch 7/7\n",
      "1817/1817 [==============================] - 7s 4ms/step - loss: 0.1308 - accuracy: 0.9611 - val_loss: 1.2008 - val_accuracy: 0.8015\n",
      "7 / 12\n",
      "Epoch 1/8\n",
      "1817/1817 [==============================] - 10s 5ms/step - loss: 1.3116 - accuracy: 0.6447 - val_loss: 0.8971 - val_accuracy: 0.7491\n",
      "Epoch 2/8\n",
      "1817/1817 [==============================] - 7s 4ms/step - loss: 0.6017 - accuracy: 0.8230 - val_loss: 0.7973 - val_accuracy: 0.7838\n",
      "Epoch 3/8\n",
      "1817/1817 [==============================] - 7s 4ms/step - loss: 0.3663 - accuracy: 0.8879 - val_loss: 0.8335 - val_accuracy: 0.7940\n",
      "Epoch 4/8\n",
      "1817/1817 [==============================] - 7s 4ms/step - loss: 0.2480 - accuracy: 0.9246 - val_loss: 0.9220 - val_accuracy: 0.7940\n",
      "Epoch 5/8\n",
      "1817/1817 [==============================] - 7s 4ms/step - loss: 0.1849 - accuracy: 0.9421 - val_loss: 0.9917 - val_accuracy: 0.7970\n",
      "Epoch 6/8\n",
      "1817/1817 [==============================] - 7s 4ms/step - loss: 0.1530 - accuracy: 0.9530 - val_loss: 1.0832 - val_accuracy: 0.8021\n",
      "Epoch 7/8\n",
      "1817/1817 [==============================] - 7s 4ms/step - loss: 0.1192 - accuracy: 0.9642 - val_loss: 1.1480 - val_accuracy: 0.8005\n",
      "Epoch 8/8\n",
      "1817/1817 [==============================] - 7s 4ms/step - loss: 0.1120 - accuracy: 0.9666 - val_loss: 1.2214 - val_accuracy: 0.8058\n",
      "8 / 12\n",
      "Epoch 1/9\n",
      "1817/1817 [==============================] - 8s 4ms/step - loss: 1.3206 - accuracy: 0.6389 - val_loss: 0.8904 - val_accuracy: 0.7509\n",
      "Epoch 2/9\n",
      "1817/1817 [==============================] - 7s 4ms/step - loss: 0.5979 - accuracy: 0.8250 - val_loss: 0.8130 - val_accuracy: 0.7778\n",
      "Epoch 3/9\n",
      "1817/1817 [==============================] - 8s 4ms/step - loss: 0.3584 - accuracy: 0.8920 - val_loss: 0.8285 - val_accuracy: 0.7931\n",
      "Epoch 4/9\n",
      "1817/1817 [==============================] - 8s 4ms/step - loss: 0.2413 - accuracy: 0.9259 - val_loss: 0.9751 - val_accuracy: 0.7906\n",
      "Epoch 5/9\n",
      "1817/1817 [==============================] - 8s 4ms/step - loss: 0.1833 - accuracy: 0.9432 - val_loss: 1.0467 - val_accuracy: 0.7987\n",
      "Epoch 6/9\n",
      "1817/1817 [==============================] - 7s 4ms/step - loss: 0.1496 - accuracy: 0.9555 - val_loss: 1.1146 - val_accuracy: 0.8023\n",
      "Epoch 7/9\n",
      "1817/1817 [==============================] - 7s 4ms/step - loss: 0.1242 - accuracy: 0.9629 - val_loss: 1.2126 - val_accuracy: 0.7965\n",
      "Epoch 8/9\n",
      "1817/1817 [==============================] - 7s 4ms/step - loss: 0.1151 - accuracy: 0.9655 - val_loss: 1.2639 - val_accuracy: 0.8053\n",
      "Epoch 9/9\n",
      "1817/1817 [==============================] - 8s 4ms/step - loss: 0.0988 - accuracy: 0.9712 - val_loss: 1.3049 - val_accuracy: 0.8058\n",
      "9 / 12\n",
      "Epoch 1/10\n",
      "1817/1817 [==============================] - 8s 4ms/step - loss: 1.3084 - accuracy: 0.6462 - val_loss: 0.8939 - val_accuracy: 0.7493\n",
      "Epoch 2/10\n",
      "1817/1817 [==============================] - 8s 4ms/step - loss: 0.5987 - accuracy: 0.8250 - val_loss: 0.7968 - val_accuracy: 0.7822\n",
      "Epoch 3/10\n",
      "1817/1817 [==============================] - 8s 4ms/step - loss: 0.3572 - accuracy: 0.8912 - val_loss: 0.8554 - val_accuracy: 0.7896\n",
      "Epoch 4/10\n",
      "1817/1817 [==============================] - 8s 4ms/step - loss: 0.2461 - accuracy: 0.9243 - val_loss: 0.9108 - val_accuracy: 0.8015\n",
      "Epoch 5/10\n",
      "1817/1817 [==============================] - 8s 4ms/step - loss: 0.1891 - accuracy: 0.9417 - val_loss: 1.0329 - val_accuracy: 0.8002\n",
      "Epoch 6/10\n",
      "1817/1817 [==============================] - 8s 4ms/step - loss: 0.1463 - accuracy: 0.9562 - val_loss: 1.1042 - val_accuracy: 0.8045\n",
      "Epoch 7/10\n",
      "1817/1817 [==============================] - 8s 4ms/step - loss: 0.1270 - accuracy: 0.9614 - val_loss: 1.2204 - val_accuracy: 0.8036\n",
      "Epoch 8/10\n",
      "1817/1817 [==============================] - 7s 4ms/step - loss: 0.1133 - accuracy: 0.9665 - val_loss: 1.2651 - val_accuracy: 0.8032\n",
      "Epoch 9/10\n",
      "1817/1817 [==============================] - 8s 4ms/step - loss: 0.1023 - accuracy: 0.9708 - val_loss: 1.2829 - val_accuracy: 0.8054\n",
      "Epoch 10/10\n",
      "1817/1817 [==============================] - 8s 4ms/step - loss: 0.0923 - accuracy: 0.9743 - val_loss: 1.3869 - val_accuracy: 0.8038\n",
      "10 / 12\n",
      "Epoch 1/11\n",
      "1817/1817 [==============================] - 8s 4ms/step - loss: 1.3121 - accuracy: 0.6444 - val_loss: 0.9073 - val_accuracy: 0.7426\n",
      "Epoch 2/11\n",
      "1817/1817 [==============================] - 8s 4ms/step - loss: 0.5986 - accuracy: 0.8238 - val_loss: 0.7964 - val_accuracy: 0.7782\n",
      "Epoch 3/11\n",
      "1817/1817 [==============================] - 8s 4ms/step - loss: 0.3626 - accuracy: 0.8892 - val_loss: 0.8549 - val_accuracy: 0.7860\n",
      "Epoch 4/11\n",
      "1817/1817 [==============================] - 8s 4ms/step - loss: 0.2420 - accuracy: 0.9257 - val_loss: 0.8991 - val_accuracy: 0.8005\n",
      "Epoch 5/11\n",
      "1817/1817 [==============================] - 8s 4ms/step - loss: 0.1830 - accuracy: 0.9440 - val_loss: 1.0086 - val_accuracy: 0.7974\n",
      "Epoch 6/11\n",
      "1817/1817 [==============================] - 8s 4ms/step - loss: 0.1574 - accuracy: 0.9525 - val_loss: 1.0291 - val_accuracy: 0.8023\n",
      "Epoch 7/11\n",
      "1817/1817 [==============================] - 7s 4ms/step - loss: 0.1236 - accuracy: 0.9636 - val_loss: 1.1964 - val_accuracy: 0.7929\n",
      "Epoch 8/11\n",
      "1817/1817 [==============================] - 7s 4ms/step - loss: 0.1127 - accuracy: 0.9662 - val_loss: 1.2776 - val_accuracy: 0.7960\n",
      "Epoch 9/11\n",
      "1817/1817 [==============================] - 8s 4ms/step - loss: 0.1043 - accuracy: 0.9686 - val_loss: 1.2822 - val_accuracy: 0.8066\n",
      "Epoch 10/11\n",
      "1817/1817 [==============================] - 8s 4ms/step - loss: 0.0853 - accuracy: 0.9750 - val_loss: 1.3993 - val_accuracy: 0.8018\n",
      "Epoch 11/11\n",
      "1817/1817 [==============================] - 8s 4ms/step - loss: 0.0983 - accuracy: 0.9727 - val_loss: 1.4239 - val_accuracy: 0.8038\n",
      "11 / 12\n",
      "Epoch 1/12\n",
      "1817/1817 [==============================] - 8s 4ms/step - loss: 1.3166 - accuracy: 0.6403 - val_loss: 0.8992 - val_accuracy: 0.7463\n",
      "Epoch 2/12\n",
      "1817/1817 [==============================] - 8s 4ms/step - loss: 0.5985 - accuracy: 0.8248 - val_loss: 0.7924 - val_accuracy: 0.7859\n",
      "Epoch 3/12\n",
      "1817/1817 [==============================] - 8s 4ms/step - loss: 0.3643 - accuracy: 0.8900 - val_loss: 0.8229 - val_accuracy: 0.7935\n",
      "Epoch 4/12\n",
      "1817/1817 [==============================] - 8s 4ms/step - loss: 0.2428 - accuracy: 0.9244 - val_loss: 0.9408 - val_accuracy: 0.7955\n",
      "Epoch 5/12\n",
      "1817/1817 [==============================] - 8s 4ms/step - loss: 0.1910 - accuracy: 0.9414 - val_loss: 0.9999 - val_accuracy: 0.8017\n",
      "Epoch 6/12\n",
      "1817/1817 [==============================] - 8s 4ms/step - loss: 0.1447 - accuracy: 0.9559 - val_loss: 1.0885 - val_accuracy: 0.8016\n",
      "Epoch 7/12\n",
      "1817/1817 [==============================] - 8s 4ms/step - loss: 0.1299 - accuracy: 0.9615 - val_loss: 1.1788 - val_accuracy: 0.8013\n",
      "Epoch 8/12\n",
      "1817/1817 [==============================] - 8s 4ms/step - loss: 0.1074 - accuracy: 0.9680 - val_loss: 1.2379 - val_accuracy: 0.8054\n",
      "Epoch 9/12\n",
      "1817/1817 [==============================] - 8s 4ms/step - loss: 0.1033 - accuracy: 0.9694 - val_loss: 1.2865 - val_accuracy: 0.8071\n",
      "Epoch 10/12\n",
      "1817/1817 [==============================] - 8s 4ms/step - loss: 0.0908 - accuracy: 0.9737 - val_loss: 1.3708 - val_accuracy: 0.8058\n",
      "Epoch 11/12\n",
      "1817/1817 [==============================] - 8s 4ms/step - loss: 0.0881 - accuracy: 0.9752 - val_loss: 1.4886 - val_accuracy: 0.8064\n",
      "Epoch 12/12\n",
      "1817/1817 [==============================] - 8s 4ms/step - loss: 0.0845 - accuracy: 0.9767 - val_loss: 1.4609 - val_accuracy: 0.8055\n",
      "12 / 12\n"
     ]
    }
   ],
   "source": [
    "epochs_list = list(range(1, 13))\n",
    "errors_train = np.zeros(len(epochs_list))\n",
    "errors_valid = np.zeros(len(epochs_list))\n",
    "\n",
    "for i, epoch_num in enumerate(epochs_list):\n",
    "    model = get_model(alpha)\n",
    "    history = model.fit(X_train, Y_train, epochs=epoch_num, validation_data=(X_valid, Y_valid))\n",
    "\n",
    "    train_loss = history.history['accuracy'][-1]\n",
    "    valid_loss = history.history['val_accuracy'][-1]\n",
    "\n",
    "    errors_train[i] = 1 - train_loss\n",
    "    errors_valid[i] = 1 - valid_loss\n",
    "\n",
    "    print(f\"{i + 1} / {len(epochs_list)}\")"
   ]
  },
  {
   "cell_type": "markdown",
   "metadata": {},
   "source": [
    "choose best epoch according to cross-validation accuracy"
   ]
  },
  {
   "cell_type": "code",
   "execution_count": 14,
   "metadata": {},
   "outputs": [
    {
     "data": {
      "text/plain": [
       "8"
      ]
     },
     "execution_count": 14,
     "metadata": {},
     "output_type": "execute_result"
    }
   ],
   "source": [
    "epochs = epochs_list[errors_valid.argmin()]\n",
    "epochs"
   ]
  },
  {
   "cell_type": "code",
   "execution_count": 15,
   "metadata": {},
   "outputs": [
    {
     "data": {
      "text/plain": [
       "Text(0.5, 1.0, 'Error vs. Lambda Value')"
      ]
     },
     "execution_count": 15,
     "metadata": {},
     "output_type": "execute_result"
    },
    {
     "data": {
      "image/png": "[encoded data removed]",
      "text/plain": [
       "<Figure size 864x576 with 1 Axes>"
      ]
     },
     "metadata": {
      "needs_background": "light"
     },
     "output_type": "display_data"
    }
   ],
   "source": [
    "vfig, ax = plt.subplots(figsize=(12,8))\n",
    "ax.plot(epochs_list, errors_valid, 'r', label=\"Validation Error\")\n",
    "ax.plot(epochs_list, errors_train, 'b', label=\"Training Error\")\n",
    "ax.legend(loc=1)\n",
    "ax.set_xlabel('Lambda values')\n",
    "ax.set_ylabel('Error')\n",
    "ax.set_title('Error vs. Lambda Value')"
   ]
  },
  {
   "cell_type": "markdown",
   "metadata": {},
   "source": [
    "##### choose optimal lambda for the model\n",
    "generate 12 different lambda values (including 0)"
   ]
  },
  {
   "cell_type": "code",
   "execution_count": 16,
   "metadata": {},
   "outputs": [],
   "source": [
    "lambdas: list[float] = [0]\n",
    "\n",
    "lambd = 0.0001\n",
    "while len(lambdas) < 10:\n",
    "    lambdas.append(lambd)\n",
    "    \n",
    "    lambd *= 2"
   ]
  },
  {
   "cell_type": "markdown",
   "metadata": {},
   "source": [
    "train model on different regularization parameters and choose the one that performes best on cross-validation data"
   ]
  },
  {
   "cell_type": "code",
   "execution_count": 17,
   "metadata": {},
   "outputs": [
    {
     "name": "stdout",
     "output_type": "stream",
     "text": [
      "Epoch 1/8\n",
      "1817/1817 [==============================] - 7s 4ms/step - loss: 1.3068 - accuracy: 0.6430 - val_loss: 0.8776 - val_accuracy: 0.7537\n",
      "Epoch 2/8\n",
      "1817/1817 [==============================] - 7s 4ms/step - loss: 0.5970 - accuracy: 0.8263 - val_loss: 0.8078 - val_accuracy: 0.7792\n",
      "Epoch 3/8\n",
      "1817/1817 [==============================] - 7s 4ms/step - loss: 0.3605 - accuracy: 0.8922 - val_loss: 0.8243 - val_accuracy: 0.7956\n",
      "Epoch 4/8\n",
      "1817/1817 [==============================] - 6s 4ms/step - loss: 0.2434 - accuracy: 0.9256 - val_loss: 0.9268 - val_accuracy: 0.7982\n",
      "Epoch 5/8\n",
      "1817/1817 [==============================] - 7s 4ms/step - loss: 0.1866 - accuracy: 0.9426 - val_loss: 1.0599 - val_accuracy: 0.7929\n",
      "Epoch 6/8\n",
      "1817/1817 [==============================] - 7s 4ms/step - loss: 0.1479 - accuracy: 0.9557 - val_loss: 1.0861 - val_accuracy: 0.8039\n",
      "Epoch 7/8\n",
      "1817/1817 [==============================] - 7s 4ms/step - loss: 0.1248 - accuracy: 0.9636 - val_loss: 1.1910 - val_accuracy: 0.8029\n",
      "Epoch 8/8\n",
      "1817/1817 [==============================] - 7s 4ms/step - loss: 0.1143 - accuracy: 0.9670 - val_loss: 1.2732 - val_accuracy: 0.8002\n",
      "1 / 10\n",
      "Epoch 1/8\n",
      "1817/1817 [==============================] - 10s 5ms/step - loss: 1.4466 - accuracy: 0.6387 - val_loss: 1.0549 - val_accuracy: 0.7469\n",
      "Epoch 2/8\n",
      "1817/1817 [==============================] - 8s 4ms/step - loss: 0.8151 - accuracy: 0.8155 - val_loss: 0.9747 - val_accuracy: 0.7857\n",
      "Epoch 3/8\n",
      "1817/1817 [==============================] - 8s 4ms/step - loss: 0.6507 - accuracy: 0.8724 - val_loss: 1.0149 - val_accuracy: 0.7949\n",
      "Epoch 4/8\n",
      "1817/1817 [==============================] - 8s 4ms/step - loss: 0.5872 - accuracy: 0.9007 - val_loss: 1.0336 - val_accuracy: 0.8090\n",
      "Epoch 5/8\n",
      "1817/1817 [==============================] - 8s 5ms/step - loss: 0.5475 - accuracy: 0.9185 - val_loss: 1.0601 - val_accuracy: 0.8145\n",
      "Epoch 6/8\n",
      "1817/1817 [==============================] - 8s 4ms/step - loss: 0.5342 - accuracy: 0.9275 - val_loss: 1.0843 - val_accuracy: 0.8179\n",
      "Epoch 7/8\n",
      "1817/1817 [==============================] - 8s 5ms/step - loss: 0.5196 - accuracy: 0.9367 - val_loss: 1.0973 - val_accuracy: 0.8216\n",
      "Epoch 8/8\n",
      "1817/1817 [==============================] - 8s 5ms/step - loss: 0.5105 - accuracy: 0.9413 - val_loss: 1.1199 - val_accuracy: 0.8233\n",
      "2 / 10\n",
      "Epoch 1/8\n",
      "1817/1817 [==============================] - 9s 5ms/step - loss: 1.5319 - accuracy: 0.6424 - val_loss: 1.1361 - val_accuracy: 0.7510\n",
      "Epoch 2/8\n",
      "1817/1817 [==============================] - 8s 4ms/step - loss: 0.9371 - accuracy: 0.8106 - val_loss: 1.0781 - val_accuracy: 0.7847\n",
      "Epoch 3/8\n",
      "1817/1817 [==============================] - 8s 5ms/step - loss: 0.8019 - accuracy: 0.8576 - val_loss: 1.0640 - val_accuracy: 0.8072\n",
      "Epoch 4/8\n",
      "1817/1817 [==============================] - 8s 4ms/step - loss: 0.7395 - accuracy: 0.8861 - val_loss: 1.0860 - val_accuracy: 0.8110\n",
      "Epoch 5/8\n",
      "1817/1817 [==============================] - 8s 4ms/step - loss: 0.7089 - accuracy: 0.8991 - val_loss: 1.0842 - val_accuracy: 0.8172\n",
      "Epoch 6/8\n",
      "1817/1817 [==============================] - 8s 4ms/step - loss: 0.6879 - accuracy: 0.9096 - val_loss: 1.0984 - val_accuracy: 0.8196\n",
      "Epoch 7/8\n",
      "1817/1817 [==============================] - 8s 4ms/step - loss: 0.6671 - accuracy: 0.9170 - val_loss: 1.0978 - val_accuracy: 0.8224\n",
      "Epoch 8/8\n",
      "1817/1817 [==============================] - 8s 4ms/step - loss: 0.6628 - accuracy: 0.9212 - val_loss: 1.0748 - val_accuracy: 0.8314\n",
      "3 / 10\n",
      "Epoch 1/8\n",
      "1817/1817 [==============================] - 9s 4ms/step - loss: 1.6727 - accuracy: 0.6402 - val_loss: 1.2626 - val_accuracy: 0.7475\n",
      "Epoch 2/8\n",
      "1817/1817 [==============================] - 8s 5ms/step - loss: 1.1081 - accuracy: 0.7952 - val_loss: 1.1978 - val_accuracy: 0.7807\n",
      "Epoch 3/8\n",
      "1817/1817 [==============================] - 8s 4ms/step - loss: 0.9926 - accuracy: 0.8361 - val_loss: 1.1747 - val_accuracy: 0.7971\n",
      "Epoch 4/8\n",
      "1817/1817 [==============================] - 9s 5ms/step - loss: 0.9364 - accuracy: 0.8575 - val_loss: 1.1601 - val_accuracy: 0.8125\n",
      "Epoch 5/8\n",
      "1817/1817 [==============================] - 10s 6ms/step - loss: 0.8990 - accuracy: 0.8723 - val_loss: 1.1420 - val_accuracy: 0.8170\n",
      "Epoch 6/8\n",
      "1817/1817 [==============================] - 8s 4ms/step - loss: 0.8806 - accuracy: 0.8804 - val_loss: 1.1446 - val_accuracy: 0.8207\n",
      "Epoch 7/8\n",
      "1817/1817 [==============================] - 8s 4ms/step - loss: 0.8567 - accuracy: 0.8906 - val_loss: 1.1269 - val_accuracy: 0.8225\n",
      "Epoch 8/8\n",
      "1817/1817 [==============================] - 8s 4ms/step - loss: 0.8506 - accuracy: 0.8919 - val_loss: 1.1299 - val_accuracy: 0.8263\n",
      "4 / 10\n",
      "Epoch 1/8\n",
      "1817/1817 [==============================] - 9s 5ms/step - loss: 1.8528 - accuracy: 0.6344 - val_loss: 1.4441 - val_accuracy: 0.7329\n",
      "Epoch 2/8\n",
      "1817/1817 [==============================] - 8s 4ms/step - loss: 1.3133 - accuracy: 0.7719 - val_loss: 1.3176 - val_accuracy: 0.7742\n",
      "Epoch 3/8\n",
      "1817/1817 [==============================] - 8s 4ms/step - loss: 1.2203 - accuracy: 0.8040 - val_loss: 1.3151 - val_accuracy: 0.7789\n",
      "Epoch 4/8\n",
      "1817/1817 [==============================] - 8s 5ms/step - loss: 1.1738 - accuracy: 0.8201 - val_loss: 1.2834 - val_accuracy: 0.7981\n",
      "Epoch 5/8\n",
      "1817/1817 [==============================] - 8s 4ms/step - loss: 1.1437 - accuracy: 0.8332 - val_loss: 1.2785 - val_accuracy: 0.7990\n",
      "Epoch 6/8\n",
      "1817/1817 [==============================] - 8s 4ms/step - loss: 1.1187 - accuracy: 0.8409 - val_loss: 1.2622 - val_accuracy: 0.8077\n",
      "Epoch 7/8\n",
      "1817/1817 [==============================] - 8s 5ms/step - loss: 1.1050 - accuracy: 0.8450 - val_loss: 1.2509 - val_accuracy: 0.8077\n",
      "Epoch 8/8\n",
      "1817/1817 [==============================] - 9s 5ms/step - loss: 1.0843 - accuracy: 0.8507 - val_loss: 1.2493 - val_accuracy: 0.8115\n",
      "5 / 10\n",
      "Epoch 1/8\n",
      "1817/1817 [==============================] - 9s 4ms/step - loss: 2.0760 - accuracy: 0.6278 - val_loss: 1.6563 - val_accuracy: 0.7089\n",
      "Epoch 2/8\n",
      "1817/1817 [==============================] - 8s 4ms/step - loss: 1.5685 - accuracy: 0.7397 - val_loss: 1.5368 - val_accuracy: 0.7519\n",
      "Epoch 3/8\n",
      "1817/1817 [==============================] - 8s 4ms/step - loss: 1.4951 - accuracy: 0.7658 - val_loss: 1.5342 - val_accuracy: 0.7577\n",
      "Epoch 4/8\n",
      "1817/1817 [==============================] - 8s 4ms/step - loss: 1.4553 - accuracy: 0.7786 - val_loss: 1.4973 - val_accuracy: 0.7676\n",
      "Epoch 5/8\n",
      "1817/1817 [==============================] - 8s 4ms/step - loss: 1.4255 - accuracy: 0.7902 - val_loss: 1.4856 - val_accuracy: 0.7689\n",
      "Epoch 6/8\n",
      "1817/1817 [==============================] - 8s 4ms/step - loss: 1.4023 - accuracy: 0.7963 - val_loss: 1.4652 - val_accuracy: 0.7783\n",
      "Epoch 7/8\n",
      "1817/1817 [==============================] - 8s 4ms/step - loss: 1.3815 - accuracy: 0.8006 - val_loss: 1.4365 - val_accuracy: 0.7833\n",
      "Epoch 8/8\n",
      "1817/1817 [==============================] - 8s 4ms/step - loss: 1.3648 - accuracy: 0.8042 - val_loss: 1.4332 - val_accuracy: 0.7803\n",
      "6 / 10\n",
      "Epoch 1/8\n",
      "1817/1817 [==============================] - 8s 4ms/step - loss: 2.3484 - accuracy: 0.6087 - val_loss: 1.9268 - val_accuracy: 0.6877\n",
      "Epoch 2/8\n",
      "1817/1817 [==============================] - 8s 4ms/step - loss: 1.8837 - accuracy: 0.7013 - val_loss: 1.8583 - val_accuracy: 0.7141\n",
      "Epoch 3/8\n",
      "1817/1817 [==============================] - 8s 4ms/step - loss: 1.8327 - accuracy: 0.7173 - val_loss: 1.8210 - val_accuracy: 0.7176\n",
      "Epoch 4/8\n",
      "1817/1817 [==============================] - 8s 5ms/step - loss: 1.7980 - accuracy: 0.7259 - val_loss: 1.7886 - val_accuracy: 0.7296\n",
      "Epoch 5/8\n",
      "1817/1817 [==============================] - 8s 4ms/step - loss: 1.7714 - accuracy: 0.7332 - val_loss: 1.7846 - val_accuracy: 0.7268\n",
      "Epoch 6/8\n",
      "1817/1817 [==============================] - 8s 4ms/step - loss: 1.7475 - accuracy: 0.7391 - val_loss: 1.7688 - val_accuracy: 0.7295\n",
      "Epoch 7/8\n",
      "1817/1817 [==============================] - 8s 4ms/step - loss: 1.7278 - accuracy: 0.7439 - val_loss: 1.7363 - val_accuracy: 0.7421\n",
      "Epoch 8/8\n",
      "1817/1817 [==============================] - 8s 4ms/step - loss: 1.7172 - accuracy: 0.7465 - val_loss: 1.7368 - val_accuracy: 0.7389\n",
      "7 / 10\n",
      "Epoch 1/8\n",
      "1817/1817 [==============================] - 8s 4ms/step - loss: 2.7259 - accuracy: 0.5665 - val_loss: 2.3574 - val_accuracy: 0.6232\n",
      "Epoch 2/8\n",
      "1817/1817 [==============================] - 8s 4ms/step - loss: 2.3059 - accuracy: 0.6366 - val_loss: 2.2684 - val_accuracy: 0.6371\n",
      "Epoch 3/8\n",
      "1817/1817 [==============================] - 8s 4ms/step - loss: 2.2567 - accuracy: 0.6495 - val_loss: 2.2337 - val_accuracy: 0.6525\n",
      "Epoch 4/8\n",
      "1817/1817 [==============================] - 8s 4ms/step - loss: 2.2242 - accuracy: 0.6571 - val_loss: 2.1898 - val_accuracy: 0.6598\n",
      "Epoch 5/8\n",
      "1817/1817 [==============================] - 8s 4ms/step - loss: 2.1957 - accuracy: 0.6634 - val_loss: 2.1852 - val_accuracy: 0.6620\n",
      "Epoch 6/8\n",
      "1817/1817 [==============================] - 8s 4ms/step - loss: 2.1767 - accuracy: 0.6663 - val_loss: 2.1382 - val_accuracy: 0.6748\n",
      "Epoch 7/8\n",
      "1817/1817 [==============================] - 8s 4ms/step - loss: 2.1635 - accuracy: 0.6707 - val_loss: 2.1492 - val_accuracy: 0.6786\n",
      "Epoch 8/8\n",
      "1817/1817 [==============================] - 8s 4ms/step - loss: 2.1505 - accuracy: 0.6734 - val_loss: 2.1575 - val_accuracy: 0.6631\n",
      "8 / 10\n",
      "Epoch 1/8\n",
      "1817/1817 [==============================] - 8s 4ms/step - loss: 3.1952 - accuracy: 0.4708 - val_loss: 2.8022 - val_accuracy: 0.5276\n",
      "Epoch 2/8\n",
      "1817/1817 [==============================] - 7s 4ms/step - loss: 2.8001 - accuracy: 0.5353 - val_loss: 2.7416 - val_accuracy: 0.5584\n",
      "Epoch 3/8\n",
      "1817/1817 [==============================] - 8s 4ms/step - loss: 2.7583 - accuracy: 0.5475 - val_loss: 2.7142 - val_accuracy: 0.5558\n",
      "Epoch 4/8\n",
      "1817/1817 [==============================] - 7s 4ms/step - loss: 2.7272 - accuracy: 0.5549 - val_loss: 2.6953 - val_accuracy: 0.5607\n",
      "Epoch 5/8\n",
      "1817/1817 [==============================] - 7s 4ms/step - loss: 2.7064 - accuracy: 0.5635 - val_loss: 2.6860 - val_accuracy: 0.5761\n",
      "Epoch 6/8\n",
      "1817/1817 [==============================] - 8s 4ms/step - loss: 2.6895 - accuracy: 0.5674 - val_loss: 2.6697 - val_accuracy: 0.5755\n",
      "Epoch 7/8\n",
      "1817/1817 [==============================] - 8s 4ms/step - loss: 2.6779 - accuracy: 0.5694 - val_loss: 2.6561 - val_accuracy: 0.5782\n",
      "Epoch 8/8\n",
      "1817/1817 [==============================] - 8s 4ms/step - loss: 2.6694 - accuracy: 0.5734 - val_loss: 2.6530 - val_accuracy: 0.5688\n",
      "9 / 10\n",
      "Epoch 1/8\n",
      "1817/1817 [==============================] - 8s 4ms/step - loss: 3.6690 - accuracy: 0.2154 - val_loss: 3.2897 - val_accuracy: 0.2502\n",
      "Epoch 2/8\n",
      "1817/1817 [==============================] - 8s 4ms/step - loss: 3.2659 - accuracy: 0.2568 - val_loss: 3.2420 - val_accuracy: 0.2574\n",
      "Epoch 3/8\n",
      "1817/1817 [==============================] - 8s 4ms/step - loss: 3.2407 - accuracy: 0.2679 - val_loss: 3.2225 - val_accuracy: 0.2784\n",
      "Epoch 4/8\n",
      "1817/1817 [==============================] - 8s 4ms/step - loss: 3.2257 - accuracy: 0.2745 - val_loss: 3.1998 - val_accuracy: 0.2876\n",
      "Epoch 5/8\n",
      "1817/1817 [==============================] - 8s 4ms/step - loss: 3.2146 - accuracy: 0.2820 - val_loss: 3.2188 - val_accuracy: 0.2732\n",
      "Epoch 6/8\n",
      "1817/1817 [==============================] - 8s 4ms/step - loss: 3.2082 - accuracy: 0.2858 - val_loss: 3.1986 - val_accuracy: 0.2676\n",
      "Epoch 7/8\n",
      "1817/1817 [==============================] - 8s 4ms/step - loss: 3.2021 - accuracy: 0.2854 - val_loss: 3.1951 - val_accuracy: 0.2834\n",
      "Epoch 8/8\n",
      "1817/1817 [==============================] - 8s 4ms/step - loss: 3.1970 - accuracy: 0.2921 - val_loss: 3.1848 - val_accuracy: 0.3021\n",
      "10 / 10\n"
     ]
    }
   ],
   "source": [
    "errors_train = np.zeros(len(lambdas))\n",
    "errors_valid = np.zeros(len(lambdas))\n",
    "models: list[tf.keras.Sequential] = []\n",
    "\n",
    "for i, lambd in enumerate(lambdas):\n",
    "    model = get_model(alpha, lambd)\n",
    "    history = model.fit(X_train, Y_train, epochs=epochs, validation_data=(X_valid, Y_valid))\n",
    "    models.append(model)\n",
    "\n",
    "    train_loss = history.history['accuracy'][-1]\n",
    "    valid_loss = history.history['val_accuracy'][-1]\n",
    "\n",
    "    errors_train[i] = 1 - train_loss\n",
    "    errors_valid[i] = 1 - valid_loss\n",
    "\n",
    "    print(f\"{i + 1} / {len(lambdas)}\")"
   ]
  },
  {
   "cell_type": "markdown",
   "metadata": {},
   "source": [
    "get the best lambda and the best model acording to the cross-validation accuracy"
   ]
  },
  {
   "cell_type": "code",
   "execution_count": 18,
   "metadata": {},
   "outputs": [
    {
     "data": {
      "text/plain": [
       "0.0002"
      ]
     },
     "execution_count": 18,
     "metadata": {},
     "output_type": "execute_result"
    }
   ],
   "source": [
    "lambd = lambdas[errors_valid.argmin()]\n",
    "model = models[errors_valid.argmin()]\n",
    "lambd"
   ]
  },
  {
   "cell_type": "code",
   "execution_count": 19,
   "metadata": {},
   "outputs": [
    {
     "data": {
      "text/plain": [
       "Text(0.5, 1.0, 'Error vs. Lambda Value')"
      ]
     },
     "execution_count": 19,
     "metadata": {},
     "output_type": "execute_result"
    },
    {
     "data": {
      "image/png": "[encoded data removed]",
      "text/plain": [
       "<Figure size 864x576 with 1 Axes>"
      ]
     },
     "metadata": {
      "needs_background": "light"
     },
     "output_type": "display_data"
    }
   ],
   "source": [
    "vfig, ax = plt.subplots(figsize=(12,8))\n",
    "ax.set_xscale('log') # lambdas grow exponentially, logarithmic scales makes it easier to view the change in distances\n",
    "ax.plot(lambdas, errors_valid, 'r', label=\"Validation Error\")\n",
    "ax.plot(lambdas, errors_train, 'b', label=\"Training Error\")\n",
    "ax.legend(loc=1)\n",
    "ax.set_xlabel('Lambda values')\n",
    "ax.set_ylabel('Error')\n",
    "ax.set_title('Error vs. Lambda Value')"
   ]
  },
  {
   "cell_type": "markdown",
   "metadata": {},
   "source": [
    "##### debug model using learning curves"
   ]
  },
  {
   "cell_type": "code",
   "execution_count": 20,
   "metadata": {},
   "outputs": [
    {
     "name": "stdout",
     "output_type": "stream",
     "text": [
      "Epoch 1/8\n",
      "182/182 [==============================] - 1s 5ms/step - loss: 2.8122 - accuracy: 0.3155 - val_loss: 2.0224 - val_accuracy: 0.5034\n",
      "Epoch 2/8\n",
      "182/182 [==============================] - 1s 4ms/step - loss: 1.2317 - accuracy: 0.7244 - val_loss: 1.8009 - val_accuracy: 0.5803\n",
      "Epoch 3/8\n",
      "182/182 [==============================] - 1s 4ms/step - loss: 0.6865 - accuracy: 0.8856 - val_loss: 1.8844 - val_accuracy: 0.5916\n",
      "Epoch 4/8\n",
      "182/182 [==============================] - 1s 4ms/step - loss: 0.4846 - accuracy: 0.9388 - val_loss: 1.9903 - val_accuracy: 0.5891\n",
      "Epoch 5/8\n",
      "182/182 [==============================] - 1s 4ms/step - loss: 0.3976 - accuracy: 0.9668 - val_loss: 2.0814 - val_accuracy: 0.5906\n",
      "Epoch 6/8\n",
      "182/182 [==============================] - 1s 4ms/step - loss: 0.3365 - accuracy: 0.9766 - val_loss: 2.1296 - val_accuracy: 0.6020\n",
      "Epoch 7/8\n",
      "182/182 [==============================] - 1s 4ms/step - loss: 0.3021 - accuracy: 0.9845 - val_loss: 2.1735 - val_accuracy: 0.5999\n",
      "Epoch 8/8\n",
      "182/182 [==============================] - 1s 4ms/step - loss: 0.2746 - accuracy: 0.9914 - val_loss: 2.1912 - val_accuracy: 0.6092\n",
      "1 / 10\n",
      "Epoch 1/8\n",
      "364/364 [==============================] - 2s 5ms/step - loss: 2.2988 - accuracy: 0.4408 - val_loss: 1.6310 - val_accuracy: 0.6077\n",
      "Epoch 2/8\n",
      "364/364 [==============================] - 1s 4ms/step - loss: 1.0549 - accuracy: 0.7687 - val_loss: 1.5605 - val_accuracy: 0.6465\n",
      "Epoch 3/8\n",
      "364/364 [==============================] - 2s 4ms/step - loss: 0.6971 - accuracy: 0.8742 - val_loss: 1.6305 - val_accuracy: 0.6591\n",
      "Epoch 4/8\n",
      "364/364 [==============================] - 1s 4ms/step - loss: 0.5387 - accuracy: 0.9275 - val_loss: 1.7266 - val_accuracy: 0.6568\n",
      "Epoch 5/8\n",
      "364/364 [==============================] - 2s 4ms/step - loss: 0.4671 - accuracy: 0.9477 - val_loss: 1.8549 - val_accuracy: 0.6560\n",
      "Epoch 6/8\n",
      "364/364 [==============================] - 2s 4ms/step - loss: 0.4305 - accuracy: 0.9635 - val_loss: 1.9847 - val_accuracy: 0.6552\n",
      "Epoch 7/8\n",
      "364/364 [==============================] - 2s 4ms/step - loss: 0.4609 - accuracy: 0.9540 - val_loss: 2.1268 - val_accuracy: 0.6583\n",
      "Epoch 8/8\n",
      "364/364 [==============================] - 2s 4ms/step - loss: 0.4978 - accuracy: 0.9524 - val_loss: 2.1898 - val_accuracy: 0.6459\n",
      "2 / 10\n",
      "Epoch 1/8\n",
      "546/546 [==============================] - 3s 5ms/step - loss: 2.0841 - accuracy: 0.4922 - val_loss: 1.4758 - val_accuracy: 0.6510\n",
      "Epoch 2/8\n",
      "546/546 [==============================] - 2s 5ms/step - loss: 1.0476 - accuracy: 0.7715 - val_loss: 1.4488 - val_accuracy: 0.6790\n",
      "Epoch 3/8\n",
      "546/546 [==============================] - 2s 4ms/step - loss: 0.7433 - accuracy: 0.8629 - val_loss: 1.5221 - val_accuracy: 0.6926\n",
      "Epoch 4/8\n",
      "546/546 [==============================] - 2s 4ms/step - loss: 0.6120 - accuracy: 0.9071 - val_loss: 1.6182 - val_accuracy: 0.6967\n",
      "Epoch 5/8\n",
      "546/546 [==============================] - 2s 4ms/step - loss: 0.5748 - accuracy: 0.9220 - val_loss: 1.7083 - val_accuracy: 0.6971\n",
      "Epoch 6/8\n",
      "546/546 [==============================] - 2s 4ms/step - loss: 0.5503 - accuracy: 0.9387 - val_loss: 1.7556 - val_accuracy: 0.7089\n",
      "Epoch 7/8\n",
      "546/546 [==============================] - 2s 4ms/step - loss: 0.5450 - accuracy: 0.9423 - val_loss: 1.8342 - val_accuracy: 0.7034\n",
      "Epoch 8/8\n",
      "546/546 [==============================] - 2s 4ms/step - loss: 0.5019 - accuracy: 0.9611 - val_loss: 1.8758 - val_accuracy: 0.7014\n",
      "3 / 10\n",
      "Epoch 1/8\n",
      "727/727 [==============================] - 4s 4ms/step - loss: 1.9324 - accuracy: 0.5333 - val_loss: 1.3882 - val_accuracy: 0.6749\n",
      "Epoch 2/8\n",
      "727/727 [==============================] - 3s 4ms/step - loss: 1.0239 - accuracy: 0.7810 - val_loss: 1.3356 - val_accuracy: 0.7066\n",
      "Epoch 3/8\n",
      "727/727 [==============================] - 3s 4ms/step - loss: 0.7715 - accuracy: 0.8587 - val_loss: 1.3835 - val_accuracy: 0.7105\n",
      "Epoch 4/8\n",
      "727/727 [==============================] - 3s 4ms/step - loss: 0.6611 - accuracy: 0.8972 - val_loss: 1.4670 - val_accuracy: 0.7151\n",
      "Epoch 5/8\n",
      "727/727 [==============================] - 3s 5ms/step - loss: 0.6146 - accuracy: 0.9169 - val_loss: 1.5572 - val_accuracy: 0.7261\n",
      "Epoch 6/8\n",
      "727/727 [==============================] - 3s 4ms/step - loss: 0.5889 - accuracy: 0.9301 - val_loss: 1.6369 - val_accuracy: 0.7166\n",
      "Epoch 7/8\n",
      "727/727 [==============================] - 3s 4ms/step - loss: 0.5741 - accuracy: 0.9398 - val_loss: 1.6423 - val_accuracy: 0.7314\n",
      "Epoch 8/8\n",
      "727/727 [==============================] - 3s 4ms/step - loss: 0.5592 - accuracy: 0.9472 - val_loss: 1.5997 - val_accuracy: 0.7436\n",
      "4 / 10\n",
      "Epoch 1/8\n",
      "909/909 [==============================] - 4s 4ms/step - loss: 1.8232 - accuracy: 0.5624 - val_loss: 1.3402 - val_accuracy: 0.6842\n",
      "Epoch 2/8\n",
      "909/909 [==============================] - 4s 4ms/step - loss: 1.0017 - accuracy: 0.7858 - val_loss: 1.2652 - val_accuracy: 0.7272\n",
      "Epoch 3/8\n",
      "909/909 [==============================] - 4s 5ms/step - loss: 0.7817 - accuracy: 0.8578 - val_loss: 1.3308 - val_accuracy: 0.7332\n",
      "Epoch 4/8\n",
      "909/909 [==============================] - 4s 5ms/step - loss: 0.6933 - accuracy: 0.8915 - val_loss: 1.3454 - val_accuracy: 0.7518\n",
      "Epoch 5/8\n",
      "909/909 [==============================] - 4s 4ms/step - loss: 0.6466 - accuracy: 0.9130 - val_loss: 1.4542 - val_accuracy: 0.7469\n",
      "Epoch 6/8\n",
      "909/909 [==============================] - 4s 5ms/step - loss: 0.6136 - accuracy: 0.9259 - val_loss: 1.4606 - val_accuracy: 0.7494\n",
      "Epoch 7/8\n",
      "909/909 [==============================] - 4s 5ms/step - loss: 0.6149 - accuracy: 0.9309 - val_loss: 1.4795 - val_accuracy: 0.7560\n",
      "Epoch 8/8\n",
      "909/909 [==============================] - 4s 5ms/step - loss: 0.5761 - accuracy: 0.9439 - val_loss: 1.4878 - val_accuracy: 0.7689\n",
      "5 / 10\n",
      "Epoch 1/8\n",
      "1091/1091 [==============================] - 5s 5ms/step - loss: 1.7363 - accuracy: 0.5877 - val_loss: 1.2778 - val_accuracy: 0.7055\n",
      "Epoch 2/8\n",
      "1091/1091 [==============================] - 5s 4ms/step - loss: 0.9883 - accuracy: 0.7901 - val_loss: 1.2279 - val_accuracy: 0.7391\n",
      "Epoch 3/8\n",
      "1091/1091 [==============================] - 5s 4ms/step - loss: 0.7913 - accuracy: 0.8559 - val_loss: 1.2305 - val_accuracy: 0.7568\n",
      "Epoch 4/8\n",
      "1091/1091 [==============================] - 5s 4ms/step - loss: 0.7007 - accuracy: 0.8905 - val_loss: 1.2728 - val_accuracy: 0.7717\n",
      "Epoch 5/8\n",
      "1091/1091 [==============================] - 5s 4ms/step - loss: 0.6650 - accuracy: 0.9074 - val_loss: 1.3499 - val_accuracy: 0.7637\n",
      "Epoch 6/8\n",
      "1091/1091 [==============================] - 5s 4ms/step - loss: 0.6465 - accuracy: 0.9182 - val_loss: 1.3422 - val_accuracy: 0.7754\n",
      "Epoch 7/8\n",
      "1091/1091 [==============================] - 5s 5ms/step - loss: 0.6186 - accuracy: 0.9299 - val_loss: 1.3726 - val_accuracy: 0.7771\n",
      "Epoch 8/8\n",
      "1091/1091 [==============================] - 5s 4ms/step - loss: 0.6143 - accuracy: 0.9342 - val_loss: 1.3781 - val_accuracy: 0.7837\n",
      "6 / 10\n",
      "Epoch 1/8\n",
      "1272/1272 [==============================] - 6s 5ms/step - loss: 1.6760 - accuracy: 0.6026 - val_loss: 1.2331 - val_accuracy: 0.7211\n",
      "Epoch 2/8\n",
      "1272/1272 [==============================] - 6s 4ms/step - loss: 0.9766 - accuracy: 0.7952 - val_loss: 1.1575 - val_accuracy: 0.7600\n",
      "Epoch 3/8\n",
      "1272/1272 [==============================] - 6s 5ms/step - loss: 0.7954 - accuracy: 0.8544 - val_loss: 1.1985 - val_accuracy: 0.7732\n",
      "Epoch 4/8\n",
      "1272/1272 [==============================] - 6s 4ms/step - loss: 0.7192 - accuracy: 0.8869 - val_loss: 1.2483 - val_accuracy: 0.7769\n",
      "Epoch 5/8\n",
      "1272/1272 [==============================] - 6s 4ms/step - loss: 0.6796 - accuracy: 0.9056 - val_loss: 1.2616 - val_accuracy: 0.7845\n",
      "Epoch 6/8\n",
      "1272/1272 [==============================] - 6s 5ms/step - loss: 0.6559 - accuracy: 0.9178 - val_loss: 1.2321 - val_accuracy: 0.7993\n",
      "Epoch 7/8\n",
      "1272/1272 [==============================] - 6s 5ms/step - loss: 0.6351 - accuracy: 0.9261 - val_loss: 1.2793 - val_accuracy: 0.7908\n",
      "Epoch 8/8\n",
      "1272/1272 [==============================] - 6s 5ms/step - loss: 0.6243 - accuracy: 0.9309 - val_loss: 1.2544 - val_accuracy: 0.7991\n",
      "7 / 10\n",
      "Epoch 1/8\n",
      "1454/1454 [==============================] - 7s 5ms/step - loss: 1.6269 - accuracy: 0.6160 - val_loss: 1.2132 - val_accuracy: 0.7232\n",
      "Epoch 2/8\n",
      "1454/1454 [==============================] - 7s 5ms/step - loss: 0.9705 - accuracy: 0.7971 - val_loss: 1.1264 - val_accuracy: 0.7686\n",
      "Epoch 3/8\n",
      "1454/1454 [==============================] - 7s 5ms/step - loss: 0.8029 - accuracy: 0.8557 - val_loss: 1.1305 - val_accuracy: 0.7810\n",
      "Epoch 4/8\n",
      "1454/1454 [==============================] - 7s 5ms/step - loss: 0.7326 - accuracy: 0.8828 - val_loss: 1.1742 - val_accuracy: 0.7888\n",
      "Epoch 5/8\n",
      "1454/1454 [==============================] - 7s 5ms/step - loss: 0.6955 - accuracy: 0.9016 - val_loss: 1.1857 - val_accuracy: 0.7966\n",
      "Epoch 6/8\n",
      "1454/1454 [==============================] - 7s 5ms/step - loss: 0.6639 - accuracy: 0.9161 - val_loss: 1.2433 - val_accuracy: 0.7940\n",
      "Epoch 7/8\n",
      "1454/1454 [==============================] - 7s 5ms/step - loss: 0.6527 - accuracy: 0.9212 - val_loss: 1.2223 - val_accuracy: 0.8016\n",
      "Epoch 8/8\n",
      "1454/1454 [==============================] - 7s 5ms/step - loss: 0.6420 - accuracy: 0.9283 - val_loss: 1.2251 - val_accuracy: 0.8047\n",
      "8 / 10\n",
      "Epoch 1/8\n",
      "1636/1636 [==============================] - 8s 5ms/step - loss: 1.5764 - accuracy: 0.6290 - val_loss: 1.1720 - val_accuracy: 0.7402\n",
      "Epoch 2/8\n",
      "1636/1636 [==============================] - 7s 5ms/step - loss: 0.9537 - accuracy: 0.8049 - val_loss: 1.0893 - val_accuracy: 0.7822\n",
      "Epoch 3/8\n",
      "1636/1636 [==============================] - 8s 5ms/step - loss: 0.8095 - accuracy: 0.8561 - val_loss: 1.0909 - val_accuracy: 0.8001\n",
      "Epoch 4/8\n",
      "1636/1636 [==============================] - 7s 5ms/step - loss: 0.7390 - accuracy: 0.8847 - val_loss: 1.1140 - val_accuracy: 0.8092\n",
      "Epoch 5/8\n",
      "1636/1636 [==============================] - 7s 5ms/step - loss: 0.7009 - accuracy: 0.9026 - val_loss: 1.1333 - val_accuracy: 0.8057\n",
      "Epoch 6/8\n",
      "1636/1636 [==============================] - 7s 4ms/step - loss: 0.6828 - accuracy: 0.9109 - val_loss: 1.1309 - val_accuracy: 0.8143\n",
      "Epoch 7/8\n",
      "1636/1636 [==============================] - 8s 5ms/step - loss: 0.6633 - accuracy: 0.9180 - val_loss: 1.1600 - val_accuracy: 0.8161\n",
      "Epoch 8/8\n",
      "1636/1636 [==============================] - 7s 5ms/step - loss: 0.6557 - accuracy: 0.9245 - val_loss: 1.1501 - val_accuracy: 0.8204\n",
      "9 / 10\n",
      "Epoch 1/8\n",
      "1817/1817 [==============================] - 9s 5ms/step - loss: 1.5256 - accuracy: 0.6419 - val_loss: 1.1606 - val_accuracy: 0.7432\n",
      "Epoch 2/8\n",
      "1817/1817 [==============================] - 8s 5ms/step - loss: 0.9418 - accuracy: 0.8086 - val_loss: 1.0921 - val_accuracy: 0.7806\n",
      "Epoch 3/8\n",
      "1817/1817 [==============================] - 8s 5ms/step - loss: 0.8090 - accuracy: 0.8570 - val_loss: 1.0711 - val_accuracy: 0.8009\n",
      "Epoch 4/8\n",
      "1817/1817 [==============================] - 8s 4ms/step - loss: 0.7431 - accuracy: 0.8830 - val_loss: 1.0889 - val_accuracy: 0.8143\n",
      "Epoch 5/8\n",
      "1817/1817 [==============================] - 8s 4ms/step - loss: 0.7104 - accuracy: 0.8995 - val_loss: 1.1131 - val_accuracy: 0.8111\n",
      "Epoch 6/8\n",
      "1817/1817 [==============================] - 8s 5ms/step - loss: 0.6897 - accuracy: 0.9086 - val_loss: 1.1079 - val_accuracy: 0.8181\n",
      "Epoch 7/8\n",
      "1817/1817 [==============================] - 8s 4ms/step - loss: 0.6759 - accuracy: 0.9138 - val_loss: 1.1317 - val_accuracy: 0.8171\n",
      "Epoch 8/8\n",
      "1817/1817 [==============================] - 8s 4ms/step - loss: 0.6604 - accuracy: 0.9210 - val_loss: 1.1165 - val_accuracy: 0.8195\n",
      "10 / 10\n"
     ]
    }
   ],
   "source": [
    "errors_train = np.zeros(10)\n",
    "errors_valid = np.zeros(10)\n",
    "\n",
    "for i in range(10):\n",
    "    X_train_div = X_train[0: int(((i + 1) * X_train.shape[0]) / 10), :]\n",
    "    Y_train_div = Y_train[0: int(((i + 1) * Y_train.shape[0]) / 10), :]\n",
    "    X_valid_div = X_valid[0: int(((i + 1) * X_valid.shape[0]) / 10), :]\n",
    "    Y_valid_div = Y_valid[0: int(((i + 1) * Y_valid.shape[0]) / 10), :]\n",
    "\n",
    "    model = get_model(alpha, lambd)\n",
    "    history = model.fit(X_train_div, Y_train_div, epochs=epochs, validation_data=(X_valid_div, Y_valid_div))\n",
    "\n",
    "    train_accuracy = history.history['accuracy'][-1]\n",
    "    valid_accuracy = history.history['val_accuracy'][-1]\n",
    "\n",
    "    errors_train[i] = 1 - train_accuracy\n",
    "    errors_valid[i] = 1 - valid_accuracy\n",
    "\n",
    "    print(f\"{i + 1} / 10\")    "
   ]
  },
  {
   "cell_type": "code",
   "execution_count": 21,
   "metadata": {},
   "outputs": [
    {
     "data": {
      "text/plain": [
       "Text(0.5, 1.0, 'Error vs. Data Size')"
      ]
     },
     "execution_count": 21,
     "metadata": {},
     "output_type": "execute_result"
    },
    {
     "data": {
      "image/png": "[encoded data removed]",
      "text/plain": [
       "<Figure size 864x576 with 1 Axes>"
      ]
     },
     "metadata": {
      "needs_background": "light"
     },
     "output_type": "display_data"
    }
   ],
   "source": [
    "vfig, ax = plt.subplots(figsize=(12,8))\n",
    "ax.plot(np.arange(10) + 1, errors_valid, 'r', label=\"Validation Error\")\n",
    "ax.plot(np.arange(10) + 1, errors_train, 'b', label=\"Training Error\")\n",
    "ax.legend(loc=1)\n",
    "ax.set_xlabel('Data size')\n",
    "ax.set_ylabel('Error')\n",
    "ax.set_title('Error vs. Data Size')"
   ]
  },
  {
   "cell_type": "code",
   "execution_count": 22,
   "metadata": {},
   "outputs": [],
   "source": [
    "def predict(predictions: np.matrix) -> np.matrix:\n",
    "    return to_one_hot(np.asarray(predictions.argmax(axis=1)).ravel(), num_chars)"
   ]
  },
  {
   "cell_type": "code",
   "execution_count": 23,
   "metadata": {},
   "outputs": [],
   "source": [
    "def get_accuracy(model: tf.keras.Sequential, X: np.matrix, Y: np.matrix) -> float:\n",
    "    return (predict(model.predict(X)) == Y).all(axis=1).mean()"
   ]
  },
  {
   "cell_type": "code",
   "execution_count": 28,
   "metadata": {},
   "outputs": [
    {
     "data": {
      "text/plain": [
       "0.9420344697100004"
      ]
     },
     "execution_count": 28,
     "metadata": {},
     "output_type": "execute_result"
    }
   ],
   "source": [
    "get_accuracy(model, X_train, Y_train)"
   ]
  },
  {
   "cell_type": "markdown",
   "metadata": {},
   "source": [
    "Save neural network model, saved data as a folder"
   ]
  },
  {
   "cell_type": "code",
   "execution_count": 31,
   "metadata": {},
   "outputs": [
    {
     "name": "stderr",
     "output_type": "stream",
     "text": [
      "2022-02-09 00:19:54.454731: W tensorflow/python/util/util.cc:368] Sets are not currently considered sequences, but this may change in the future, so consider avoiding using them.\n"
     ]
    },
    {
     "name": "stdout",
     "output_type": "stream",
     "text": [
      "INFO:tensorflow:Assets written to: ./andria_kilasonia_nn_model/assets\n"
     ]
    }
   ],
   "source": [
    "model.save(\"./andria_kilasonia_nn_model\")"
   ]
  },
  {
   "cell_type": "markdown",
   "metadata": {},
   "source": [
    "Save data reduction matrix"
   ]
  },
  {
   "cell_type": "code",
   "execution_count": 32,
   "metadata": {},
   "outputs": [],
   "source": [
    "np.save('andria_kilasonia_reduce_matrix.npy', u_reduce)"
   ]
  },
  {
   "cell_type": "markdown",
   "metadata": {},
   "source": [
    "Save mean of the training data to normilize new inputs"
   ]
  },
  {
   "cell_type": "code",
   "execution_count": 34,
   "metadata": {},
   "outputs": [],
   "source": [
    "np.save(\"andria_kilasonia_data_mean.npy\", X_train_mean)"
   ]
  }
 ],
 "metadata": {
  "interpreter": {
   "hash": "d80a6ad3f177f820c16ffddce5e20b9780a5a50a827e881a42629beae35f11cc"
  },
  "kernelspec": {
   "display_name": "Python 3.9.7 64-bit ('Freeuni_ML': conda)",
   "language": "python",
   "name": "python3"
  },
  "language_info": {
   "codemirror_mode": {
    "name": "ipython",
    "version": 3
   },
   "file_extension": ".py",
   "mimetype": "text/x-python",
   "name": "python",
   "nbconvert_exporter": "python",
   "pygments_lexer": "ipython3",
   "version": "3.9.7"
  },
  "orig_nbformat": 4
 },
 "nbformat": 4,
 "nbformat_minor": 2
}
