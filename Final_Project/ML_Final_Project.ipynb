{
 "cells": [
  {
   "cell_type": "markdown",
   "metadata": {},
   "source": [
    "# Georgian Digital Alphabet Recognition"
   ]
  },
  {
   "cell_type": "markdown",
   "metadata": {},
   "source": [
    "### Preprocessing\n",
    "add useful imports"
   ]
  },
  {
   "cell_type": "code",
   "execution_count": 10,
   "metadata": {},
   "outputs": [],
   "source": [
    "import numpy as np\n",
    "import matplotlib.pyplot as plt\n",
    "import os\n",
    "%matplotlib inline"
   ]
  },
  {
   "cell_type": "markdown",
   "metadata": {},
   "source": [
    "turns a number to a one hot array"
   ]
  },
  {
   "cell_type": "code",
   "execution_count": 11,
   "metadata": {},
   "outputs": [],
   "source": [
    "def to_one_hot(values: np.ndarray, max: int) -> np.matrix:\n",
    "    one_hot = np.zeros((values.size, max))\n",
    "    rows = np.arange(values.size)\n",
    "    one_hot[rows, values] = 1    \n",
    "\n",
    "    return one_hot"
   ]
  },
  {
   "cell_type": "markdown",
   "metadata": {},
   "source": [
    "import image data and convert images to numpy arrays"
   ]
  },
  {
   "cell_type": "code",
   "execution_count": 12,
   "metadata": {},
   "outputs": [],
   "source": [
    "import matplotlib.image as im\n",
    "\n",
    "X_arr = list[np.ndarray]()\n",
    "Y_arr = list[int]()\n",
    "num_chars = ord(\"ჰ\") - ord(\"ა\")\n",
    "\n",
    "for i in range(num_chars):\n",
    "    char = chr(ord(\"ა\") + i)\n",
    "\n",
    "    file_path = f\"data/images/{char}\"\n",
    "    for image in os.listdir(file_path):\n",
    "        img_data = im.imread(f\"{file_path}/{image}\").ravel()\n",
    "\n",
    "        X_arr.append(np.append(img_data, np.ones(10000 - len(img_data))))\n",
    "        Y_arr.append(i)"
   ]
  },
  {
   "cell_type": "markdown",
   "metadata": {},
   "source": [
    "turn list of image values to numpy matrix, values to one_hot vector"
   ]
  },
  {
   "cell_type": "code",
   "execution_count": 13,
   "metadata": {},
   "outputs": [
    {
     "data": {
      "text/plain": [
       "((28160, 10000), (28160, 32))"
      ]
     },
     "execution_count": 13,
     "metadata": {},
     "output_type": "execute_result"
    }
   ],
   "source": [
    "X = np.asmatrix(X_arr)\n",
    "Y = to_one_hot(np.asarray(Y_arr), num_chars)\n",
    "\n",
    "X.shape, Y.shape"
   ]
  },
  {
   "cell_type": "markdown",
   "metadata": {},
   "source": [
    "divide data to train, validation, and test"
   ]
  },
  {
   "cell_type": "code",
   "execution_count": 14,
   "metadata": {},
   "outputs": [
    {
     "data": {
      "text/plain": [
       "((16896, 10000), (5632, 10000), (5632, 10000))"
      ]
     },
     "execution_count": 14,
     "metadata": {},
     "output_type": "execute_result"
    }
   ],
   "source": [
    "division_points = (int(X.shape[0] * 0.6), int(X.shape[0] * 0.8))\n",
    "\n",
    "data = np.append(X, Y, 1)\n",
    "np.random.shuffle(data)\n",
    "\n",
    "X = data[:, 0: X.shape[1]]\n",
    "Y = data[:, X.shape[1]:]\n",
    "\n",
    "X_train = X[0: division_points[0], :]\n",
    "Y_train = Y[0: division_points[0], :]\n",
    "\n",
    "X_valid = X[division_points[0]: division_points[1], :]\n",
    "Y_valid = Y[division_points[0]: division_points[1], :]\n",
    "\n",
    "X_test = X[division_points[1]:, :]\n",
    "Y_test = Y[division_points[1]:, :]\n",
    "\n",
    "X_train.shape, X_valid.shape, X_test.shape"
   ]
  },
  {
   "cell_type": "markdown",
   "metadata": {},
   "source": [
    "add normalizarion to the three datas seperately"
   ]
  },
  {
   "cell_type": "code",
   "execution_count": 15,
   "metadata": {},
   "outputs": [],
   "source": [
    "X_train -= X_train.mean(0)\n",
    "X_valid -= X_valid.mean(0)\n",
    "X_test -= X_test.mean(0)"
   ]
  },
  {
   "cell_type": "markdown",
   "metadata": {},
   "source": [
    "#### Reduce dimensions using PCA for data compression reasons\n",
    "find minimum dimension to reduce data to"
   ]
  },
  {
   "cell_type": "code",
   "execution_count": 16,
   "metadata": {},
   "outputs": [],
   "source": [
    "min_dimension = 0\n",
    "\n",
    "sigma = (1 / X_train.shape[0]) * X.T * X\n",
    "u, s, _ = np.linalg.svd(sigma)\n",
    "\n",
    "dimension_sum = 0\n",
    "full_sum = np.sum(s)\n",
    "\n",
    "for k in range(len(s)):\n",
    "    dimension_sum += s[k]\n",
    "    variance_retained = dimension_sum / full_sum\n",
    "\n",
    "    if variance_retained > 0.99:\n",
    "        min_dimension = k\n",
    "        break"
   ]
  },
  {
   "cell_type": "code",
   "execution_count": 17,
   "metadata": {},
   "outputs": [
    {
     "data": {
      "text/plain": [
       "1902"
      ]
     },
     "execution_count": 17,
     "metadata": {},
     "output_type": "execute_result"
    }
   ],
   "source": [
    "min_dimension"
   ]
  },
  {
   "cell_type": "markdown",
   "metadata": {},
   "source": [
    "reduce data"
   ]
  },
  {
   "cell_type": "code",
   "execution_count": 18,
   "metadata": {},
   "outputs": [
    {
     "data": {
      "text/plain": [
       "((16896, 1902), (5632, 1902), (5632, 1902))"
      ]
     },
     "execution_count": 18,
     "metadata": {},
     "output_type": "execute_result"
    }
   ],
   "source": [
    "u_reduce = u[:, : min_dimension]\n",
    "\n",
    "X_train = X_train * u_reduce\n",
    "X_valid = X_valid * u_reduce\n",
    "X_test = X_test * u_reduce\n",
    "\n",
    "X_train.shape, X_valid.shape, X_test.shape"
   ]
  },
  {
   "cell_type": "markdown",
   "metadata": {},
   "source": [
    "### Define neural network model class"
   ]
  },
  {
   "cell_type": "code",
   "execution_count": 41,
   "metadata": {},
   "outputs": [],
   "source": [
    "class NeuralNetworkModel:\n",
    "    def __init__(self, in_size: int, out_size: int, hidden_sizes: list[int]) -> None:\n",
    "        self.layers: list[int] = [in_size] + hidden_sizes + [out_size]\n",
    "        \n",
    "        self.thetas = list[np.matrix]()\n",
    "        self.biases = list[np.matrix]()\n",
    "\n",
    "        for i in range(len(self.layers) - 1):\n",
    "            prev_size: int = self.layers[i]\n",
    "            next_size: int = self.layers[i + 1]\n",
    "\n",
    "            # for large inputs dividing by the sqrt of the size helps to keep weight and layer values low\n",
    "            self.thetas.append(np.asmatrix(np.random.standard_normal((next_size, prev_size)) / np.sqrt(in_size)))\n",
    "            self.biases.append(np.asmatrix(np.random.standard_normal((next_size, 1))))\n",
    "\n",
    "    def __ReLU(self, X: np.matrix) -> np.matrix:\n",
    "        return np.maximum(0, X)\n",
    "\n",
    "    def __ReLU_grad(self, X: np.matrix) -> np.matrix:\n",
    "        return np.where(X <= 0, 0, 1)\n",
    "\n",
    "    def __sigmoid(self, X: np.matrix) -> np.matrix:\n",
    "        ephsilon = 1e-5 # to avoid returning 1\n",
    "        X = X.clip(-500, 500) # to prevent overflows\n",
    "\n",
    "        return np.divide(1, 1 + np.exp(-X) + ephsilon)\n",
    "\n",
    "    def __forward(self, input: np.matrix, thetas: list[np.matrix]) -> tuple[np.matrix, list[np.matrix]]:\n",
    "        result: np.matrix = input\n",
    "        layer_values: list[np.matrix] = [input]\n",
    "\n",
    "        for i in range(len(self.layers) - 1):\n",
    "            # z(i)\n",
    "            result = np.dot(result, thetas[i].T)\n",
    "            result = np.add(result, self.biases[i].T)\n",
    "            # a(i)\n",
    "            if i != len(self.layers) - 2: \n",
    "                result = self.__ReLU(result)\n",
    "                layer_values.append(result)\n",
    "\n",
    "            else: result = self.__sigmoid(result)\n",
    "\n",
    "        return result, layer_values\n",
    "\n",
    "    # forward propagation, but returns array with only 1 and 0s\n",
    "    def predict(self, input: np.matrix) -> np.matrix:\n",
    "        # predictions =\n",
    "        return self.__forward(input, self.thetas)\n",
    "        # return to_one_hot(np.asarray(predictions.argmax(axis=1)).ravel(), num_chars)\n",
    "\n",
    "    def cost(self, X: np.matrix, Y: np.matrix, lambd: float, thetas: list[np.matrix]) -> float:\n",
    "        h, _ = self.__forward(X, thetas)\n",
    "\n",
    "        # compute cost\n",
    "        first_term = np.multiply(Y, np.log(h))\n",
    "        second_term = np.multiply((1 - Y), np.log(1 - h))\n",
    "        J = np.sum(first_term + second_term) / (-X.shape[0])\n",
    "\n",
    "        # add regularization\n",
    "        regularized = 0\n",
    "        for thetas in thetas:\n",
    "            regularized += np.sum(np.power(thetas, 2)) * (lambd / (2 * X.shape[0]))\n",
    "\n",
    "        J += regularized\n",
    "\n",
    "        return J\n",
    "    \n",
    "    # backpropagation\n",
    "    def gradients(self, X: np.matrix, Y: np.matrix, lambd: float) -> tuple[list[np.matrix], list[np.matrix]]:\n",
    "        m = X.shape[0]\n",
    "\n",
    "        h, a_values = self.__forward(X, self.thetas)\n",
    "        bias_a = [np.ones((m, 1)) for _ in a_values]\n",
    "\n",
    "        grads = [np.zeros(theta.shape) for theta in self.thetas]\n",
    "        biases = [np.zeros(bias.shape) for bias in self.biases]\n",
    "\n",
    "        # last layer gradients\n",
    "        last_delta = h - Y\n",
    "        grads[-1] = np.dot(last_delta.T, a_values[-1]) / m\n",
    "        grads[-1] += (lambd * self.thetas[-1]) / m  # regulatization\n",
    "\n",
    "        biases[-1] = np.dot(last_delta.T, bias_a[-1]) / m\n",
    "\n",
    "        # hidden layer gradients\n",
    "        for i in reversed(range(1, len(a_values))):\n",
    "            delta = np.multiply(np.dot(last_delta, self.thetas[i]), self.__ReLU_grad(a_values[i]))\n",
    "            last_delta = delta\n",
    "\n",
    "            grads[i - 1] = np.dot(delta.T, a_values[i - 1]) / m\n",
    "            grads[i - 1] += (lambd * self.thetas[i - 1]) / m   # regulatization\n",
    "\n",
    "            biases[i - 1] = np.dot(delta.T, bias_a[i - 1]) / m\n",
    "\n",
    "        return grads, biases\n",
    "\n",
    "    def gradient_check(self, X: np.matrix, Y: np.matrix, lambd: float, grads: list[np.matrix]) -> bool:\n",
    "        ephsilon = 1e-8\n",
    "        \n",
    "        new_theta1 = [np.copy(theta) for theta in self.thetas]\n",
    "        new_theta2 = [np.copy(theta) for theta in self.thetas]\n",
    "        preds = [np.zeros(grad.shape) for grad in grads]\n",
    "        for l in range(len(self.thetas)):\n",
    "            for i in range(self.thetas[l].shape[0]):\n",
    "                for j in range(self.thetas[l].shape[1]):\n",
    "                    new_theta1[l][i, j] = new_theta1[l][i, j] + ephsilon\n",
    "                    new_theta2[l][i, j] = new_theta2[l][i, j] - ephsilon\n",
    "\n",
    "                    grad_pred = self.cost(X, Y, lambd, new_theta1) - self.cost(X, Y, lambd, [theta for theta in new_theta2])\n",
    "                    grad_pred = grad_pred / (2 * ephsilon)\n",
    "                    preds[l][i, j] = grad_pred\n",
    "\n",
    "                    new_theta1[l][i, j] = new_theta1[l][i, j] - ephsilon\n",
    "                    new_theta2[l][i, j] = new_theta2[l][i, j] + ephsilon\n",
    "\n",
    "        flattened_grads = np.concatenate([np.asarray(grad).ravel() for grad in grads])\n",
    "        flattened_preds = np.concatenate([np.asarray(pred).ravel() for pred in preds])\n",
    "\n",
    "        numerator = np.linalg.norm(flattened_grads - flattened_preds)\n",
    "        denominator = np.linalg.norm(flattened_grads) + np.linalg.norm(flattened_preds)\n",
    "        diff = numerator / denominator\n",
    "\n",
    "        if diff > 1e-4:\n",
    "            print(diff)\n",
    "            print(grads) \n",
    "            print(preds)\n",
    "            return False\n",
    "\n",
    "        return True\n",
    "\n",
    "    def train(self, X: np.matrix, Y: np.matrix, alpha: float, lambd: float, max_iters: int = 1000) -> np.ndarray:\n",
    "        cost = np.zeros(max_iters)\n",
    "\n",
    "        for i in range(max_iters):\n",
    "            theta_grads, bias_grads = self.gradients(X, Y, lambd)\n",
    "\n",
    "            # assert self.gradient_check(X, Y, lambd, theta_grads)\n",
    "\n",
    "            for j, _ in enumerate(self.thetas):\n",
    "                self.thetas[j] = self.thetas[j] - np.multiply(alpha, theta_grads[j])\n",
    "                self.biases[j] = self.biases[j] - np.multiply(alpha, bias_grads[j])\n",
    "\n",
    "            cost[i] = self.cost(X, Y, lambd, self.thetas)\n",
    "\n",
    "        return cost"
   ]
  },
  {
   "cell_type": "markdown",
   "metadata": {},
   "source": [
    "### Build a model"
   ]
  },
  {
   "cell_type": "code",
   "execution_count": 42,
   "metadata": {},
   "outputs": [],
   "source": [
    "nn = NeuralNetworkModel(min_dimension, num_chars, [256, 256, 256])"
   ]
  },
  {
   "cell_type": "code",
   "execution_count": 43,
   "metadata": {},
   "outputs": [],
   "source": [
    "cost = nn.train(X_train, Y_train, 0.01, 0.1, 100)"
   ]
  },
  {
   "cell_type": "code",
   "execution_count": 37,
   "metadata": {},
   "outputs": [
    {
     "data": {
      "text/plain": [
       "array([483.71931005, 248.23252941, 299.0897483 , 164.9670367 ,\n",
       "       115.05450566,  86.95498281,  72.57874406,  63.07960315,\n",
       "        56.83461927,  51.78633279,  47.78678482,  44.49881608,\n",
       "        41.71154014,  39.29916756,  37.16082823,  35.21110391,\n",
       "        33.4113442 ,  31.75537007,  30.22129309,  28.76687154,\n",
       "        27.40885829,  26.13379054,  24.93755866,  23.81611377,\n",
       "        22.75722899,  21.768016  ,  20.84306566,  19.97887154,\n",
       "        19.17048304,  18.41756724,  17.70763965,  17.0350812 ,\n",
       "        16.39813242,  15.78159139,  15.19377137,  14.63070255,\n",
       "        14.09935699,  13.58688086,  13.09520515,  12.62016665,\n",
       "        12.16996374,  11.7423301 ,  11.3441904 ,  10.97653921,\n",
       "        10.63053512,  10.30950477,  10.00430379,   9.71914536,\n",
       "         9.44851875,   9.19788715,   8.96385478,   8.7492205 ,\n",
       "         8.54765034,   8.3610537 ,   8.18553112,   8.0272146 ,\n",
       "         7.87669728,   7.75277149,   7.63106202,   7.56422387,\n",
       "         7.46099617,   7.47922781,   7.30184778,   7.38655316,\n",
       "         7.07356179,   7.11060307,   6.82662974,   6.78704165,\n",
       "         6.59877347,   6.5373938 ,   6.40579375,   6.33492324,\n",
       "         6.24020271,   6.17261181,   6.10151862,   6.04108442,\n",
       "         5.98404462,   5.93268957,   5.88499224,   5.84106947,\n",
       "         5.79973529,   5.76136895,   5.72547566,   5.69197211,\n",
       "         5.66046049,   5.63086179,   5.60300951,   5.57680776,\n",
       "         5.55222678,   5.52894266,   5.50677895,   5.48562938,\n",
       "         5.4654694 ,   5.44622767,   5.42788946,   5.41023665,\n",
       "         5.39333294,   5.37708679,   5.36162568,   5.34688239])"
      ]
     },
     "execution_count": 37,
     "metadata": {},
     "output_type": "execute_result"
    }
   ],
   "source": [
    "cost"
   ]
  },
  {
   "cell_type": "markdown",
   "metadata": {},
   "source": [
    "draw the graph of model costs to choose the best alpha"
   ]
  },
  {
   "cell_type": "code",
   "execution_count": 38,
   "metadata": {},
   "outputs": [
    {
     "data": {
      "text/plain": [
       "Text(0.5, 1.0, 'Error vs. Training Epoch')"
      ]
     },
     "execution_count": 38,
     "metadata": {},
     "output_type": "execute_result"
    },
    {
     "data": {
      "image/png": "[encoded data removed]",
      "text/plain": [
       "<Figure size 864x576 with 1 Axes>"
      ]
     },
     "metadata": {
      "needs_background": "light"
     },
     "output_type": "display_data"
    }
   ],
   "source": [
    "vfig, ax = plt.subplots(figsize=(12,8))\n",
    "ax.plot(np.arange(cost.size), cost, 'r')\n",
    "ax.set_xlabel('Iterations')\n",
    "ax.set_ylabel('Cost')\n",
    "ax.set_title('Error vs. Training Epoch')"
   ]
  },
  {
   "cell_type": "code",
   "execution_count": 5,
   "metadata": {},
   "outputs": [],
   "source": [
    "whaat = np.asmatrix([\n",
    "    im.imread(f\"data/images/ა/1_aacadhn.ttf_fs_24_bc_256.ა.png\").ravel(),\n",
    "    im.imread(f\"data/images/ც/132_aacadhn.ttf_fs_40_bc_256.ც.png\").ravel(),\n",
    "    np.zeros(10000)\n",
    "])"
   ]
  },
  {
   "cell_type": "code",
   "execution_count": 35,
   "metadata": {},
   "outputs": [
    {
     "data": {
      "text/plain": [
       "array([[1., 0., 0., 0., 0., 0., 0., 0., 0., 0., 0., 0., 0., 0., 0., 0.,\n",
       "        0., 0., 0., 0., 0., 0., 0., 0., 0., 0., 0., 0., 0., 0., 0., 0.],\n",
       "       [1., 0., 0., 0., 0., 0., 0., 0., 0., 0., 0., 0., 0., 0., 0., 0.,\n",
       "        0., 0., 0., 0., 0., 0., 0., 0., 0., 0., 0., 0., 0., 0., 0., 0.],\n",
       "       [1., 0., 0., 0., 0., 0., 0., 0., 0., 0., 0., 0., 0., 0., 0., 0.,\n",
       "        0., 0., 0., 0., 0., 0., 0., 0., 0., 0., 0., 0., 0., 0., 0., 0.]])"
      ]
     },
     "execution_count": 35,
     "metadata": {},
     "output_type": "execute_result"
    }
   ],
   "source": [
    "nn.predict(whaat)"
   ]
  }
 ],
 "metadata": {
  "interpreter": {
   "hash": "d80a6ad3f177f820c16ffddce5e20b9780a5a50a827e881a42629beae35f11cc"
  },
  "kernelspec": {
   "display_name": "Python 3.9.7 64-bit ('Freeuni_ML': conda)",
   "language": "python",
   "name": "python3"
  },
  "language_info": {
   "codemirror_mode": {
    "name": "ipython",
    "version": 3
   },
   "file_extension": ".py",
   "mimetype": "text/x-python",
   "name": "python",
   "nbconvert_exporter": "python",
   "pygments_lexer": "ipython3",
   "version": "3.9.7"
  },
  "orig_nbformat": 4
 },
 "nbformat": 4,
 "nbformat_minor": 2
}
