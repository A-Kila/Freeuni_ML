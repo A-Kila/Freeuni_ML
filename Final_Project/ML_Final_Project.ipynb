{
 "cells": [
  {
   "cell_type": "markdown",
   "metadata": {},
   "source": [
    "# Georgian Digital Alphabet Recognition"
   ]
  },
  {
   "cell_type": "markdown",
   "metadata": {},
   "source": [
    "### Preprocessing\n",
    "add useful imports"
   ]
  },
  {
   "cell_type": "code",
   "execution_count": 2,
   "metadata": {},
   "outputs": [],
   "source": [
    "import numpy as np\n",
    "import matplotlib.pyplot as plt\n",
    "import os\n",
    "%matplotlib inline"
   ]
  },
  {
   "cell_type": "markdown",
   "metadata": {},
   "source": [
    "turns a number to a one hot array"
   ]
  },
  {
   "cell_type": "code",
   "execution_count": 3,
   "metadata": {},
   "outputs": [],
   "source": [
    "def to_one_hot(values: np.ndarray, max: int) -> np.matrix:\n",
    "    one_hot = np.zeros((values.size, max))\n",
    "    rows = np.arange(values.size)\n",
    "    one_hot[rows, values] = 1    \n",
    "\n",
    "    return one_hot"
   ]
  },
  {
   "cell_type": "markdown",
   "metadata": {},
   "source": [
    "import image data and convert images to numpy arrays"
   ]
  },
  {
   "cell_type": "code",
   "execution_count": 4,
   "metadata": {},
   "outputs": [],
   "source": [
    "import matplotlib.image as im\n",
    "\n",
    "X_arr = list[np.ndarray]()\n",
    "Y_arr = list[int]()\n",
    "num_chars = ord(\"ჰ\") - ord(\"ა\")\n",
    "\n",
    "for i in range(num_chars):\n",
    "    char = chr(ord(\"ა\") + i)\n",
    "\n",
    "    file_path = f\"data/images/{char}\"\n",
    "    for image in os.listdir(file_path):\n",
    "        img_data = im.imread(f\"{file_path}/{image}\").ravel()\n",
    "\n",
    "        X_arr.append(np.append(img_data, np.ones(10000 - len(img_data))))\n",
    "        Y_arr.append(i)"
   ]
  },
  {
   "cell_type": "markdown",
   "metadata": {},
   "source": [
    "turn list of image values to numpy matrix, values to one_hot vector"
   ]
  },
  {
   "cell_type": "code",
   "execution_count": 5,
   "metadata": {},
   "outputs": [
    {
     "data": {
      "text/plain": [
       "((28160, 10000), (28160, 32))"
      ]
     },
     "execution_count": 5,
     "metadata": {},
     "output_type": "execute_result"
    }
   ],
   "source": [
    "X = np.asmatrix(X_arr)\n",
    "Y = to_one_hot(np.asarray(Y_arr), num_chars)\n",
    "\n",
    "X.shape, Y.shape"
   ]
  },
  {
   "cell_type": "markdown",
   "metadata": {},
   "source": [
    "divide data to train, validation, and test"
   ]
  },
  {
   "cell_type": "code",
   "execution_count": 6,
   "metadata": {},
   "outputs": [
    {
     "data": {
      "text/plain": [
       "((16896, 10000), (5632, 10000), (5632, 10000))"
      ]
     },
     "execution_count": 6,
     "metadata": {},
     "output_type": "execute_result"
    }
   ],
   "source": [
    "division_points = (int(X.shape[0] * 0.6), int(X.shape[0] * 0.8))\n",
    "\n",
    "data = np.append(X, Y, 1)\n",
    "np.random.shuffle(data)\n",
    "\n",
    "X = data[:, 0: X.shape[1]]\n",
    "Y = data[:, X.shape[1]:]\n",
    "\n",
    "X_train = X[0: division_points[0], :]\n",
    "Y_train = Y[0: division_points[0], :]\n",
    "\n",
    "X_valid = X[division_points[0]: division_points[1], :]\n",
    "Y_valid = Y[division_points[0]: division_points[1], :]\n",
    "\n",
    "X_test = X[division_points[1]:, :]\n",
    "Y_test = Y[division_points[1]:, :]\n",
    "\n",
    "X_train.shape, X_valid.shape, X_test.shape"
   ]
  },
  {
   "cell_type": "markdown",
   "metadata": {},
   "source": [
    "### Define neural network model class"
   ]
  },
  {
   "cell_type": "code",
   "execution_count": 7,
   "metadata": {},
   "outputs": [],
   "source": [
    "class NeuralNetworkModel:\n",
    "    def __init__(self, in_size: int, out_size: int, hidden_sizes: list[int]) -> None:\n",
    "        self.layers: list[int] = [in_size] + hidden_sizes + [out_size]\n",
    "        \n",
    "        self.thetas = list[np.matrix]()\n",
    "        self.biases = list[np.matrix]()\n",
    "\n",
    "        for i in range(len(self.layers) - 1):\n",
    "            prev_size: int = self.layers[i]\n",
    "            next_size: int = self.layers[i + 1]\n",
    "\n",
    "            self.thetas.append(np.asmatrix(np.random.rand(next_size, prev_size) - 0.5))\n",
    "            self.biases.append(np.asmatrix(np.random.rand(next_size, 1) - 0.5))\n",
    "\n",
    "    def __ReLU(self, X: np.matrix) -> np.matrix:\n",
    "        return np.maximum(0, X)\n",
    "\n",
    "    def __ReLU_grad(self, X: np.matrix) -> np.matrix:\n",
    "        return np.where(X <= 0, 0, 1)\n",
    "\n",
    "    def __sigmoid(self, X: np.matrix) -> np.matrix:\n",
    "        ephsilon = 1e-5 # to avoid returning 1\n",
    "        X = X.clip(-500, 500) # to prevent overflows\n",
    "\n",
    "        return np.divide(1, 1 + np.exp(-X) + ephsilon)\n",
    "\n",
    "    def __forward(self, input: np.matrix, thetas: list[np.matrix]) -> tuple[np.matrix, list[np.matrix]]:\n",
    "        result: np.matrix = input\n",
    "        layer_values: list[np.matrix] = [input]\n",
    "\n",
    "        for i in range(len(self.layers) - 1):\n",
    "            # z(i)\n",
    "            result = np.dot(result, thetas[i].T)\n",
    "            result = np.add(result, self.biases[i].T)\n",
    "            # a(i)\n",
    "            if i != len(self.layers) - 2: \n",
    "                result = self.__ReLU(result)\n",
    "                layer_values.append(result)\n",
    "\n",
    "            else: result = self.__sigmoid(result)\n",
    "\n",
    "        return result, layer_values\n",
    "\n",
    "    # forward propagation, but returns array with only 1 and 0s\n",
    "    def predict(self, input: np.matrix) -> np.matrix:\n",
    "        # predictions =\n",
    "        return self.__forward(input, self.thetas)\n",
    "        # return to_one_hot(np.asarray(predictions.argmax(axis=1)).ravel(), num_chars)\n",
    "\n",
    "    def cost(self, X: np.matrix, Y: np.matrix, lambd: float, thetas: list[np.matrix]) -> float:\n",
    "        h, _ = self.__forward(X, thetas)\n",
    "\n",
    "        # compute cost\n",
    "        first_term = np.multiply(Y, np.log(h))\n",
    "        second_term = np.multiply((1 - Y), np.log(1 - h))\n",
    "        J = np.sum(first_term + second_term) / (-X.shape[0])\n",
    "\n",
    "        # add regularization\n",
    "        regularized = 0\n",
    "        for thetas in thetas:\n",
    "            regularized += np.sum(np.power(thetas, 2)) * (lambd / (2 * X.shape[0]))\n",
    "\n",
    "        J += regularized\n",
    "\n",
    "        return J\n",
    "    \n",
    "    # backpropagation\n",
    "    def gradients(self, X: np.matrix, Y: np.matrix, lambd: float) -> tuple[list[np.matrix], list[np.matrix]]:\n",
    "        h, a_values = self.__forward(X, self.thetas)\n",
    "        bias_a = [np.asmatrix(np.ones((X.shape[0], 1))) for _ in a_values]\n",
    "\n",
    "        grads: list[np.matrix] = [np.zeros(theta.shape) for theta in self.thetas]\n",
    "        biases: list[np.matrix] = [np.zeros(bias.shape) for bias in self.biases]\n",
    "\n",
    "        last_delta: np.matrix = np.subtract(h, Y)\n",
    "        grads[-1] = (grads[-1] + np.dot(last_delta.T, a_values[-1])) / X.shape[0]\n",
    "        biases[-1] = (biases[-1] + np.dot(last_delta.T, bias_a[-1])) / X.shape[0]\n",
    "\n",
    "        for i in range(len(a_values) - 1, 0, -1):\n",
    "            delta = np.multiply(np.dot(last_delta, self.thetas[i]), self.__ReLU_grad(a_values[i]))\n",
    "\n",
    "            grads[i - 1] = grads[i - 1] + np.dot(delta.T, a_values[i - 1]) / X.shape[0]\n",
    "            grads[i - 1] = grads[i - 1] + np.multiply(lambd / X.shape[0], self.thetas[i - 1]) # regularization\n",
    "\n",
    "            biases[i - 1] = (biases[i - 1] + np.dot(delta.T, bias_a[i - 1])) / X.shape[0]\n",
    "\n",
    "            last_delta = delta\n",
    "\n",
    "        return grads, biases\n",
    "\n",
    "    def gradient_check(self, X: np.matrix, Y: np.matrix, lambd: float, grads: list[np.matrix]) -> bool:\n",
    "        ephsilon = 1e-5\n",
    "        \n",
    "        new_theta1 = [np.copy(theta) for theta in self.thetas]\n",
    "        new_theta2 = [np.copy(theta) for theta in self.thetas]\n",
    "        preds = [np.zeros(grad.shape) for grad in grads]\n",
    "        for l in range(len(self.thetas)):\n",
    "            for i in range(self.thetas[l].shape[0]):\n",
    "                for j in range(self.thetas[l].shape[1]):\n",
    "                    new_theta1[l][i, j] = new_theta1[l][i, j] + ephsilon\n",
    "                    new_theta2[l][i, j] = new_theta2[l][i, j] - ephsilon\n",
    "\n",
    "                    grad_pred = self.cost(X, Y, lambd, new_theta1) - self.cost(X, Y, lambd, [theta for theta in new_theta2])\n",
    "                    grad_pred = grad_pred / (2 * ephsilon)\n",
    "                    preds[l][i, j] = grad_pred\n",
    "\n",
    "                    new_theta1[l][i, j] = new_theta1[l][i, j] - ephsilon\n",
    "                    new_theta2[l][i, j] = new_theta2[l][i, j] + ephsilon\n",
    "\n",
    "        flattened_grads = np.concatenate([np.asarray(grad).ravel() for grad in grads])\n",
    "        flattened_preds = np.concatenate([np.asarray(pred).ravel() for pred in preds])\n",
    "\n",
    "        numerator = np.linalg.norm(flattened_grads - flattened_preds)\n",
    "        denominator = np.linalg.norm(flattened_grads) + np.linalg.norm(flattened_preds)\n",
    "        diff = numerator / denominator\n",
    "\n",
    "        if diff > 1e-4:\n",
    "            print(diff)\n",
    "            print(grads) \n",
    "            print(preds)\n",
    "            return False\n",
    "\n",
    "        return True\n",
    "\n",
    "    def train(self, X: np.matrix, Y: np.matrix, alpha: float, lambd: float, max_iters: int = 1000) -> np.ndarray:\n",
    "        cost = np.zeros(max_iters)\n",
    "\n",
    "        for i in range(max_iters):\n",
    "            theta_grads, bias_grads = self.gradients(X, Y, lambd)\n",
    "\n",
    "            assert self.gradient_check(X, Y, lambd, theta_grads)\n",
    "\n",
    "            for j, _ in enumerate(self.thetas):\n",
    "                self.thetas[j] = self.thetas[j] - np.multiply(alpha, theta_grads[j])\n",
    "                self.biases[j] = self.biases[j] - np.multiply(alpha, bias_grads[j])\n",
    "\n",
    "            # cost[i] = self.cost(X, Y, lambd, self.thetas)\n",
    "\n",
    "        return cost"
   ]
  },
  {
   "cell_type": "markdown",
   "metadata": {},
   "source": [
    "### Build a model"
   ]
  },
  {
   "cell_type": "code",
   "execution_count": 8,
   "metadata": {},
   "outputs": [],
   "source": [
    "nn = NeuralNetworkModel(10000, num_chars, [10, 10])"
   ]
  },
  {
   "cell_type": "code",
   "execution_count": 13,
   "metadata": {},
   "outputs": [
    {
     "ename": "KeyboardInterrupt",
     "evalue": "",
     "output_type": "error",
     "traceback": [
      "\u001b[0;31m---------------------------------------------------------------------------\u001b[0m",
      "\u001b[0;31mKeyboardInterrupt\u001b[0m                         Traceback (most recent call last)",
      "\u001b[0;32m/var/folders/cg/nbkqfqq15tb9bkp7kghtnggm0000gp/T/ipykernel_1665/2683361929.py\u001b[0m in \u001b[0;36m<module>\u001b[0;34m\u001b[0m\n\u001b[0;32m----> 1\u001b[0;31m \u001b[0mnn\u001b[0m\u001b[0;34m.\u001b[0m\u001b[0mtrain\u001b[0m\u001b[0;34m(\u001b[0m\u001b[0mX\u001b[0m\u001b[0;34m[\u001b[0m\u001b[0;34m:\u001b[0m \u001b[0;36m100\u001b[0m\u001b[0;34m,\u001b[0m \u001b[0;34m:\u001b[0m\u001b[0;34m]\u001b[0m\u001b[0;34m,\u001b[0m \u001b[0mY\u001b[0m\u001b[0;34m[\u001b[0m\u001b[0;34m:\u001b[0m \u001b[0;36m100\u001b[0m\u001b[0;34m,\u001b[0m \u001b[0;34m:\u001b[0m\u001b[0;34m]\u001b[0m\u001b[0;34m,\u001b[0m \u001b[0;36m0.01\u001b[0m\u001b[0;34m,\u001b[0m \u001b[0;36m0.1\u001b[0m\u001b[0;34m,\u001b[0m \u001b[0;36m1\u001b[0m\u001b[0;34m)\u001b[0m\u001b[0;34m\u001b[0m\u001b[0;34m\u001b[0m\u001b[0m\n\u001b[0m",
      "\u001b[0;32m/var/folders/cg/nbkqfqq15tb9bkp7kghtnggm0000gp/T/ipykernel_1665/3000099924.py\u001b[0m in \u001b[0;36mtrain\u001b[0;34m(self, X, Y, alpha, lambd, max_iters)\u001b[0m\n\u001b[1;32m    131\u001b[0m             \u001b[0mtheta_grads\u001b[0m\u001b[0;34m,\u001b[0m \u001b[0mbias_grads\u001b[0m \u001b[0;34m=\u001b[0m \u001b[0mself\u001b[0m\u001b[0;34m.\u001b[0m\u001b[0mgradients\u001b[0m\u001b[0;34m(\u001b[0m\u001b[0mX\u001b[0m\u001b[0;34m,\u001b[0m \u001b[0mY\u001b[0m\u001b[0;34m,\u001b[0m \u001b[0mlambd\u001b[0m\u001b[0;34m)\u001b[0m\u001b[0;34m\u001b[0m\u001b[0;34m\u001b[0m\u001b[0m\n\u001b[1;32m    132\u001b[0m \u001b[0;34m\u001b[0m\u001b[0m\n\u001b[0;32m--> 133\u001b[0;31m             \u001b[0;32massert\u001b[0m \u001b[0mself\u001b[0m\u001b[0;34m.\u001b[0m\u001b[0mgradient_check\u001b[0m\u001b[0;34m(\u001b[0m\u001b[0mX\u001b[0m\u001b[0;34m,\u001b[0m \u001b[0mY\u001b[0m\u001b[0;34m,\u001b[0m \u001b[0mlambd\u001b[0m\u001b[0;34m,\u001b[0m \u001b[0mtheta_grads\u001b[0m\u001b[0;34m)\u001b[0m\u001b[0;34m\u001b[0m\u001b[0;34m\u001b[0m\u001b[0m\n\u001b[0m\u001b[1;32m    134\u001b[0m \u001b[0;34m\u001b[0m\u001b[0m\n\u001b[1;32m    135\u001b[0m             \u001b[0;32mfor\u001b[0m \u001b[0mj\u001b[0m\u001b[0;34m,\u001b[0m \u001b[0m_\u001b[0m \u001b[0;32min\u001b[0m \u001b[0menumerate\u001b[0m\u001b[0;34m(\u001b[0m\u001b[0mself\u001b[0m\u001b[0;34m.\u001b[0m\u001b[0mthetas\u001b[0m\u001b[0;34m)\u001b[0m\u001b[0;34m:\u001b[0m\u001b[0;34m\u001b[0m\u001b[0;34m\u001b[0m\u001b[0m\n",
      "\u001b[0;32m/var/folders/cg/nbkqfqq15tb9bkp7kghtnggm0000gp/T/ipykernel_1665/3000099924.py\u001b[0m in \u001b[0;36mgradient_check\u001b[0;34m(self, X, Y, lambd, grads)\u001b[0m\n\u001b[1;32m    101\u001b[0m                     \u001b[0mnew_theta2\u001b[0m\u001b[0;34m[\u001b[0m\u001b[0ml\u001b[0m\u001b[0;34m]\u001b[0m\u001b[0;34m[\u001b[0m\u001b[0mi\u001b[0m\u001b[0;34m,\u001b[0m \u001b[0mj\u001b[0m\u001b[0;34m]\u001b[0m \u001b[0;34m=\u001b[0m \u001b[0mnew_theta2\u001b[0m\u001b[0;34m[\u001b[0m\u001b[0ml\u001b[0m\u001b[0;34m]\u001b[0m\u001b[0;34m[\u001b[0m\u001b[0mi\u001b[0m\u001b[0;34m,\u001b[0m \u001b[0mj\u001b[0m\u001b[0;34m]\u001b[0m \u001b[0;34m-\u001b[0m \u001b[0mephsilon\u001b[0m\u001b[0;34m\u001b[0m\u001b[0;34m\u001b[0m\u001b[0m\n\u001b[1;32m    102\u001b[0m \u001b[0;34m\u001b[0m\u001b[0m\n\u001b[0;32m--> 103\u001b[0;31m                     \u001b[0mgrad_pred\u001b[0m \u001b[0;34m=\u001b[0m \u001b[0mself\u001b[0m\u001b[0;34m.\u001b[0m\u001b[0mcost\u001b[0m\u001b[0;34m(\u001b[0m\u001b[0mX\u001b[0m\u001b[0;34m,\u001b[0m \u001b[0mY\u001b[0m\u001b[0;34m,\u001b[0m \u001b[0mlambd\u001b[0m\u001b[0;34m,\u001b[0m \u001b[0mnew_theta1\u001b[0m\u001b[0;34m)\u001b[0m \u001b[0;34m-\u001b[0m \u001b[0mself\u001b[0m\u001b[0;34m.\u001b[0m\u001b[0mcost\u001b[0m\u001b[0;34m(\u001b[0m\u001b[0mX\u001b[0m\u001b[0;34m,\u001b[0m \u001b[0mY\u001b[0m\u001b[0;34m,\u001b[0m \u001b[0mlambd\u001b[0m\u001b[0;34m,\u001b[0m \u001b[0;34m[\u001b[0m\u001b[0mtheta\u001b[0m \u001b[0;32mfor\u001b[0m \u001b[0mtheta\u001b[0m \u001b[0;32min\u001b[0m \u001b[0mnew_theta2\u001b[0m\u001b[0;34m]\u001b[0m\u001b[0;34m)\u001b[0m\u001b[0;34m\u001b[0m\u001b[0;34m\u001b[0m\u001b[0m\n\u001b[0m\u001b[1;32m    104\u001b[0m                     \u001b[0mgrad_pred\u001b[0m \u001b[0;34m=\u001b[0m \u001b[0mgrad_pred\u001b[0m \u001b[0;34m/\u001b[0m \u001b[0;34m(\u001b[0m\u001b[0;36m2\u001b[0m \u001b[0;34m*\u001b[0m \u001b[0mephsilon\u001b[0m\u001b[0;34m)\u001b[0m\u001b[0;34m\u001b[0m\u001b[0;34m\u001b[0m\u001b[0m\n\u001b[1;32m    105\u001b[0m                     \u001b[0mpreds\u001b[0m\u001b[0;34m[\u001b[0m\u001b[0ml\u001b[0m\u001b[0;34m]\u001b[0m\u001b[0;34m[\u001b[0m\u001b[0mi\u001b[0m\u001b[0;34m,\u001b[0m \u001b[0mj\u001b[0m\u001b[0;34m]\u001b[0m \u001b[0;34m=\u001b[0m \u001b[0mgrad_pred\u001b[0m\u001b[0;34m\u001b[0m\u001b[0;34m\u001b[0m\u001b[0m\n",
      "\u001b[0;32m/var/folders/cg/nbkqfqq15tb9bkp7kghtnggm0000gp/T/ipykernel_1665/3000099924.py\u001b[0m in \u001b[0;36mcost\u001b[0;34m(self, X, Y, lambd, thetas)\u001b[0m\n\u001b[1;32m     59\u001b[0m         \u001b[0mregularized\u001b[0m \u001b[0;34m=\u001b[0m \u001b[0;36m0\u001b[0m\u001b[0;34m\u001b[0m\u001b[0;34m\u001b[0m\u001b[0m\n\u001b[1;32m     60\u001b[0m         \u001b[0;32mfor\u001b[0m \u001b[0mthetas\u001b[0m \u001b[0;32min\u001b[0m \u001b[0mthetas\u001b[0m\u001b[0;34m:\u001b[0m\u001b[0;34m\u001b[0m\u001b[0;34m\u001b[0m\u001b[0m\n\u001b[0;32m---> 61\u001b[0;31m             \u001b[0mregularized\u001b[0m \u001b[0;34m+=\u001b[0m \u001b[0mnp\u001b[0m\u001b[0;34m.\u001b[0m\u001b[0msum\u001b[0m\u001b[0;34m(\u001b[0m\u001b[0mnp\u001b[0m\u001b[0;34m.\u001b[0m\u001b[0mpower\u001b[0m\u001b[0;34m(\u001b[0m\u001b[0mthetas\u001b[0m\u001b[0;34m,\u001b[0m \u001b[0;36m2\u001b[0m\u001b[0;34m)\u001b[0m\u001b[0;34m)\u001b[0m \u001b[0;34m*\u001b[0m \u001b[0;34m(\u001b[0m\u001b[0mlambd\u001b[0m \u001b[0;34m/\u001b[0m \u001b[0;34m(\u001b[0m\u001b[0;36m2\u001b[0m \u001b[0;34m*\u001b[0m \u001b[0mX\u001b[0m\u001b[0;34m.\u001b[0m\u001b[0mshape\u001b[0m\u001b[0;34m[\u001b[0m\u001b[0;36m0\u001b[0m\u001b[0;34m]\u001b[0m\u001b[0;34m)\u001b[0m\u001b[0;34m)\u001b[0m\u001b[0;34m\u001b[0m\u001b[0;34m\u001b[0m\u001b[0m\n\u001b[0m\u001b[1;32m     62\u001b[0m \u001b[0;34m\u001b[0m\u001b[0m\n\u001b[1;32m     63\u001b[0m         \u001b[0mJ\u001b[0m \u001b[0;34m+=\u001b[0m \u001b[0mregularized\u001b[0m\u001b[0;34m\u001b[0m\u001b[0;34m\u001b[0m\u001b[0m\n",
      "\u001b[0;31mKeyboardInterrupt\u001b[0m: "
     ]
    }
   ],
   "source": [
    "nn.train(X[: 100, :], Y[: 100, :], 0.01, 0.1, 1)"
   ]
  },
  {
   "cell_type": "code",
   "execution_count": 5,
   "metadata": {},
   "outputs": [],
   "source": [
    "whaat = np.asmatrix([\n",
    "    im.imread(f\"data/images/ა/1_aacadhn.ttf_fs_24_bc_256.ა.png\").ravel(),\n",
    "    im.imread(f\"data/images/ც/132_aacadhn.ttf_fs_40_bc_256.ც.png\").ravel(),\n",
    "    np.zeros(10000)\n",
    "])"
   ]
  },
  {
   "cell_type": "code",
   "execution_count": 35,
   "metadata": {},
   "outputs": [
    {
     "data": {
      "text/plain": [
       "array([[1., 0., 0., 0., 0., 0., 0., 0., 0., 0., 0., 0., 0., 0., 0., 0.,\n",
       "        0., 0., 0., 0., 0., 0., 0., 0., 0., 0., 0., 0., 0., 0., 0., 0.],\n",
       "       [1., 0., 0., 0., 0., 0., 0., 0., 0., 0., 0., 0., 0., 0., 0., 0.,\n",
       "        0., 0., 0., 0., 0., 0., 0., 0., 0., 0., 0., 0., 0., 0., 0., 0.],\n",
       "       [1., 0., 0., 0., 0., 0., 0., 0., 0., 0., 0., 0., 0., 0., 0., 0.,\n",
       "        0., 0., 0., 0., 0., 0., 0., 0., 0., 0., 0., 0., 0., 0., 0., 0.]])"
      ]
     },
     "execution_count": 35,
     "metadata": {},
     "output_type": "execute_result"
    }
   ],
   "source": [
    "nn.predict(whaat)"
   ]
  }
 ],
 "metadata": {
  "interpreter": {
   "hash": "d80a6ad3f177f820c16ffddce5e20b9780a5a50a827e881a42629beae35f11cc"
  },
  "kernelspec": {
   "display_name": "Python 3.9.7 64-bit ('Freeuni_ML': conda)",
   "language": "python",
   "name": "python3"
  },
  "language_info": {
   "codemirror_mode": {
    "name": "ipython",
    "version": 3
   },
   "file_extension": ".py",
   "mimetype": "text/x-python",
   "name": "python",
   "nbconvert_exporter": "python",
   "pygments_lexer": "ipython3",
   "version": "3.9.7"
  },
  "orig_nbformat": 4
 },
 "nbformat": 4,
 "nbformat_minor": 2
}
