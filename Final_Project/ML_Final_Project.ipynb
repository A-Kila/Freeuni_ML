{
 "cells": [
  {
   "cell_type": "markdown",
   "metadata": {},
   "source": [
    "# Georgian Digital Alphabet Recognition"
   ]
  },
  {
   "cell_type": "markdown",
   "metadata": {},
   "source": [
    "### Preprocessing\n",
    "add useful imports"
   ]
  },
  {
   "cell_type": "code",
   "execution_count": 1,
   "metadata": {},
   "outputs": [],
   "source": [
    "import numpy as np\n",
    "import matplotlib.pyplot as plt\n",
    "import os\n",
    "import tensorflow as tf\n",
    "%matplotlib inline"
   ]
  },
  {
   "cell_type": "markdown",
   "metadata": {},
   "source": [
    "turns a number to a one hot array"
   ]
  },
  {
   "cell_type": "code",
   "execution_count": 2,
   "metadata": {},
   "outputs": [],
   "source": [
    "def to_one_hot(values: np.ndarray, max: int) -> np.matrix:\n",
    "    one_hot = np.zeros((values.size, max))\n",
    "    rows = np.arange(values.size)\n",
    "    one_hot[rows, values] = 1    \n",
    "\n",
    "    return one_hot"
   ]
  },
  {
   "cell_type": "markdown",
   "metadata": {},
   "source": [
    "import image data"
   ]
  },
  {
   "cell_type": "code",
   "execution_count": 3,
   "metadata": {},
   "outputs": [],
   "source": [
    "import matplotlib.image as im\n",
    "\n",
    "X_arr = list[np.ndarray]()\n",
    "Y_arr = list[int]()\n",
    "num_chars = ord(\"ჰ\") - ord(\"ა\") + 1\n",
    "\n",
    "for i in range(num_chars):\n",
    "    char = chr(ord(\"ა\") + i)    # ger character\n",
    "\n",
    "    file_path_1 = f\"data/Letters/{char}\"\n",
    "    file_path_2 = f\"data/images/{char}\"\n",
    "\n",
    "    # import first data\n",
    "    for j, image in enumerate(os.listdir(file_path_1)):\n",
    "        img_data = im.imread(f\"{file_path_1}/{image}\").ravel()\n",
    "\n",
    "        X_arr.append(np.append(img_data, np.ones(10000 - len(img_data))))\n",
    "        Y_arr.append(i)\n",
    "    \n",
    "    # import second data\n",
    "    for j, image in enumerate(os.listdir(file_path_2)):\n",
    "        img_data = im.imread(f\"{file_path_2}/{image}\").ravel()\n",
    "\n",
    "        X_arr.append(np.append(img_data, np.ones(10000 - len(img_data))))\n",
    "        Y_arr.append(i)"
   ]
  },
  {
   "cell_type": "markdown",
   "metadata": {},
   "source": [
    "turn list of image values to numpy matrix, values to one_hot vector"
   ]
  },
  {
   "cell_type": "code",
   "execution_count": 4,
   "metadata": {},
   "outputs": [
    {
     "data": {
      "text/plain": [
       "((96897, 10000), (96897, 33))"
      ]
     },
     "execution_count": 4,
     "metadata": {},
     "output_type": "execute_result"
    }
   ],
   "source": [
    "X = np.asmatrix(X_arr)\n",
    "Y = to_one_hot(np.asarray(Y_arr), num_chars)    # convert 33 characters to one_hot array\n",
    "\n",
    "X.shape, Y.shape"
   ]
  },
  {
   "cell_type": "markdown",
   "metadata": {},
   "source": [
    "divide data to train, validation, and test"
   ]
  },
  {
   "cell_type": "code",
   "execution_count": 5,
   "metadata": {},
   "outputs": [
    {
     "data": {
      "text/plain": [
       "((77517, 10000), (77517, 33), (19380, 10000), (19380, 33))"
      ]
     },
     "execution_count": 5,
     "metadata": {},
     "output_type": "execute_result"
    }
   ],
   "source": [
    "division_points = (int(X.shape[0] * 0.6), int(X.shape[0] * 0.8))\n",
    "\n",
    "data = np.append(X, Y, 1)\n",
    "np.random.shuffle(data)\n",
    "\n",
    "X = data[:, 0: X.shape[1]]\n",
    "Y = data[:, X.shape[1]:]\n",
    "\n",
    "X_train = X[0: division_points[0], :]\n",
    "Y_train = Y[0: division_points[0], :]\n",
    "\n",
    "X_valid = X[division_points[0]: division_points[1], :]\n",
    "Y_valid = Y[division_points[0]: division_points[1], :]\n",
    "\n",
    "X_test = X[division_points[1]:, :]\n",
    "Y_test = Y[division_points[1]:, :]\n",
    "\n",
    "X_train.shape, Y_train.shape, X_valid.shape, Y_valid.shape, X_test.shape, Y_test.shape"
   ]
  },
  {
   "cell_type": "markdown",
   "metadata": {},
   "source": [
    "add normalizarion to the three datas seperately"
   ]
  },
  {
   "cell_type": "code",
   "execution_count": 6,
   "metadata": {},
   "outputs": [],
   "source": [
    "X_train -= X_train.mean(0)\n",
    "X_valid -= X_valid.mean(0)\n",
    "X_test -= X_test.mean(0)"
   ]
  },
  {
   "cell_type": "markdown",
   "metadata": {},
   "source": [
    "##### Reduce dimensions using PCA for data compression reasons\n",
    "find minimum dimension to reduce data to\n",
    "\n",
    "start from 0 and raise dimension, until reduced dimension retaines 99% of the original varinace"
   ]
  },
  {
   "cell_type": "code",
   "execution_count": 7,
   "metadata": {},
   "outputs": [],
   "source": [
    "min_dimension = 0\n",
    "\n",
    "sigma = (1 / X_train.shape[0]) * X.T * X\n",
    "u, s, _ = np.linalg.svd(sigma)\n",
    "\n",
    "dimension_sum = 0\n",
    "full_sum = np.sum(s)\n",
    "\n",
    "for k in range(len(s)):\n",
    "    dimension_sum += s[k]\n",
    "    variance_retained = dimension_sum / full_sum\n",
    "\n",
    "    if variance_retained > 0.99:\n",
    "        min_dimension = k\n",
    "        break"
   ]
  },
  {
   "cell_type": "code",
   "execution_count": 8,
   "metadata": {},
   "outputs": [
    {
     "data": {
      "text/plain": [
       "2344"
      ]
     },
     "execution_count": 8,
     "metadata": {},
     "output_type": "execute_result"
    }
   ],
   "source": [
    "min_dimension"
   ]
  },
  {
   "cell_type": "markdown",
   "metadata": {},
   "source": [
    "reduce data"
   ]
  },
  {
   "cell_type": "code",
   "execution_count": 9,
   "metadata": {},
   "outputs": [
    {
     "data": {
      "text/plain": [
       "((77517, 2344), (19380, 2344))"
      ]
     },
     "execution_count": 9,
     "metadata": {},
     "output_type": "execute_result"
    }
   ],
   "source": [
    "u_reduce = u[:, : min_dimension]\n",
    "\n",
    "X_train = X_train * u_reduce\n",
    "X_valid = X_valid * u_reduce\n",
    "X_test = X_test * u_reduce\n",
    "\n",
    "X_train.shape, X_valid.shape, X_test.shape"
   ]
  },
  {
   "cell_type": "markdown",
   "metadata": {},
   "source": [
    "### Build a model\n",
    "build a model using tensorFlow and Keras libraries"
   ]
  },
  {
   "cell_type": "code",
   "execution_count": 10,
   "metadata": {},
   "outputs": [],
   "source": [
    "from typing import Optional\n",
    "\n",
    "def get_model(alpha: float, lambd: Optional[float] = 0) -> tf.keras.Sequential:\n",
    "    # l2 regulizer - sum(square(x))\n",
    "    from tensorflow.keras.regularizers import l2\n",
    "\n",
    "    # model with 4 layers\n",
    "    # Input layer with {min_dimension} nodes\n",
    "    # 2 hidden layers with \"ReLU\" activation function and 256 nodes\n",
    "    # Output layer with \"SoftMax\" activation function and {num_chars} or 33 layers\n",
    "    model = tf.keras.Sequential([\n",
    "        tf.keras.layers.Input(shape=min_dimension),\n",
    "        tf.keras.layers.Dense(256, activation='relu', kernel_regularizer=l2(l=lambd)),\n",
    "        tf.keras.layers.Dense(256, activation='relu', kernel_regularizer=l2(l=lambd)),\n",
    "        tf.keras.layers.Dense(num_chars, activation='softmax', kernel_regularizer=l2(l=lambd))\n",
    "    ])\n",
    "\n",
    "    model.compile(\n",
    "        optimizer=tf.keras.optimizers.Adam(learning_rate=alpha), \n",
    "        loss='categorical_crossentropy',    # cost function\n",
    "        metrics=['accuracy']                # statistics to keep track of\n",
    "    )\n",
    "\n",
    "    return model"
   ]
  },
  {
   "cell_type": "markdown",
   "metadata": {},
   "source": [
    "##### draw the graph of model costs to choose the best alpha"
   ]
  },
  {
   "cell_type": "code",
   "execution_count": 13,
   "metadata": {},
   "outputs": [
    {
     "name": "stdout",
     "output_type": "stream",
     "text": [
      "Epoch 1/10\n",
      "2423/2423 [==============================] - 8s 3ms/step - loss: 1.1887 - accuracy: 0.6746 - val_loss: 0.8117 - val_accuracy: 0.7711\n",
      "Epoch 2/10\n",
      "2423/2423 [==============================] - 8s 3ms/step - loss: 0.5412 - accuracy: 0.8393 - val_loss: 0.7194 - val_accuracy: 0.8029\n",
      "Epoch 3/10\n",
      "2423/2423 [==============================] - 8s 3ms/step - loss: 0.3322 - accuracy: 0.8980 - val_loss: 0.7440 - val_accuracy: 0.8161\n",
      "Epoch 4/10\n",
      "2423/2423 [==============================] - 8s 3ms/step - loss: 0.2334 - accuracy: 0.9274 - val_loss: 0.8223 - val_accuracy: 0.8162\n",
      "Epoch 5/10\n",
      "2423/2423 [==============================] - 8s 3ms/step - loss: 0.1815 - accuracy: 0.9438 - val_loss: 0.8695 - val_accuracy: 0.8207\n",
      "Epoch 6/10\n",
      "2423/2423 [==============================] - 8s 3ms/step - loss: 0.1432 - accuracy: 0.9559 - val_loss: 1.0119 - val_accuracy: 0.8176\n",
      "Epoch 7/10\n",
      "2423/2423 [==============================] - 8s 3ms/step - loss: 0.1314 - accuracy: 0.9606 - val_loss: 1.0471 - val_accuracy: 0.8247\n",
      "Epoch 8/10\n",
      "2423/2423 [==============================] - 9s 4ms/step - loss: 0.1178 - accuracy: 0.9652 - val_loss: 1.0948 - val_accuracy: 0.8272\n",
      "Epoch 9/10\n",
      "2423/2423 [==============================] - 8s 3ms/step - loss: 0.1013 - accuracy: 0.9706 - val_loss: 1.1339 - val_accuracy: 0.8296\n",
      "Epoch 10/10\n",
      "2423/2423 [==============================] - 8s 3ms/step - loss: 0.0983 - accuracy: 0.9724 - val_loss: 1.2090 - val_accuracy: 0.8259\n"
     ]
    }
   ],
   "source": [
    "alpha = 0.001   # Manually select the best alpha acording to the cost function graph\n",
    "\n",
    "model = get_model(alpha)\n",
    "\n",
    "history = model.fit(X_train, Y_train, epochs=10, validation_data=(X_valid, Y_valid))\n",
    "loss = history.history['loss']"
   ]
  },
  {
   "cell_type": "code",
   "execution_count": 14,
   "metadata": {},
   "outputs": [
    {
     "data": {
      "text/plain": [
       "Text(0.5, 1.0, 'Error vs. Training Epoch')"
      ]
     },
     "execution_count": 14,
     "metadata": {},
     "output_type": "execute_result"
    },
    {
     "data": {
      "image/png": "[encoded data removed]",
      "text/plain": [
       "<Figure size 864x576 with 1 Axes>"
      ]
     },
     "metadata": {
      "needs_background": "light"
     },
     "output_type": "display_data"
    }
   ],
   "source": [
    "vfig, ax = plt.subplots(figsize=(12,8))\n",
    "ax.plot(np.arange(len(loss)), loss, 'r')\n",
    "ax.set_xlabel('Iterations')\n",
    "ax.set_ylabel('Cost')\n",
    "ax.set_title('Error vs. Training Epoch')"
   ]
  },
  {
   "cell_type": "markdown",
   "metadata": {},
   "source": [
    "##### choose optimal lambda for the model\n",
    "generate 12 different lambda values (including 0)"
   ]
  },
  {
   "cell_type": "code",
   "execution_count": 15,
   "metadata": {},
   "outputs": [],
   "source": [
    "lambdas: list[float] = [0]\n",
    "\n",
    "lambd = 0.0001\n",
    "while len(lambdas) < 12:\n",
    "    lambdas.append(lambd)\n",
    "    \n",
    "    lambd *= 2"
   ]
  },
  {
   "cell_type": "markdown",
   "metadata": {},
   "source": [
    "train model on different regularization parameters and choose the one that performes best on cross-validation data"
   ]
  },
  {
   "cell_type": "code",
   "execution_count": 16,
   "metadata": {},
   "outputs": [
    {
     "name": "stdout",
     "output_type": "stream",
     "text": [
      "Epoch 1/10\n",
      "2423/2423 [==============================] - 10s 4ms/step - loss: 1.1878 - accuracy: 0.6731 - val_loss: 0.8260 - val_accuracy: 0.7649\n",
      "Epoch 2/10\n",
      "2423/2423 [==============================] - 8s 3ms/step - loss: 0.5397 - accuracy: 0.8406 - val_loss: 0.7063 - val_accuracy: 0.8038\n",
      "Epoch 3/10\n",
      "2423/2423 [==============================] - 8s 3ms/step - loss: 0.3329 - accuracy: 0.8973 - val_loss: 0.7427 - val_accuracy: 0.8115\n",
      "Epoch 4/10\n",
      "2423/2423 [==============================] - 8s 3ms/step - loss: 0.2346 - accuracy: 0.9270 - val_loss: 0.8471 - val_accuracy: 0.8123\n",
      "Epoch 5/10\n",
      "2423/2423 [==============================] - 8s 3ms/step - loss: 0.1800 - accuracy: 0.9444 - val_loss: 0.9108 - val_accuracy: 0.8181\n",
      "Epoch 6/10\n",
      "2423/2423 [==============================] - 8s 3ms/step - loss: 0.1465 - accuracy: 0.9548 - val_loss: 0.9739 - val_accuracy: 0.8243\n",
      "Epoch 7/10\n",
      "2423/2423 [==============================] - 8s 3ms/step - loss: 0.1274 - accuracy: 0.9609 - val_loss: 1.0110 - val_accuracy: 0.8287\n",
      "Epoch 8/10\n",
      "2423/2423 [==============================] - 8s 3ms/step - loss: 0.1139 - accuracy: 0.9661 - val_loss: 1.1268 - val_accuracy: 0.8255\n",
      "Epoch 9/10\n",
      "2423/2423 [==============================] - 8s 3ms/step - loss: 0.1035 - accuracy: 0.9684 - val_loss: 1.2051 - val_accuracy: 0.8236\n",
      "Epoch 10/10\n",
      "2423/2423 [==============================] - 8s 3ms/step - loss: 0.1015 - accuracy: 0.9707 - val_loss: 1.2725 - val_accuracy: 0.8252\n",
      "1 / 12\n",
      "Epoch 1/10\n",
      "2423/2423 [==============================] - 10s 4ms/step - loss: 1.3208 - accuracy: 0.6759 - val_loss: 0.9800 - val_accuracy: 0.7711\n",
      "Epoch 2/10\n",
      "2423/2423 [==============================] - 9s 4ms/step - loss: 0.7827 - accuracy: 0.8266 - val_loss: 0.9186 - val_accuracy: 0.7983\n",
      "Epoch 3/10\n",
      "2423/2423 [==============================] - 9s 4ms/step - loss: 0.6545 - accuracy: 0.8740 - val_loss: 0.9395 - val_accuracy: 0.8162\n",
      "Epoch 4/10\n",
      "2423/2423 [==============================] - 10s 4ms/step - loss: 0.5975 - accuracy: 0.9010 - val_loss: 0.9424 - val_accuracy: 0.8239\n",
      "Epoch 5/10\n",
      "2423/2423 [==============================] - 10s 4ms/step - loss: 0.5714 - accuracy: 0.9151 - val_loss: 0.9591 - val_accuracy: 0.8342\n",
      "Epoch 6/10\n",
      "2423/2423 [==============================] - 10s 4ms/step - loss: 0.5562 - accuracy: 0.9240 - val_loss: 0.9636 - val_accuracy: 0.8363\n",
      "Epoch 7/10\n",
      "2423/2423 [==============================] - 10s 4ms/step - loss: 0.5399 - accuracy: 0.9306 - val_loss: 0.9711 - val_accuracy: 0.8420\n",
      "Epoch 8/10\n",
      "2423/2423 [==============================] - 10s 4ms/step - loss: 0.5298 - accuracy: 0.9357 - val_loss: 0.9734 - val_accuracy: 0.8405\n",
      "Epoch 9/10\n",
      "2423/2423 [==============================] - 10s 4ms/step - loss: 0.5242 - accuracy: 0.9387 - val_loss: 0.9857 - val_accuracy: 0.8429\n",
      "Epoch 10/10\n",
      "2423/2423 [==============================] - 10s 4ms/step - loss: 0.5190 - accuracy: 0.9412 - val_loss: 0.9606 - val_accuracy: 0.8468\n",
      "2 / 12\n",
      "Epoch 1/10\n",
      "2423/2423 [==============================] - 12s 4ms/step - loss: 1.4257 - accuracy: 0.6712 - val_loss: 1.1004 - val_accuracy: 0.7641\n",
      "Epoch 2/10\n",
      "2423/2423 [==============================] - 10s 4ms/step - loss: 0.9107 - accuracy: 0.8183 - val_loss: 1.0275 - val_accuracy: 0.7963\n",
      "Epoch 3/10\n",
      "2423/2423 [==============================] - 10s 4ms/step - loss: 0.8007 - accuracy: 0.8609 - val_loss: 1.0096 - val_accuracy: 0.8148\n",
      "Epoch 4/10\n",
      "2423/2423 [==============================] - 10s 4ms/step - loss: 0.7514 - accuracy: 0.8824 - val_loss: 1.0194 - val_accuracy: 0.8191\n",
      "Epoch 5/10\n",
      "2423/2423 [==============================] - 10s 4ms/step - loss: 0.7222 - accuracy: 0.8964 - val_loss: 0.9871 - val_accuracy: 0.8330\n",
      "Epoch 6/10\n",
      "2423/2423 [==============================] - 10s 4ms/step - loss: 0.6998 - accuracy: 0.9056 - val_loss: 0.9897 - val_accuracy: 0.8401\n",
      "Epoch 7/10\n",
      "2423/2423 [==============================] - 10s 4ms/step - loss: 0.6922 - accuracy: 0.9091 - val_loss: 1.0040 - val_accuracy: 0.8317\n",
      "Epoch 8/10\n",
      "2423/2423 [==============================] - 10s 4ms/step - loss: 0.6754 - accuracy: 0.9154 - val_loss: 0.9817 - val_accuracy: 0.8459\n",
      "Epoch 9/10\n",
      "2423/2423 [==============================] - 10s 4ms/step - loss: 0.6712 - accuracy: 0.9172 - val_loss: 0.9828 - val_accuracy: 0.8446\n",
      "Epoch 10/10\n",
      "2423/2423 [==============================] - 10s 4ms/step - loss: 0.6587 - accuracy: 0.9220 - val_loss: 0.9681 - val_accuracy: 0.8488\n",
      "3 / 12\n",
      "Epoch 1/10\n",
      "2423/2423 [==============================] - 11s 5ms/step - loss: 1.5575 - accuracy: 0.6699 - val_loss: 1.2203 - val_accuracy: 0.7616\n",
      "Epoch 2/10\n",
      "2423/2423 [==============================] - 10s 4ms/step - loss: 1.0736 - accuracy: 0.8049 - val_loss: 1.1333 - val_accuracy: 0.7948\n",
      "Epoch 3/10\n",
      "2423/2423 [==============================] - 10s 4ms/step - loss: 0.9778 - accuracy: 0.8403 - val_loss: 1.1162 - val_accuracy: 0.8092\n",
      "Epoch 4/10\n",
      "2423/2423 [==============================] - 10s 4ms/step - loss: 0.9327 - accuracy: 0.8582 - val_loss: 1.0980 - val_accuracy: 0.8186\n",
      "Epoch 5/10\n",
      "2423/2423 [==============================] - 10s 4ms/step - loss: 0.9038 - accuracy: 0.8692 - val_loss: 1.0749 - val_accuracy: 0.8282\n",
      "Epoch 6/10\n",
      "2423/2423 [==============================] - 10s 4ms/step - loss: 0.8845 - accuracy: 0.8763 - val_loss: 1.0653 - val_accuracy: 0.8299\n",
      "Epoch 7/10\n",
      "2423/2423 [==============================] - 10s 4ms/step - loss: 0.8657 - accuracy: 0.8813 - val_loss: 1.0602 - val_accuracy: 0.8351\n",
      "Epoch 8/10\n",
      "2423/2423 [==============================] - 10s 4ms/step - loss: 0.8521 - accuracy: 0.8854 - val_loss: 1.0540 - val_accuracy: 0.8353\n",
      "Epoch 9/10\n",
      "2423/2423 [==============================] - 10s 4ms/step - loss: 0.8430 - accuracy: 0.8889 - val_loss: 1.0329 - val_accuracy: 0.8426\n",
      "Epoch 10/10\n",
      "2423/2423 [==============================] - 10s 4ms/step - loss: 0.8311 - accuracy: 0.8907 - val_loss: 1.0358 - val_accuracy: 0.8421\n",
      "4 / 12\n",
      "Epoch 1/10\n",
      "2423/2423 [==============================] - 10s 4ms/step - loss: 1.7274 - accuracy: 0.6675 - val_loss: 1.4135 - val_accuracy: 0.7389\n",
      "Epoch 2/10\n",
      "2423/2423 [==============================] - 10s 4ms/step - loss: 1.2777 - accuracy: 0.7818 - val_loss: 1.2786 - val_accuracy: 0.7842\n",
      "Epoch 3/10\n",
      "2423/2423 [==============================] - 10s 4ms/step - loss: 1.1997 - accuracy: 0.8102 - val_loss: 1.2539 - val_accuracy: 0.7996\n",
      "Epoch 4/10\n",
      "2423/2423 [==============================] - 10s 4ms/step - loss: 1.1566 - accuracy: 0.8232 - val_loss: 1.2687 - val_accuracy: 0.7929\n",
      "Epoch 5/10\n",
      "2423/2423 [==============================] - 10s 4ms/step - loss: 1.1280 - accuracy: 0.8350 - val_loss: 1.2242 - val_accuracy: 0.8118\n",
      "Epoch 6/10\n",
      "2423/2423 [==============================] - 11s 5ms/step - loss: 1.1081 - accuracy: 0.8391 - val_loss: 1.2083 - val_accuracy: 0.8151\n",
      "Epoch 7/10\n",
      "2423/2423 [==============================] - 10s 4ms/step - loss: 1.0921 - accuracy: 0.8439 - val_loss: 1.2147 - val_accuracy: 0.8093\n",
      "Epoch 8/10\n",
      "2423/2423 [==============================] - 10s 4ms/step - loss: 1.0752 - accuracy: 0.8477 - val_loss: 1.1827 - val_accuracy: 0.8199\n",
      "Epoch 9/10\n",
      "2423/2423 [==============================] - 10s 4ms/step - loss: 1.0585 - accuracy: 0.8518 - val_loss: 1.1887 - val_accuracy: 0.8172\n",
      "Epoch 10/10\n",
      "2423/2423 [==============================] - 10s 4ms/step - loss: 1.0528 - accuracy: 0.8522 - val_loss: 1.1599 - val_accuracy: 0.8251\n",
      "5 / 12\n",
      "Epoch 1/10\n",
      "2423/2423 [==============================] - 11s 4ms/step - loss: 1.9480 - accuracy: 0.6561 - val_loss: 1.5962 - val_accuracy: 0.7331\n",
      "Epoch 2/10\n",
      "2423/2423 [==============================] - 11s 4ms/step - loss: 1.5208 - accuracy: 0.7527 - val_loss: 1.5283 - val_accuracy: 0.7534\n",
      "Epoch 3/10\n",
      "2423/2423 [==============================] - 10s 4ms/step - loss: 1.4619 - accuracy: 0.7718 - val_loss: 1.4784 - val_accuracy: 0.7739\n",
      "Epoch 4/10\n",
      "2423/2423 [==============================] - 10s 4ms/step - loss: 1.4264 - accuracy: 0.7851 - val_loss: 1.4582 - val_accuracy: 0.7778\n",
      "Epoch 5/10\n",
      "2423/2423 [==============================] - 11s 4ms/step - loss: 1.3969 - accuracy: 0.7925 - val_loss: 1.4498 - val_accuracy: 0.7767\n",
      "Epoch 6/10\n",
      "2423/2423 [==============================] - 11s 4ms/step - loss: 1.3748 - accuracy: 0.7993 - val_loss: 1.4271 - val_accuracy: 0.7851\n",
      "Epoch 7/10\n",
      "2423/2423 [==============================] - 10s 4ms/step - loss: 1.3581 - accuracy: 0.8026 - val_loss: 1.4149 - val_accuracy: 0.7871\n",
      "Epoch 8/10\n",
      "2423/2423 [==============================] - 10s 4ms/step - loss: 1.3453 - accuracy: 0.8070 - val_loss: 1.4289 - val_accuracy: 0.7804\n",
      "Epoch 9/10\n",
      "2423/2423 [==============================] - 10s 4ms/step - loss: 1.3334 - accuracy: 0.8089 - val_loss: 1.3955 - val_accuracy: 0.7899\n",
      "Epoch 10/10\n",
      "2423/2423 [==============================] - 10s 4ms/step - loss: 1.3251 - accuracy: 0.8114 - val_loss: 1.3927 - val_accuracy: 0.7922\n",
      "6 / 12\n",
      "Epoch 1/10\n",
      "2423/2423 [==============================] - 11s 4ms/step - loss: 2.2419 - accuracy: 0.6276 - val_loss: 1.9300 - val_accuracy: 0.6841\n",
      "Epoch 2/10\n",
      "2423/2423 [==============================] - 10s 4ms/step - loss: 1.8535 - accuracy: 0.7090 - val_loss: 1.8620 - val_accuracy: 0.7127\n",
      "Epoch 3/10\n",
      "2423/2423 [==============================] - 10s 4ms/step - loss: 1.7993 - accuracy: 0.7261 - val_loss: 1.8034 - val_accuracy: 0.7292\n",
      "Epoch 4/10\n",
      "2423/2423 [==============================] - 10s 4ms/step - loss: 1.7618 - accuracy: 0.7345 - val_loss: 1.7725 - val_accuracy: 0.7310\n",
      "Epoch 5/10\n",
      "2423/2423 [==============================] - 10s 4ms/step - loss: 1.7330 - accuracy: 0.7418 - val_loss: 1.7525 - val_accuracy: 0.7393\n",
      "Epoch 6/10\n",
      "2423/2423 [==============================] - 10s 4ms/step - loss: 1.7138 - accuracy: 0.7460 - val_loss: 1.7547 - val_accuracy: 0.7305\n",
      "Epoch 7/10\n",
      "2423/2423 [==============================] - 10s 4ms/step - loss: 1.6983 - accuracy: 0.7494 - val_loss: 1.7382 - val_accuracy: 0.7386\n",
      "Epoch 8/10\n",
      "2423/2423 [==============================] - 10s 4ms/step - loss: 1.6884 - accuracy: 0.7515 - val_loss: 1.7203 - val_accuracy: 0.7411\n",
      "Epoch 9/10\n",
      "2423/2423 [==============================] - 10s 4ms/step - loss: 1.6782 - accuracy: 0.7525 - val_loss: 1.7223 - val_accuracy: 0.7379\n",
      "Epoch 10/10\n",
      "2423/2423 [==============================] - 10s 4ms/step - loss: 1.6698 - accuracy: 0.7545 - val_loss: 1.7091 - val_accuracy: 0.7441\n",
      "7 / 12\n",
      "Epoch 1/10\n",
      "2423/2423 [==============================] - 11s 4ms/step - loss: 2.6161 - accuracy: 0.5866 - val_loss: 2.3230 - val_accuracy: 0.6429\n",
      "Epoch 2/10\n",
      "2423/2423 [==============================] - 10s 4ms/step - loss: 2.2706 - accuracy: 0.6443 - val_loss: 2.2741 - val_accuracy: 0.6393\n",
      "Epoch 3/10\n",
      "2423/2423 [==============================] - 10s 4ms/step - loss: 2.2196 - accuracy: 0.6575 - val_loss: 2.2348 - val_accuracy: 0.6542\n",
      "Epoch 4/10\n",
      "2423/2423 [==============================] - 10s 4ms/step - loss: 2.1850 - accuracy: 0.6651 - val_loss: 2.1991 - val_accuracy: 0.6665\n",
      "Epoch 5/10\n",
      "2423/2423 [==============================] - 11s 4ms/step - loss: 2.1605 - accuracy: 0.6730 - val_loss: 2.1812 - val_accuracy: 0.6636\n",
      "Epoch 6/10\n",
      "2423/2423 [==============================] - 11s 5ms/step - loss: 2.1422 - accuracy: 0.6753 - val_loss: 2.1612 - val_accuracy: 0.6742\n",
      "Epoch 7/10\n",
      "2423/2423 [==============================] - 11s 4ms/step - loss: 2.1299 - accuracy: 0.6774 - val_loss: 2.1574 - val_accuracy: 0.6754\n",
      "Epoch 8/10\n",
      "2423/2423 [==============================] - 10s 4ms/step - loss: 2.1213 - accuracy: 0.6804 - val_loss: 2.1371 - val_accuracy: 0.6828\n",
      "Epoch 9/10\n",
      "2423/2423 [==============================] - 10s 4ms/step - loss: 2.1153 - accuracy: 0.6804 - val_loss: 2.1335 - val_accuracy: 0.6826\n",
      "Epoch 10/10\n",
      "2423/2423 [==============================] - 10s 4ms/step - loss: 2.1103 - accuracy: 0.6824 - val_loss: 2.1398 - val_accuracy: 0.6731\n",
      "8 / 12\n",
      "Epoch 1/10\n",
      "2423/2423 [==============================] - 11s 4ms/step - loss: 3.0926 - accuracy: 0.4830 - val_loss: 2.8090 - val_accuracy: 0.5306\n",
      "Epoch 2/10\n",
      "2423/2423 [==============================] - 10s 4ms/step - loss: 2.7659 - accuracy: 0.5470 - val_loss: 2.7578 - val_accuracy: 0.5539\n",
      "Epoch 3/10\n",
      "2423/2423 [==============================] - 10s 4ms/step - loss: 2.7213 - accuracy: 0.5558 - val_loss: 2.7489 - val_accuracy: 0.5451\n",
      "Epoch 4/10\n",
      "2423/2423 [==============================] - 10s 4ms/step - loss: 2.6953 - accuracy: 0.5645 - val_loss: 2.7021 - val_accuracy: 0.5590\n",
      "Epoch 5/10\n",
      "2423/2423 [==============================] - 11s 4ms/step - loss: 2.6747 - accuracy: 0.5703 - val_loss: 2.6805 - val_accuracy: 0.5757\n",
      "Epoch 6/10\n",
      "2423/2423 [==============================] - 10s 4ms/step - loss: 2.6611 - accuracy: 0.5750 - val_loss: 2.6722 - val_accuracy: 0.5667\n",
      "Epoch 7/10\n",
      "2423/2423 [==============================] - 11s 5ms/step - loss: 2.6518 - accuracy: 0.5765 - val_loss: 2.6765 - val_accuracy: 0.5680\n",
      "Epoch 8/10\n",
      "2423/2423 [==============================] - 11s 4ms/step - loss: 2.6483 - accuracy: 0.5801 - val_loss: 2.6600 - val_accuracy: 0.5759\n",
      "Epoch 9/10\n",
      "2423/2423 [==============================] - 10s 4ms/step - loss: 2.6430 - accuracy: 0.5787 - val_loss: 2.6551 - val_accuracy: 0.5776\n",
      "Epoch 10/10\n",
      "2423/2423 [==============================] - 11s 5ms/step - loss: 2.6387 - accuracy: 0.5815 - val_loss: 2.6482 - val_accuracy: 0.5834\n",
      "9 / 12\n",
      "Epoch 1/10\n",
      "2423/2423 [==============================] - 12s 5ms/step - loss: 3.5662 - accuracy: 0.2220 - val_loss: 3.2671 - val_accuracy: 0.2605\n",
      "Epoch 2/10\n",
      "2423/2423 [==============================] - 12s 5ms/step - loss: 3.2484 - accuracy: 0.2640 - val_loss: 3.2475 - val_accuracy: 0.2654\n",
      "Epoch 3/10\n",
      "2423/2423 [==============================] - 10s 4ms/step - loss: 3.2231 - accuracy: 0.2794 - val_loss: 3.2221 - val_accuracy: 0.2780\n",
      "Epoch 4/10\n",
      "2423/2423 [==============================] - 10s 4ms/step - loss: 3.2101 - accuracy: 0.2838 - val_loss: 3.2141 - val_accuracy: 0.2804\n",
      "Epoch 5/10\n",
      "2423/2423 [==============================] - 10s 4ms/step - loss: 3.2004 - accuracy: 0.2881 - val_loss: 3.2082 - val_accuracy: 0.2905\n",
      "Epoch 6/10\n",
      "2423/2423 [==============================] - 10s 4ms/step - loss: 3.1924 - accuracy: 0.2891 - val_loss: 3.2016 - val_accuracy: 0.2951\n",
      "Epoch 7/10\n",
      "2423/2423 [==============================] - 10s 4ms/step - loss: 3.1858 - accuracy: 0.2930 - val_loss: 3.1952 - val_accuracy: 0.2841\n",
      "Epoch 8/10\n",
      "2423/2423 [==============================] - 10s 4ms/step - loss: 3.1813 - accuracy: 0.2957 - val_loss: 3.1928 - val_accuracy: 0.2910\n",
      "Epoch 9/10\n",
      "2423/2423 [==============================] - 10s 4ms/step - loss: 3.1778 - accuracy: 0.2979 - val_loss: 3.1911 - val_accuracy: 0.2896\n",
      "Epoch 10/10\n",
      "2423/2423 [==============================] - 10s 4ms/step - loss: 3.1742 - accuracy: 0.2988 - val_loss: 3.1858 - val_accuracy: 0.2914\n",
      "10 / 12\n",
      "Epoch 1/10\n",
      "2423/2423 [==============================] - 11s 4ms/step - loss: 3.8918 - accuracy: 0.0335 - val_loss: 3.4972 - val_accuracy: 0.0284\n",
      "Epoch 2/10\n",
      "2423/2423 [==============================] - 10s 4ms/step - loss: 3.4969 - accuracy: 0.0297 - val_loss: 3.4972 - val_accuracy: 0.0281\n",
      "Epoch 3/10\n",
      "2423/2423 [==============================] - 10s 4ms/step - loss: 3.4968 - accuracy: 0.0295 - val_loss: 3.4969 - val_accuracy: 0.0281\n",
      "Epoch 4/10\n",
      "2423/2423 [==============================] - 10s 4ms/step - loss: 3.4968 - accuracy: 0.0298 - val_loss: 3.4970 - val_accuracy: 0.0300\n",
      "Epoch 5/10\n",
      "2423/2423 [==============================] - 10s 4ms/step - loss: 3.4969 - accuracy: 0.0296 - val_loss: 3.4972 - val_accuracy: 0.0295\n",
      "Epoch 6/10\n",
      "2423/2423 [==============================] - 10s 4ms/step - loss: 3.4969 - accuracy: 0.0306 - val_loss: 3.4971 - val_accuracy: 0.0306\n",
      "Epoch 7/10\n",
      "2423/2423 [==============================] - 10s 4ms/step - loss: 3.4969 - accuracy: 0.0295 - val_loss: 3.4970 - val_accuracy: 0.0303\n",
      "Epoch 8/10\n",
      "2423/2423 [==============================] - 10s 4ms/step - loss: 3.4969 - accuracy: 0.0291 - val_loss: 3.4971 - val_accuracy: 0.0284\n",
      "Epoch 9/10\n",
      "2423/2423 [==============================] - 10s 4ms/step - loss: 3.4968 - accuracy: 0.0297 - val_loss: 3.4968 - val_accuracy: 0.0295\n",
      "Epoch 10/10\n",
      "2423/2423 [==============================] - 10s 4ms/step - loss: 3.4968 - accuracy: 0.0300 - val_loss: 3.4970 - val_accuracy: 0.0300\n",
      "11 / 12\n",
      "Epoch 1/10\n",
      "2423/2423 [==============================] - 12s 4ms/step - loss: 4.2223 - accuracy: 0.0319 - val_loss: 3.4972 - val_accuracy: 0.0296\n",
      "Epoch 2/10\n",
      "2423/2423 [==============================] - 10s 4ms/step - loss: 3.4972 - accuracy: 0.0301 - val_loss: 3.4973 - val_accuracy: 0.0295\n",
      "Epoch 3/10\n",
      "2423/2423 [==============================] - 10s 4ms/step - loss: 3.4969 - accuracy: 0.0305 - val_loss: 3.4971 - val_accuracy: 0.0300\n",
      "Epoch 4/10\n",
      "2423/2423 [==============================] - 10s 4ms/step - loss: 3.4968 - accuracy: 0.0302 - val_loss: 3.4969 - val_accuracy: 0.0293\n",
      "Epoch 5/10\n",
      "2423/2423 [==============================] - 10s 4ms/step - loss: 3.4968 - accuracy: 0.0297 - val_loss: 3.4971 - val_accuracy: 0.0281\n",
      "Epoch 6/10\n",
      "2423/2423 [==============================] - 10s 4ms/step - loss: 3.4969 - accuracy: 0.0288 - val_loss: 3.4971 - val_accuracy: 0.0281\n",
      "Epoch 7/10\n",
      "2423/2423 [==============================] - 10s 4ms/step - loss: 3.4969 - accuracy: 0.0304 - val_loss: 3.4970 - val_accuracy: 0.0289\n",
      "Epoch 8/10\n",
      "2423/2423 [==============================] - 10s 4ms/step - loss: 3.4969 - accuracy: 0.0294 - val_loss: 3.4970 - val_accuracy: 0.0295\n",
      "Epoch 9/10\n",
      "2423/2423 [==============================] - 10s 4ms/step - loss: 3.4969 - accuracy: 0.0290 - val_loss: 3.4969 - val_accuracy: 0.0296\n",
      "Epoch 10/10\n",
      "2423/2423 [==============================] - 9s 4ms/step - loss: 3.4969 - accuracy: 0.0291 - val_loss: 3.4971 - val_accuracy: 0.0300\n",
      "12 / 12\n"
     ]
    }
   ],
   "source": [
    "errors_train = np.zeros(len(lambdas))\n",
    "errors_valid = np.zeros(len(lambdas))\n",
    "models: list[tf.keras.Sequential] = []\n",
    "\n",
    "for i, lambd in enumerate(lambdas):\n",
    "    model = get_model(alpha, lambd)\n",
    "    history = model.fit(X_train, Y_train, epochs=10, validation_data=(X_valid, Y_valid))\n",
    "    models.append(model)\n",
    "\n",
    "    train_accuracy = history.history['accuracy'][-1]\n",
    "    valid_accuracy = history.history['val_accuracy'][-1]\n",
    "\n",
    "    errors_train[i] = 1 - train_accuracy\n",
    "    errors_valid[i] = 1 - valid_accuracy\n",
    "\n",
    "    print(f\"{i + 1} / {len(lambdas)}\")"
   ]
  },
  {
   "cell_type": "markdown",
   "metadata": {},
   "source": [
    "get the best lambda and the best model acording to the cross-validation accuracy"
   ]
  },
  {
   "cell_type": "code",
   "execution_count": 17,
   "metadata": {},
   "outputs": [
    {
     "data": {
      "text/plain": [
       "0.0002"
      ]
     },
     "execution_count": 17,
     "metadata": {},
     "output_type": "execute_result"
    }
   ],
   "source": [
    "lambd = lambdas[errors_valid.argmin()]\n",
    "model = models[errors_valid.argmin()]\n",
    "lambd"
   ]
  },
  {
   "cell_type": "code",
   "execution_count": 18,
   "metadata": {},
   "outputs": [
    {
     "data": {
      "text/plain": [
       "Text(0.5, 1.0, 'Error vs. Lambda Value')"
      ]
     },
     "execution_count": 18,
     "metadata": {},
     "output_type": "execute_result"
    },
    {
     "data": {
      "image/png": "[encoded data removed]",
      "text/plain": [
       "<Figure size 864x576 with 1 Axes>"
      ]
     },
     "metadata": {
      "needs_background": "light"
     },
     "output_type": "display_data"
    }
   ],
   "source": [
    "vfig, ax = plt.subplots(figsize=(12,8))\n",
    "ax.set_xscale('log')\n",
    "ax.plot(lambdas, errors_valid, 'r', label=\"Validation Error\")\n",
    "ax.plot(lambdas, errors_train, 'b', label=\"Training Error\")\n",
    "ax.legend(loc=1)\n",
    "ax.set_xlabel('Lambda values')\n",
    "ax.set_ylabel('Error')\n",
    "ax.set_title('Error vs. Lambda Value')"
   ]
  },
  {
   "cell_type": "markdown",
   "metadata": {},
   "source": [
    "##### debug model using learning curves"
   ]
  },
  {
   "cell_type": "code",
   "execution_count": 19,
   "metadata": {},
   "outputs": [
    {
     "name": "stdout",
     "output_type": "stream",
     "text": [
      "Epoch 1/10\n",
      "243/243 [==============================] - 1s 5ms/step - loss: 2.6380 - accuracy: 0.3596 - val_loss: 1.8336 - val_accuracy: 0.5490\n",
      "Epoch 2/10\n",
      "243/243 [==============================] - 1s 4ms/step - loss: 1.1558 - accuracy: 0.7464 - val_loss: 1.7402 - val_accuracy: 0.5888\n",
      "Epoch 3/10\n",
      "243/243 [==============================] - 1s 4ms/step - loss: 0.7069 - accuracy: 0.8715 - val_loss: 1.8120 - val_accuracy: 0.6084\n",
      "Epoch 4/10\n",
      "243/243 [==============================] - 1s 4ms/step - loss: 0.5155 - accuracy: 0.9312 - val_loss: 1.9297 - val_accuracy: 0.6047\n",
      "Epoch 5/10\n",
      "243/243 [==============================] - 1s 4ms/step - loss: 0.4174 - accuracy: 0.9626 - val_loss: 2.0118 - val_accuracy: 0.6042\n",
      "Epoch 6/10\n",
      "243/243 [==============================] - 1s 4ms/step - loss: 0.3697 - accuracy: 0.9728 - val_loss: 2.1378 - val_accuracy: 0.6032\n",
      "Epoch 7/10\n",
      "243/243 [==============================] - 1s 3ms/step - loss: 0.3398 - accuracy: 0.9810 - val_loss: 2.1715 - val_accuracy: 0.6078\n",
      "Epoch 8/10\n",
      "243/243 [==============================] - 1s 3ms/step - loss: 0.3474 - accuracy: 0.9783 - val_loss: 2.3774 - val_accuracy: 0.5996\n",
      "Epoch 9/10\n",
      "243/243 [==============================] - 1s 4ms/step - loss: 0.4696 - accuracy: 0.9542 - val_loss: 2.5172 - val_accuracy: 0.5805\n",
      "Epoch 10/10\n",
      "243/243 [==============================] - 1s 4ms/step - loss: 0.5004 - accuracy: 0.9536 - val_loss: 2.5612 - val_accuracy: 0.6027\n",
      "1 / 10\n",
      "Epoch 1/10\n",
      "485/485 [==============================] - 3s 5ms/step - loss: 2.1349 - accuracy: 0.4805 - val_loss: 1.4940 - val_accuracy: 0.6440\n",
      "Epoch 2/10\n",
      "485/485 [==============================] - 2s 3ms/step - loss: 1.0348 - accuracy: 0.7777 - val_loss: 1.4680 - val_accuracy: 0.6767\n",
      "Epoch 3/10\n",
      "485/485 [==============================] - 2s 4ms/step - loss: 0.7275 - accuracy: 0.8691 - val_loss: 1.5652 - val_accuracy: 0.6801\n",
      "Epoch 4/10\n",
      "485/485 [==============================] - 2s 4ms/step - loss: 0.5863 - accuracy: 0.9161 - val_loss: 1.6153 - val_accuracy: 0.6907\n",
      "Epoch 5/10\n",
      "485/485 [==============================] - 2s 4ms/step - loss: 0.5195 - accuracy: 0.9365 - val_loss: 1.7678 - val_accuracy: 0.6791\n",
      "Epoch 6/10\n",
      "485/485 [==============================] - 2s 4ms/step - loss: 0.5182 - accuracy: 0.9403 - val_loss: 1.8223 - val_accuracy: 0.6863\n",
      "Epoch 7/10\n",
      "485/485 [==============================] - 2s 4ms/step - loss: 0.5528 - accuracy: 0.9429 - val_loss: 1.8571 - val_accuracy: 0.6963\n",
      "Epoch 8/10\n",
      "485/485 [==============================] - 2s 4ms/step - loss: 0.5085 - accuracy: 0.9619 - val_loss: 1.9247 - val_accuracy: 0.6989\n",
      "Epoch 9/10\n",
      "485/485 [==============================] - 2s 4ms/step - loss: 0.4576 - accuracy: 0.9717 - val_loss: 1.8835 - val_accuracy: 0.7126\n",
      "Epoch 10/10\n",
      "485/485 [==============================] - 2s 4ms/step - loss: 0.4349 - accuracy: 0.9749 - val_loss: 1.9720 - val_accuracy: 0.6971\n",
      "2 / 10\n",
      "Epoch 1/10\n",
      "727/727 [==============================] - 3s 4ms/step - loss: 1.9301 - accuracy: 0.5370 - val_loss: 1.4307 - val_accuracy: 0.6560\n",
      "Epoch 2/10\n",
      "727/727 [==============================] - 3s 5ms/step - loss: 1.0113 - accuracy: 0.7825 - val_loss: 1.3348 - val_accuracy: 0.7081\n",
      "Epoch 3/10\n",
      "727/727 [==============================] - 3s 5ms/step - loss: 0.7545 - accuracy: 0.8630 - val_loss: 1.4156 - val_accuracy: 0.7171\n",
      "Epoch 4/10\n",
      "727/727 [==============================] - 3s 4ms/step - loss: 0.6471 - accuracy: 0.8998 - val_loss: 1.4804 - val_accuracy: 0.7258\n",
      "Epoch 5/10\n",
      "727/727 [==============================] - 3s 4ms/step - loss: 0.6138 - accuracy: 0.9183 - val_loss: 1.5495 - val_accuracy: 0.7284\n",
      "Epoch 6/10\n",
      "727/727 [==============================] - 3s 4ms/step - loss: 0.5784 - accuracy: 0.9355 - val_loss: 1.6101 - val_accuracy: 0.7276\n",
      "Epoch 7/10\n",
      "727/727 [==============================] - 3s 4ms/step - loss: 0.5615 - accuracy: 0.9397 - val_loss: 1.6307 - val_accuracy: 0.7344\n",
      "Epoch 8/10\n",
      "727/727 [==============================] - 3s 4ms/step - loss: 0.5662 - accuracy: 0.9456 - val_loss: 1.6806 - val_accuracy: 0.7308\n",
      "Epoch 9/10\n",
      "727/727 [==============================] - 3s 4ms/step - loss: 0.5456 - accuracy: 0.9533 - val_loss: 1.7311 - val_accuracy: 0.7312\n",
      "Epoch 10/10\n",
      "727/727 [==============================] - 3s 4ms/step - loss: 0.5350 - accuracy: 0.9560 - val_loss: 1.6829 - val_accuracy: 0.7374\n",
      "3 / 10\n",
      "Epoch 1/10\n",
      "969/969 [==============================] - 4s 4ms/step - loss: 1.7987 - accuracy: 0.5687 - val_loss: 1.3510 - val_accuracy: 0.6886\n",
      "Epoch 2/10\n",
      "969/969 [==============================] - 4s 4ms/step - loss: 0.9932 - accuracy: 0.7887 - val_loss: 1.2726 - val_accuracy: 0.7308\n",
      "Epoch 3/10\n",
      "969/969 [==============================] - 4s 4ms/step - loss: 0.7764 - accuracy: 0.8574 - val_loss: 1.2941 - val_accuracy: 0.7536\n",
      "Epoch 4/10\n",
      "969/969 [==============================] - 3s 4ms/step - loss: 0.6908 - accuracy: 0.8921 - val_loss: 1.3793 - val_accuracy: 0.7555\n",
      "Epoch 5/10\n",
      "969/969 [==============================] - 4s 4ms/step - loss: 0.6498 - accuracy: 0.9118 - val_loss: 1.4505 - val_accuracy: 0.7482\n",
      "Epoch 6/10\n",
      "969/969 [==============================] - 4s 4ms/step - loss: 0.6222 - accuracy: 0.9234 - val_loss: 1.4419 - val_accuracy: 0.7604\n",
      "Epoch 7/10\n",
      "969/969 [==============================] - 4s 4ms/step - loss: 0.5962 - accuracy: 0.9338 - val_loss: 1.4428 - val_accuracy: 0.7635\n",
      "Epoch 8/10\n",
      "969/969 [==============================] - 4s 4ms/step - loss: 0.5960 - accuracy: 0.9380 - val_loss: 1.4882 - val_accuracy: 0.7661\n",
      "Epoch 9/10\n",
      "969/969 [==============================] - 4s 4ms/step - loss: 0.5705 - accuracy: 0.9465 - val_loss: 1.4766 - val_accuracy: 0.7655\n",
      "Epoch 10/10\n",
      "969/969 [==============================] - 4s 4ms/step - loss: 0.5723 - accuracy: 0.9470 - val_loss: 1.4604 - val_accuracy: 0.7728\n",
      "4 / 10\n",
      "Epoch 1/10\n",
      "1212/1212 [==============================] - 5s 4ms/step - loss: 1.6791 - accuracy: 0.6056 - val_loss: 1.2740 - val_accuracy: 0.7112\n",
      "Epoch 2/10\n",
      "1212/1212 [==============================] - 5s 4ms/step - loss: 0.9773 - accuracy: 0.7934 - val_loss: 1.2078 - val_accuracy: 0.7476\n",
      "Epoch 3/10\n",
      "1212/1212 [==============================] - 5s 4ms/step - loss: 0.7884 - accuracy: 0.8565 - val_loss: 1.2234 - val_accuracy: 0.7620\n",
      "Epoch 4/10\n",
      "1212/1212 [==============================] - 5s 4ms/step - loss: 0.7132 - accuracy: 0.8863 - val_loss: 1.2584 - val_accuracy: 0.7691\n",
      "Epoch 5/10\n",
      "1212/1212 [==============================] - 5s 4ms/step - loss: 0.6736 - accuracy: 0.9063 - val_loss: 1.2983 - val_accuracy: 0.7756\n",
      "Epoch 6/10\n",
      "1212/1212 [==============================] - 5s 4ms/step - loss: 0.6446 - accuracy: 0.9209 - val_loss: 1.3222 - val_accuracy: 0.7793\n",
      "Epoch 7/10\n",
      "1212/1212 [==============================] - 5s 4ms/step - loss: 0.6244 - accuracy: 0.9271 - val_loss: 1.3103 - val_accuracy: 0.7846\n",
      "Epoch 8/10\n",
      "1212/1212 [==============================] - 5s 4ms/step - loss: 0.6242 - accuracy: 0.9311 - val_loss: 1.3329 - val_accuracy: 0.7884\n",
      "Epoch 9/10\n",
      "1212/1212 [==============================] - 5s 4ms/step - loss: 0.6023 - accuracy: 0.9385 - val_loss: 1.3211 - val_accuracy: 0.7875\n",
      "Epoch 10/10\n",
      "1212/1212 [==============================] - 5s 4ms/step - loss: 0.6023 - accuracy: 0.9394 - val_loss: 1.3089 - val_accuracy: 0.7980\n",
      "5 / 10\n",
      "Epoch 1/10\n",
      "1454/1454 [==============================] - 6s 4ms/step - loss: 1.6153 - accuracy: 0.6217 - val_loss: 1.2446 - val_accuracy: 0.7202\n",
      "Epoch 2/10\n",
      "1454/1454 [==============================] - 5s 4ms/step - loss: 0.9565 - accuracy: 0.8006 - val_loss: 1.1677 - val_accuracy: 0.7590\n",
      "Epoch 3/10\n",
      "1454/1454 [==============================] - 6s 4ms/step - loss: 0.7979 - accuracy: 0.8544 - val_loss: 1.1756 - val_accuracy: 0.7793\n",
      "Epoch 4/10\n",
      "1454/1454 [==============================] - 6s 4ms/step - loss: 0.7275 - accuracy: 0.8847 - val_loss: 1.1829 - val_accuracy: 0.7814\n",
      "Epoch 5/10\n",
      "1454/1454 [==============================] - 6s 4ms/step - loss: 0.6867 - accuracy: 0.9022 - val_loss: 1.1936 - val_accuracy: 0.7948\n",
      "Epoch 6/10\n",
      "1454/1454 [==============================] - 5s 4ms/step - loss: 0.6705 - accuracy: 0.9134 - val_loss: 1.2234 - val_accuracy: 0.7964\n",
      "Epoch 7/10\n",
      "1454/1454 [==============================] - 5s 3ms/step - loss: 0.6538 - accuracy: 0.9209 - val_loss: 1.2326 - val_accuracy: 0.7951\n",
      "Epoch 8/10\n",
      "1454/1454 [==============================] - 5s 3ms/step - loss: 0.6440 - accuracy: 0.9271 - val_loss: 1.1951 - val_accuracy: 0.8078\n",
      "Epoch 9/10\n",
      "1454/1454 [==============================] - 5s 3ms/step - loss: 0.6256 - accuracy: 0.9312 - val_loss: 1.1979 - val_accuracy: 0.8106\n",
      "Epoch 10/10\n",
      "1454/1454 [==============================] - 6s 4ms/step - loss: 0.6213 - accuracy: 0.9337 - val_loss: 1.2253 - val_accuracy: 0.8022\n",
      "6 / 10\n",
      "Epoch 1/10\n",
      "1696/1696 [==============================] - 8s 4ms/step - loss: 1.5525 - accuracy: 0.6354 - val_loss: 1.1944 - val_accuracy: 0.7315\n",
      "Epoch 2/10\n",
      "1696/1696 [==============================] - 7s 4ms/step - loss: 0.9397 - accuracy: 0.8063 - val_loss: 1.0877 - val_accuracy: 0.7800\n",
      "Epoch 3/10\n",
      "1696/1696 [==============================] - 7s 4ms/step - loss: 0.7985 - accuracy: 0.8593 - val_loss: 1.1363 - val_accuracy: 0.7858\n",
      "Epoch 4/10\n",
      "1696/1696 [==============================] - 7s 4ms/step - loss: 0.7316 - accuracy: 0.8856 - val_loss: 1.1240 - val_accuracy: 0.8016\n",
      "Epoch 5/10\n",
      "1696/1696 [==============================] - 7s 4ms/step - loss: 0.6943 - accuracy: 0.9022 - val_loss: 1.1367 - val_accuracy: 0.8079\n",
      "Epoch 6/10\n",
      "1696/1696 [==============================] - 8s 5ms/step - loss: 0.6811 - accuracy: 0.9109 - val_loss: 1.1439 - val_accuracy: 0.8069\n",
      "Epoch 7/10\n",
      "1696/1696 [==============================] - 8s 5ms/step - loss: 0.6617 - accuracy: 0.9190 - val_loss: 1.1417 - val_accuracy: 0.8145\n",
      "Epoch 8/10\n",
      "1696/1696 [==============================] - 8s 4ms/step - loss: 0.6518 - accuracy: 0.9233 - val_loss: 1.1668 - val_accuracy: 0.8123\n",
      "Epoch 9/10\n",
      "1696/1696 [==============================] - 8s 4ms/step - loss: 0.6414 - accuracy: 0.9277 - val_loss: 1.1284 - val_accuracy: 0.8228\n",
      "Epoch 10/10\n",
      "1696/1696 [==============================] - 7s 4ms/step - loss: 0.6261 - accuracy: 0.9330 - val_loss: 1.1540 - val_accuracy: 0.8175\n",
      "7 / 10\n",
      "Epoch 1/10\n",
      "1938/1938 [==============================] - 9s 5ms/step - loss: 1.4955 - accuracy: 0.6508 - val_loss: 1.1673 - val_accuracy: 0.7416\n",
      "Epoch 2/10\n",
      "1938/1938 [==============================] - 8s 4ms/step - loss: 0.9299 - accuracy: 0.8105 - val_loss: 1.0815 - val_accuracy: 0.7834\n",
      "Epoch 3/10\n",
      "1938/1938 [==============================] - 8s 4ms/step - loss: 0.8006 - accuracy: 0.8573 - val_loss: 1.0853 - val_accuracy: 0.8006\n",
      "Epoch 4/10\n",
      "1938/1938 [==============================] - 9s 4ms/step - loss: 0.7419 - accuracy: 0.8854 - val_loss: 1.0730 - val_accuracy: 0.8157\n",
      "Epoch 5/10\n",
      "1938/1938 [==============================] - 8s 4ms/step - loss: 0.7122 - accuracy: 0.8985 - val_loss: 1.0758 - val_accuracy: 0.8192\n",
      "Epoch 6/10\n",
      "1938/1938 [==============================] - 8s 4ms/step - loss: 0.6865 - accuracy: 0.9091 - val_loss: 1.0773 - val_accuracy: 0.8229\n",
      "Epoch 7/10\n",
      "1938/1938 [==============================] - 8s 4ms/step - loss: 0.6767 - accuracy: 0.9151 - val_loss: 1.0761 - val_accuracy: 0.8272\n",
      "Epoch 8/10\n",
      "1938/1938 [==============================] - 8s 4ms/step - loss: 0.6628 - accuracy: 0.9196 - val_loss: 1.0668 - val_accuracy: 0.8300\n",
      "Epoch 9/10\n",
      "1938/1938 [==============================] - 9s 5ms/step - loss: 0.6529 - accuracy: 0.9241 - val_loss: 1.0735 - val_accuracy: 0.8299\n",
      "Epoch 10/10\n",
      "1938/1938 [==============================] - 10s 5ms/step - loss: 0.6414 - accuracy: 0.9268 - val_loss: 1.0599 - val_accuracy: 0.8305\n",
      "8 / 10\n",
      "Epoch 1/10\n",
      "2181/2181 [==============================] - 9s 4ms/step - loss: 1.4583 - accuracy: 0.6650 - val_loss: 1.1216 - val_accuracy: 0.7554\n",
      "Epoch 2/10\n",
      "2181/2181 [==============================] - 9s 4ms/step - loss: 0.9217 - accuracy: 0.8158 - val_loss: 1.0460 - val_accuracy: 0.7955\n",
      "Epoch 3/10\n",
      "2181/2181 [==============================] - 9s 4ms/step - loss: 0.7996 - accuracy: 0.8606 - val_loss: 1.0286 - val_accuracy: 0.8096\n",
      "Epoch 4/10\n",
      "2181/2181 [==============================] - 9s 4ms/step - loss: 0.7442 - accuracy: 0.8838 - val_loss: 1.0244 - val_accuracy: 0.8233\n",
      "Epoch 5/10\n",
      "2181/2181 [==============================] - 9s 4ms/step - loss: 0.7175 - accuracy: 0.8979 - val_loss: 1.0279 - val_accuracy: 0.8265\n",
      "Epoch 6/10\n",
      "2181/2181 [==============================] - 9s 4ms/step - loss: 0.6999 - accuracy: 0.9053 - val_loss: 1.0291 - val_accuracy: 0.8314\n",
      "Epoch 7/10\n",
      "2181/2181 [==============================] - 9s 4ms/step - loss: 0.6804 - accuracy: 0.9124 - val_loss: 1.0330 - val_accuracy: 0.8348\n",
      "Epoch 8/10\n",
      "2181/2181 [==============================] - 9s 4ms/step - loss: 0.6712 - accuracy: 0.9167 - val_loss: 1.0387 - val_accuracy: 0.8378\n",
      "Epoch 9/10\n",
      "2181/2181 [==============================] - 9s 4ms/step - loss: 0.6612 - accuracy: 0.9208 - val_loss: 1.0270 - val_accuracy: 0.8384\n",
      "Epoch 10/10\n",
      "2181/2181 [==============================] - 9s 4ms/step - loss: 0.6575 - accuracy: 0.9226 - val_loss: 1.0060 - val_accuracy: 0.8473\n",
      "9 / 10\n",
      "Epoch 1/10\n",
      "2423/2423 [==============================] - 10s 4ms/step - loss: 1.4151 - accuracy: 0.6731 - val_loss: 1.0906 - val_accuracy: 0.7654\n",
      "Epoch 2/10\n",
      "2423/2423 [==============================] - 10s 4ms/step - loss: 0.9111 - accuracy: 0.8205 - val_loss: 1.0374 - val_accuracy: 0.7943\n",
      "Epoch 3/10\n",
      "2423/2423 [==============================] - 10s 4ms/step - loss: 0.8012 - accuracy: 0.8618 - val_loss: 1.0130 - val_accuracy: 0.8164\n",
      "Epoch 4/10\n",
      "2423/2423 [==============================] - 10s 4ms/step - loss: 0.7478 - accuracy: 0.8831 - val_loss: 1.0110 - val_accuracy: 0.8217\n",
      "Epoch 5/10\n",
      "2423/2423 [==============================] - 10s 4ms/step - loss: 0.7231 - accuracy: 0.8952 - val_loss: 0.9945 - val_accuracy: 0.8347\n",
      "Epoch 6/10\n",
      "2423/2423 [==============================] - 10s 4ms/step - loss: 0.7059 - accuracy: 0.9045 - val_loss: 0.9987 - val_accuracy: 0.8353\n",
      "Epoch 7/10\n",
      "2423/2423 [==============================] - 10s 4ms/step - loss: 0.6890 - accuracy: 0.9108 - val_loss: 0.9910 - val_accuracy: 0.8401\n",
      "Epoch 8/10\n",
      "2423/2423 [==============================] - 10s 4ms/step - loss: 0.6801 - accuracy: 0.9147 - val_loss: 1.0015 - val_accuracy: 0.8402\n",
      "Epoch 9/10\n",
      "2423/2423 [==============================] - 10s 4ms/step - loss: 0.6660 - accuracy: 0.9183 - val_loss: 0.9839 - val_accuracy: 0.8438\n",
      "Epoch 10/10\n",
      "2423/2423 [==============================] - 10s 4ms/step - loss: 0.6651 - accuracy: 0.9199 - val_loss: 0.9847 - val_accuracy: 0.8458\n",
      "10 / 10\n"
     ]
    }
   ],
   "source": [
    "errors_train = np.zeros(10)\n",
    "errors_valid = np.zeros(10)\n",
    "\n",
    "for i in range(10):\n",
    "    X_train_div = X_train[0: int(((i + 1) * X_train.shape[0]) / 10), :]\n",
    "    Y_train_div = Y_train[0: int(((i + 1) * Y_train.shape[0]) / 10), :]\n",
    "    X_valid_div = X_valid[0: int(((i + 1) * X_valid.shape[0]) / 10), :]\n",
    "    Y_valid_div = Y_valid[0: int(((i + 1) * Y_valid.shape[0]) / 10), :]\n",
    "\n",
    "    model = get_model(alpha, lambd)\n",
    "    history = model.fit(X_train_div, Y_train_div, epochs=10, validation_data=(X_valid_div, Y_valid_div))\n",
    "\n",
    "    train_accuracy = history.history['accuracy'][-1]\n",
    "    valid_accuracy = history.history['val_accuracy'][-1]\n",
    "\n",
    "    errors_train[i] = 1 - train_accuracy\n",
    "    errors_valid[i] = 1 - valid_accuracy\n",
    "\n",
    "    print(f\"{i + 1} / 10\")    "
   ]
  },
  {
   "cell_type": "code",
   "execution_count": 20,
   "metadata": {},
   "outputs": [
    {
     "data": {
      "text/plain": [
       "Text(0.5, 1.0, 'Error vs. Data Size')"
      ]
     },
     "execution_count": 20,
     "metadata": {},
     "output_type": "execute_result"
    },
    {
     "data": {
      "image/png": "[encoded data removed]",
      "text/plain": [
       "<Figure size 864x576 with 1 Axes>"
      ]
     },
     "metadata": {
      "needs_background": "light"
     },
     "output_type": "display_data"
    }
   ],
   "source": [
    "vfig, ax = plt.subplots(figsize=(12,8))\n",
    "ax.plot(np.arange(10) + 1, errors_valid, 'r', label=\"Validation Error\")\n",
    "ax.plot(np.arange(10) + 1, errors_train, 'b', label=\"Training Error\")\n",
    "ax.legend(loc=1)\n",
    "ax.set_xlabel('Data size')\n",
    "ax.set_ylabel('Error')\n",
    "ax.set_title('Error vs. Data Size')"
   ]
  },
  {
   "cell_type": "code",
   "execution_count": 21,
   "metadata": {},
   "outputs": [],
   "source": [
    "def predict(predictions: np.matrix) -> np.matrix:\n",
    "    return to_one_hot(np.asarray(predictions.argmax(axis=1)).ravel(), num_chars)"
   ]
  },
  {
   "cell_type": "code",
   "execution_count": 22,
   "metadata": {},
   "outputs": [],
   "source": [
    "def get_accuracy(model: tf.keras.Sequential, X: np.matrix, Y: np.matrix) -> float:\n",
    "    return (predict(model.predict(X)) == Y).all(axis=1).mean()"
   ]
  },
  {
   "cell_type": "code",
   "execution_count": 25,
   "metadata": {},
   "outputs": [
    {
     "data": {
      "text/plain": [
       "0.8458204334365325"
      ]
     },
     "execution_count": 25,
     "metadata": {},
     "output_type": "execute_result"
    }
   ],
   "source": [
    "get_accuracy(model, X_test, Y_test)"
   ]
  },
  {
   "cell_type": "markdown",
   "metadata": {},
   "source": [
    "Save neural network model"
   ]
  },
  {
   "cell_type": "code",
   "execution_count": 26,
   "metadata": {},
   "outputs": [],
   "source": [
    "model.save(\"./andria_kilasonia_nn_model.h5\")"
   ]
  },
  {
   "cell_type": "markdown",
   "metadata": {},
   "source": [
    "Save data reduction matrix"
   ]
  },
  {
   "cell_type": "code",
   "execution_count": 27,
   "metadata": {},
   "outputs": [],
   "source": [
    "np.save('andria_kilasonia_reduce_martix.npy', u_reduce)"
   ]
  }
 ],
 "metadata": {
  "interpreter": {
   "hash": "d80a6ad3f177f820c16ffddce5e20b9780a5a50a827e881a42629beae35f11cc"
  },
  "kernelspec": {
   "display_name": "Python 3.9.7 64-bit ('Freeuni_ML': conda)",
   "language": "python",
   "name": "python3"
  },
  "language_info": {
   "codemirror_mode": {
    "name": "ipython",
    "version": 3
   },
   "file_extension": ".py",
   "mimetype": "text/x-python",
   "name": "python",
   "nbconvert_exporter": "python",
   "pygments_lexer": "ipython3",
   "version": "3.9.7"
  },
  "orig_nbformat": 4
 },
 "nbformat": 4,
 "nbformat_minor": 2
}
