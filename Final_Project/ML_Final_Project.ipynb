{
 "cells": [
  {
   "cell_type": "markdown",
   "metadata": {},
   "source": [
    "# Georgian Digital Alphabet Recognition"
   ]
  },
  {
   "cell_type": "markdown",
   "metadata": {},
   "source": [
    "### Preprocessing\n",
    "add useful imports"
   ]
  },
  {
   "cell_type": "code",
   "execution_count": 1,
   "metadata": {},
   "outputs": [],
   "source": [
    "import numpy as np\n",
    "import matplotlib.pyplot as plt\n",
    "import os\n",
    "import tensorflow as tf\n",
    "%matplotlib inline"
   ]
  },
  {
   "cell_type": "markdown",
   "metadata": {},
   "source": [
    "turns a number to a one hot array"
   ]
  },
  {
   "cell_type": "code",
   "execution_count": 2,
   "metadata": {},
   "outputs": [],
   "source": [
    "def to_one_hot(values: np.ndarray, max: int) -> np.matrix:\n",
    "    one_hot = np.zeros((values.size, max))\n",
    "    rows = np.arange(values.size)\n",
    "    one_hot[rows, values] = 1    \n",
    "\n",
    "    return one_hot"
   ]
  },
  {
   "cell_type": "markdown",
   "metadata": {},
   "source": [
    "import image data and convert images to numpy arrays"
   ]
  },
  {
   "cell_type": "code",
   "execution_count": 3,
   "metadata": {},
   "outputs": [],
   "source": [
    "import matplotlib.image as im\n",
    "\n",
    "X_arr = list[np.ndarray]()\n",
    "Y_arr = list[int]()\n",
    "num_chars = ord(\"ჰ\") - ord(\"ა\") + 1\n",
    "\n",
    "for i in range(num_chars):\n",
    "    char = chr(ord(\"ა\") + i)\n",
    "\n",
    "    file_path_1 = f\"data/Letters/{char}\"\n",
    "    file_path_2 = f\"data/images/{char}\"\n",
    "\n",
    "    for j, image in enumerate(os.listdir(file_path_1)):\n",
    "        img_data = im.imread(f\"{file_path_1}/{image}\").ravel()\n",
    "\n",
    "        X_arr.append(np.append(img_data, np.ones(10000 - len(img_data))))\n",
    "        Y_arr.append(i)\n",
    "    \n",
    "    for j, image in enumerate(os.listdir(file_path_2)):\n",
    "        img_data = im.imread(f\"{file_path_2}/{image}\").ravel()\n",
    "\n",
    "        X_arr.append(np.append(img_data, np.ones(10000 - len(img_data))))\n",
    "        Y_arr.append(i)"
   ]
  },
  {
   "cell_type": "markdown",
   "metadata": {},
   "source": [
    "turn list of image values to numpy matrix, values to one_hot vector"
   ]
  },
  {
   "cell_type": "code",
   "execution_count": 4,
   "metadata": {},
   "outputs": [
    {
     "data": {
      "text/plain": [
       "((96897, 10000), (96897, 33))"
      ]
     },
     "execution_count": 4,
     "metadata": {},
     "output_type": "execute_result"
    }
   ],
   "source": [
    "X = np.asmatrix(X_arr)\n",
    "Y = to_one_hot(np.asarray(Y_arr), num_chars)\n",
    "\n",
    "X.shape, Y.shape"
   ]
  },
  {
   "cell_type": "markdown",
   "metadata": {},
   "source": [
    "divide data to train, validation, and test"
   ]
  },
  {
   "cell_type": "code",
   "execution_count": 5,
   "metadata": {},
   "outputs": [
    {
     "data": {
      "text/plain": [
       "((58138, 10000),\n",
       " (58138, 33),\n",
       " (19379, 10000),\n",
       " (19379, 33),\n",
       " (19380, 10000),\n",
       " (19380, 33))"
      ]
     },
     "execution_count": 5,
     "metadata": {},
     "output_type": "execute_result"
    }
   ],
   "source": [
    "division_points = (int(X.shape[0] * 0.6), int(X.shape[0] * 0.8))\n",
    "\n",
    "data = np.append(X, Y, 1)\n",
    "np.random.shuffle(data)\n",
    "\n",
    "X = data[:, 0: X.shape[1]]\n",
    "Y = data[:, X.shape[1]:]\n",
    "\n",
    "X_train = X[0: division_points[0], :]\n",
    "Y_train = Y[0: division_points[0], :]\n",
    "\n",
    "X_valid = X[division_points[0]: division_points[1], :]\n",
    "Y_valid = Y[division_points[0]: division_points[1], :]\n",
    "\n",
    "X_test = X[division_points[1]:, :]\n",
    "Y_test = Y[division_points[1]:, :]\n",
    "\n",
    "X_train.shape, Y_train.shape, X_valid.shape, Y_valid.shape, X_test.shape, Y_test.shape"
   ]
  },
  {
   "cell_type": "markdown",
   "metadata": {},
   "source": [
    "add normalizarion to the three datas seperately"
   ]
  },
  {
   "cell_type": "code",
   "execution_count": 6,
   "metadata": {},
   "outputs": [],
   "source": [
    "X_train -= X_train.mean(0)\n",
    "X_valid -= X_valid.mean(0)\n",
    "X_test -= X_test.mean(0)"
   ]
  },
  {
   "cell_type": "markdown",
   "metadata": {},
   "source": [
    "##### Reduce dimensions using PCA for data compression reasons\n",
    "find minimum dimension to reduce data to"
   ]
  },
  {
   "cell_type": "code",
   "execution_count": 7,
   "metadata": {},
   "outputs": [],
   "source": [
    "min_dimension = 0\n",
    "\n",
    "sigma = (1 / X_train.shape[0]) * X.T * X\n",
    "u, s, _ = np.linalg.svd(sigma)\n",
    "\n",
    "dimension_sum = 0\n",
    "full_sum = np.sum(s)\n",
    "\n",
    "for k in range(len(s)):\n",
    "    dimension_sum += s[k]\n",
    "    variance_retained = dimension_sum / full_sum\n",
    "\n",
    "    if variance_retained > 0.99:\n",
    "        min_dimension = k\n",
    "        break"
   ]
  },
  {
   "cell_type": "code",
   "execution_count": 8,
   "metadata": {},
   "outputs": [
    {
     "data": {
      "text/plain": [
       "2344"
      ]
     },
     "execution_count": 8,
     "metadata": {},
     "output_type": "execute_result"
    }
   ],
   "source": [
    "min_dimension"
   ]
  },
  {
   "cell_type": "markdown",
   "metadata": {},
   "source": [
    "reduce data"
   ]
  },
  {
   "cell_type": "code",
   "execution_count": 9,
   "metadata": {},
   "outputs": [
    {
     "data": {
      "text/plain": [
       "((58138, 2344), (19379, 2344), (19380, 2344))"
      ]
     },
     "execution_count": 9,
     "metadata": {},
     "output_type": "execute_result"
    }
   ],
   "source": [
    "u_reduce = u[:, : min_dimension]\n",
    "\n",
    "X_train = X_train * u_reduce\n",
    "X_valid = X_valid * u_reduce\n",
    "X_test = X_test * u_reduce\n",
    "\n",
    "X_train.shape, X_valid.shape, X_test.shape"
   ]
  },
  {
   "cell_type": "markdown",
   "metadata": {},
   "source": [
    "### Build a model\n",
    "build a model using tensorFlow and Keras libraries"
   ]
  },
  {
   "cell_type": "code",
   "execution_count": 35,
   "metadata": {},
   "outputs": [],
   "source": [
    "from typing import Optional\n",
    "\n",
    "def get_model(alpha: float, lambd: Optional[float] = None) -> tf.keras.Sequential:\n",
    "    from tensorflow.keras.regularizers import l2\n",
    "\n",
    "    if lambd is None:\n",
    "        model = tf.keras.Sequential([\n",
    "            tf.keras.layers.Input(shape=(min_dimension,)),\n",
    "            tf.keras.layers.Dense(256, activation='relu'),\n",
    "            tf.keras.layers.Dense(128, activation='relu'),\n",
    "            tf.keras.layers.Dense(num_chars, activation='softmax')\n",
    "        ])\n",
    "    \n",
    "    else:\n",
    "        model = tf.keras.Sequential([\n",
    "            tf.keras.layers.Input(shape=min_dimension),\n",
    "            tf.keras.layers.Dense(256, activation='relu', activity_regularizer=l2(l=lambd)),\n",
    "            tf.keras.layers.Dense(128, activation='relu', activity_regularizer=l2(l=lambd)),\n",
    "            tf.keras.layers.Dense(num_chars, activation='softmax', activity_regularizer=l2(l=lambd))\n",
    "        ])\n",
    "\n",
    "    model.compile(\n",
    "        optimizer=tf.keras.optimizers.Adam(learning_rate=alpha), \n",
    "        loss='categorical_crossentropy', \n",
    "        metrics=['accuracy']\n",
    "    )\n",
    "\n",
    "    return model"
   ]
  },
  {
   "cell_type": "markdown",
   "metadata": {},
   "source": [
    "##### draw the graph of model costs to choose the best alpha"
   ]
  },
  {
   "cell_type": "code",
   "execution_count": 34,
   "metadata": {},
   "outputs": [
    {
     "name": "stdout",
     "output_type": "stream",
     "text": [
      "Epoch 1/10\n",
      "1817/1817 [==============================] - 12s 7ms/step - loss: 1.2221 - accuracy: 0.6623 - val_loss: 0.8410 - val_accuracy: 0.7572\n",
      "Epoch 2/10\n",
      "1817/1817 [==============================] - 13s 7ms/step - loss: 0.5316 - accuracy: 0.8395 - val_loss: 0.7492 - val_accuracy: 0.7985\n",
      "Epoch 3/10\n",
      "1817/1817 [==============================] - 13s 7ms/step - loss: 0.3157 - accuracy: 0.9025 - val_loss: 0.7879 - val_accuracy: 0.8042\n",
      "Epoch 4/10\n",
      "1817/1817 [==============================] - 14s 8ms/step - loss: 0.2197 - accuracy: 0.9315 - val_loss: 0.9070 - val_accuracy: 0.8021\n",
      "Epoch 5/10\n",
      "1817/1817 [==============================] - 13s 7ms/step - loss: 0.1732 - accuracy: 0.9465 - val_loss: 0.9524 - val_accuracy: 0.8113\n",
      "Epoch 6/10\n",
      "1817/1817 [==============================] - 13s 7ms/step - loss: 0.1343 - accuracy: 0.9596 - val_loss: 1.1088 - val_accuracy: 0.8063\n",
      "Epoch 7/10\n",
      "1817/1817 [==============================] - 13s 7ms/step - loss: 0.1367 - accuracy: 0.9596 - val_loss: 1.1368 - val_accuracy: 0.8094\n",
      "Epoch 8/10\n",
      "1817/1817 [==============================] - 13s 7ms/step - loss: 0.1094 - accuracy: 0.9683 - val_loss: 1.2631 - val_accuracy: 0.8113\n",
      "Epoch 9/10\n",
      "1817/1817 [==============================] - 14s 8ms/step - loss: 0.1131 - accuracy: 0.9691 - val_loss: 1.4042 - val_accuracy: 0.8081\n",
      "Epoch 10/10\n",
      "1817/1817 [==============================] - 15s 8ms/step - loss: 0.1047 - accuracy: 0.9715 - val_loss: 1.4132 - val_accuracy: 0.8139\n"
     ]
    }
   ],
   "source": [
    "alpha = 0.001\n",
    "\n",
    "model = get_model(alpha)\n",
    "\n",
    "history = model.fit(X_train, Y_train, epochs=10, validation_data=(X_valid, Y_valid))\n",
    "loss = history.history['loss']"
   ]
  },
  {
   "cell_type": "code",
   "execution_count": 36,
   "metadata": {},
   "outputs": [
    {
     "data": {
      "text/plain": [
       "Text(0.5, 1.0, 'Error vs. Training Epoch')"
      ]
     },
     "execution_count": 36,
     "metadata": {},
     "output_type": "execute_result"
    },
    {
     "data": {
      "image/png": "[encoded data removed]",
      "text/plain": [
       "<Figure size 864x576 with 1 Axes>"
      ]
     },
     "metadata": {
      "needs_background": "light"
     },
     "output_type": "display_data"
    }
   ],
   "source": [
    "vfig, ax = plt.subplots(figsize=(12,8))\n",
    "ax.plot(np.arange(len(loss)), loss, 'r')\n",
    "ax.set_xlabel('Iterations')\n",
    "ax.set_ylabel('Cost')\n",
    "ax.set_title('Error vs. Training Epoch')"
   ]
  },
  {
   "cell_type": "markdown",
   "metadata": {},
   "source": [
    "##### choose optimal lambda for the model"
   ]
  },
  {
   "cell_type": "code",
   "execution_count": 41,
   "metadata": {},
   "outputs": [],
   "source": [
    "lambdas: list[float] = [0]\n",
    "\n",
    "lambd = 0.01\n",
    "while lambd < 11:\n",
    "    lambdas.append(lambd)\n",
    "    \n",
    "    lambd *= 2"
   ]
  },
  {
   "cell_type": "code",
   "execution_count": 40,
   "metadata": {},
   "outputs": [
    {
     "name": "stdout",
     "output_type": "stream",
     "text": [
      "Epoch 1/10\n",
      "1817/1817 [==============================] - 13s 7ms/step - loss: 1.7394 - accuracy: 0.6502 - val_loss: 1.2637 - val_accuracy: 0.7458\n",
      "Epoch 2/10\n",
      "1817/1817 [==============================] - 14s 8ms/step - loss: 0.9333 - accuracy: 0.8279 - val_loss: 1.1244 - val_accuracy: 0.7705\n",
      "Epoch 3/10\n",
      "1817/1817 [==============================] - 14s 8ms/step - loss: 0.6832 - accuracy: 0.8919 - val_loss: 1.1087 - val_accuracy: 0.7715\n",
      "Epoch 4/10\n",
      "1817/1817 [==============================] - 14s 8ms/step - loss: 0.5708 - accuracy: 0.9212 - val_loss: 1.1584 - val_accuracy: 0.7641\n",
      "Epoch 5/10\n",
      "1817/1817 [==============================] - 13s 7ms/step - loss: 0.5238 - accuracy: 0.9335 - val_loss: 1.1671 - val_accuracy: 0.7641\n",
      "Epoch 6/10\n",
      "1817/1817 [==============================] - 13s 7ms/step - loss: 0.4890 - accuracy: 0.9430 - val_loss: 1.2151 - val_accuracy: 0.7646\n",
      "Epoch 7/10\n",
      "1817/1817 [==============================] - 13s 7ms/step - loss: 0.4689 - accuracy: 0.9493 - val_loss: 1.2469 - val_accuracy: 0.7575\n",
      "Epoch 8/10\n",
      "1817/1817 [==============================] - 13s 7ms/step - loss: 0.4499 - accuracy: 0.9530 - val_loss: 1.2692 - val_accuracy: 0.7574\n",
      "Epoch 9/10\n",
      "1817/1817 [==============================] - 13s 7ms/step - loss: 0.4418 - accuracy: 0.9561 - val_loss: 1.2558 - val_accuracy: 0.7594\n",
      "Epoch 10/10\n",
      "1817/1817 [==============================] - 13s 7ms/step - loss: 0.4345 - accuracy: 0.9578 - val_loss: 1.2812 - val_accuracy: 0.7596\n",
      "1 / 11\n",
      "Epoch 1/10\n",
      "1817/1817 [==============================] - 15s 8ms/step - loss: 1.9153 - accuracy: 0.6306 - val_loss: 1.3647 - val_accuracy: 0.7344\n",
      "Epoch 2/10\n",
      "1817/1817 [==============================] - 14s 8ms/step - loss: 1.0559 - accuracy: 0.8158 - val_loss: 1.2286 - val_accuracy: 0.7598\n",
      "Epoch 3/10\n",
      "1817/1817 [==============================] - 14s 7ms/step - loss: 0.8134 - accuracy: 0.8767 - val_loss: 1.2224 - val_accuracy: 0.7594\n",
      "Epoch 4/10\n",
      "1817/1817 [==============================] - 15s 8ms/step - loss: 0.7084 - accuracy: 0.9036 - val_loss: 1.2605 - val_accuracy: 0.7500\n",
      "Epoch 5/10\n",
      "1817/1817 [==============================] - 16s 9ms/step - loss: 0.6441 - accuracy: 0.9215 - val_loss: 1.2539 - val_accuracy: 0.7592\n",
      "Epoch 6/10\n",
      "1817/1817 [==============================] - 14s 8ms/step - loss: 0.6185 - accuracy: 0.9294 - val_loss: 1.3033 - val_accuracy: 0.7466\n",
      "Epoch 7/10\n",
      "1817/1817 [==============================] - 16s 9ms/step - loss: 0.5991 - accuracy: 0.9344 - val_loss: 1.3153 - val_accuracy: 0.7473\n",
      "Epoch 8/10\n",
      "1817/1817 [==============================] - 15s 8ms/step - loss: 0.5830 - accuracy: 0.9392 - val_loss: 1.3074 - val_accuracy: 0.7489\n",
      "Epoch 9/10\n",
      "1817/1817 [==============================] - 17s 9ms/step - loss: 0.5726 - accuracy: 0.9421 - val_loss: 1.3414 - val_accuracy: 0.7514\n",
      "Epoch 10/10\n",
      " 830/1817 [============>.................] - ETA: 8s - loss: 0.5429 - accuracy: 0.9548"
     ]
    },
    {
     "ename": "KeyboardInterrupt",
     "evalue": "",
     "output_type": "error",
     "traceback": [
      "\u001b[0;31m---------------------------------------------------------------------------\u001b[0m",
      "\u001b[0;31mKeyboardInterrupt\u001b[0m                         Traceback (most recent call last)",
      "\u001b[0;32m/var/folders/cg/nbkqfqq15tb9bkp7kghtnggm0000gp/T/ipykernel_6382/2425930120.py\u001b[0m in \u001b[0;36m<module>\u001b[0;34m\u001b[0m\n\u001b[1;32m      5\u001b[0m \u001b[0;32mfor\u001b[0m \u001b[0mi\u001b[0m\u001b[0;34m,\u001b[0m \u001b[0mlambd\u001b[0m \u001b[0;32min\u001b[0m \u001b[0menumerate\u001b[0m\u001b[0;34m(\u001b[0m\u001b[0mlambdas\u001b[0m\u001b[0;34m)\u001b[0m\u001b[0;34m:\u001b[0m\u001b[0;34m\u001b[0m\u001b[0;34m\u001b[0m\u001b[0m\n\u001b[1;32m      6\u001b[0m     \u001b[0mmodel\u001b[0m \u001b[0;34m=\u001b[0m \u001b[0mget_model\u001b[0m\u001b[0;34m(\u001b[0m\u001b[0malpha\u001b[0m\u001b[0;34m,\u001b[0m \u001b[0mlambd\u001b[0m\u001b[0;34m)\u001b[0m\u001b[0;34m\u001b[0m\u001b[0;34m\u001b[0m\u001b[0m\n\u001b[0;32m----> 7\u001b[0;31m     \u001b[0mhistory\u001b[0m \u001b[0;34m=\u001b[0m \u001b[0mmodel\u001b[0m\u001b[0;34m.\u001b[0m\u001b[0mfit\u001b[0m\u001b[0;34m(\u001b[0m\u001b[0mX_train\u001b[0m\u001b[0;34m,\u001b[0m \u001b[0mY_train\u001b[0m\u001b[0;34m,\u001b[0m \u001b[0mepochs\u001b[0m\u001b[0;34m=\u001b[0m\u001b[0;36m10\u001b[0m\u001b[0;34m,\u001b[0m \u001b[0mvalidation_data\u001b[0m\u001b[0;34m=\u001b[0m\u001b[0;34m(\u001b[0m\u001b[0mX_valid\u001b[0m\u001b[0;34m,\u001b[0m \u001b[0mY_valid\u001b[0m\u001b[0;34m)\u001b[0m\u001b[0;34m)\u001b[0m\u001b[0;34m\u001b[0m\u001b[0;34m\u001b[0m\u001b[0m\n\u001b[0m\u001b[1;32m      8\u001b[0m     \u001b[0mmodels\u001b[0m\u001b[0;34m.\u001b[0m\u001b[0mappend\u001b[0m\u001b[0;34m(\u001b[0m\u001b[0mmodel\u001b[0m\u001b[0;34m)\u001b[0m\u001b[0;34m\u001b[0m\u001b[0;34m\u001b[0m\u001b[0m\n\u001b[1;32m      9\u001b[0m \u001b[0;34m\u001b[0m\u001b[0m\n",
      "\u001b[0;32m/opt/anaconda3/envs/Freeuni_ML/lib/python3.9/site-packages/keras/utils/traceback_utils.py\u001b[0m in \u001b[0;36merror_handler\u001b[0;34m(*args, **kwargs)\u001b[0m\n\u001b[1;32m     62\u001b[0m     \u001b[0mfiltered_tb\u001b[0m \u001b[0;34m=\u001b[0m \u001b[0;32mNone\u001b[0m\u001b[0;34m\u001b[0m\u001b[0;34m\u001b[0m\u001b[0m\n\u001b[1;32m     63\u001b[0m     \u001b[0;32mtry\u001b[0m\u001b[0;34m:\u001b[0m\u001b[0;34m\u001b[0m\u001b[0;34m\u001b[0m\u001b[0m\n\u001b[0;32m---> 64\u001b[0;31m       \u001b[0;32mreturn\u001b[0m \u001b[0mfn\u001b[0m\u001b[0;34m(\u001b[0m\u001b[0;34m*\u001b[0m\u001b[0margs\u001b[0m\u001b[0;34m,\u001b[0m \u001b[0;34m**\u001b[0m\u001b[0mkwargs\u001b[0m\u001b[0;34m)\u001b[0m\u001b[0;34m\u001b[0m\u001b[0;34m\u001b[0m\u001b[0m\n\u001b[0m\u001b[1;32m     65\u001b[0m     \u001b[0;32mexcept\u001b[0m \u001b[0mException\u001b[0m \u001b[0;32mas\u001b[0m \u001b[0me\u001b[0m\u001b[0;34m:\u001b[0m  \u001b[0;31m# pylint: disable=broad-except\u001b[0m\u001b[0;34m\u001b[0m\u001b[0;34m\u001b[0m\u001b[0m\n\u001b[1;32m     66\u001b[0m       \u001b[0mfiltered_tb\u001b[0m \u001b[0;34m=\u001b[0m \u001b[0m_process_traceback_frames\u001b[0m\u001b[0;34m(\u001b[0m\u001b[0me\u001b[0m\u001b[0;34m.\u001b[0m\u001b[0m__traceback__\u001b[0m\u001b[0;34m)\u001b[0m\u001b[0;34m\u001b[0m\u001b[0;34m\u001b[0m\u001b[0m\n",
      "\u001b[0;32m/opt/anaconda3/envs/Freeuni_ML/lib/python3.9/site-packages/keras/engine/training.py\u001b[0m in \u001b[0;36mfit\u001b[0;34m(self, x, y, batch_size, epochs, verbose, callbacks, validation_split, validation_data, shuffle, class_weight, sample_weight, initial_epoch, steps_per_epoch, validation_steps, validation_batch_size, validation_freq, max_queue_size, workers, use_multiprocessing)\u001b[0m\n\u001b[1;32m   1206\u001b[0m         \u001b[0mcallbacks\u001b[0m\u001b[0;34m.\u001b[0m\u001b[0mon_epoch_begin\u001b[0m\u001b[0;34m(\u001b[0m\u001b[0mepoch\u001b[0m\u001b[0;34m)\u001b[0m\u001b[0;34m\u001b[0m\u001b[0;34m\u001b[0m\u001b[0m\n\u001b[1;32m   1207\u001b[0m         \u001b[0;32mwith\u001b[0m \u001b[0mdata_handler\u001b[0m\u001b[0;34m.\u001b[0m\u001b[0mcatch_stop_iteration\u001b[0m\u001b[0;34m(\u001b[0m\u001b[0;34m)\u001b[0m\u001b[0;34m:\u001b[0m\u001b[0;34m\u001b[0m\u001b[0;34m\u001b[0m\u001b[0m\n\u001b[0;32m-> 1208\u001b[0;31m           \u001b[0;32mfor\u001b[0m \u001b[0mstep\u001b[0m \u001b[0;32min\u001b[0m \u001b[0mdata_handler\u001b[0m\u001b[0;34m.\u001b[0m\u001b[0msteps\u001b[0m\u001b[0;34m(\u001b[0m\u001b[0;34m)\u001b[0m\u001b[0;34m:\u001b[0m\u001b[0;34m\u001b[0m\u001b[0;34m\u001b[0m\u001b[0m\n\u001b[0m\u001b[1;32m   1209\u001b[0m             with tf.profiler.experimental.Trace(\n\u001b[1;32m   1210\u001b[0m                 \u001b[0;34m'train'\u001b[0m\u001b[0;34m,\u001b[0m\u001b[0;34m\u001b[0m\u001b[0;34m\u001b[0m\u001b[0m\n",
      "\u001b[0;32m/opt/anaconda3/envs/Freeuni_ML/lib/python3.9/site-packages/keras/engine/data_adapter.py\u001b[0m in \u001b[0;36msteps\u001b[0;34m(self)\u001b[0m\n\u001b[1;32m   1248\u001b[0m       \u001b[0;32mif\u001b[0m \u001b[0mself\u001b[0m\u001b[0;34m.\u001b[0m\u001b[0m_insufficient_data\u001b[0m\u001b[0;34m:\u001b[0m  \u001b[0;31m# Set by `catch_stop_iteration`.\u001b[0m\u001b[0;34m\u001b[0m\u001b[0;34m\u001b[0m\u001b[0m\n\u001b[1;32m   1249\u001b[0m         \u001b[0;32mbreak\u001b[0m\u001b[0;34m\u001b[0m\u001b[0;34m\u001b[0m\u001b[0m\n\u001b[0;32m-> 1250\u001b[0;31m       \u001b[0moriginal_spe\u001b[0m \u001b[0;34m=\u001b[0m \u001b[0mself\u001b[0m\u001b[0;34m.\u001b[0m\u001b[0m_steps_per_execution\u001b[0m\u001b[0;34m.\u001b[0m\u001b[0mnumpy\u001b[0m\u001b[0;34m(\u001b[0m\u001b[0;34m)\u001b[0m\u001b[0;34m.\u001b[0m\u001b[0mitem\u001b[0m\u001b[0;34m(\u001b[0m\u001b[0;34m)\u001b[0m\u001b[0;34m\u001b[0m\u001b[0;34m\u001b[0m\u001b[0m\n\u001b[0m\u001b[1;32m   1251\u001b[0m       can_run_full_execution = (\n\u001b[1;32m   1252\u001b[0m           \u001b[0moriginal_spe\u001b[0m \u001b[0;34m==\u001b[0m \u001b[0;36m1\u001b[0m \u001b[0;32mor\u001b[0m\u001b[0;34m\u001b[0m\u001b[0;34m\u001b[0m\u001b[0m\n",
      "\u001b[0;32m/opt/anaconda3/envs/Freeuni_ML/lib/python3.9/site-packages/tensorflow/python/ops/resource_variable_ops.py\u001b[0m in \u001b[0;36mnumpy\u001b[0;34m(self)\u001b[0m\n\u001b[1;32m    643\u001b[0m   \u001b[0;32mdef\u001b[0m \u001b[0mnumpy\u001b[0m\u001b[0;34m(\u001b[0m\u001b[0mself\u001b[0m\u001b[0;34m)\u001b[0m\u001b[0;34m:\u001b[0m\u001b[0;34m\u001b[0m\u001b[0;34m\u001b[0m\u001b[0m\n\u001b[1;32m    644\u001b[0m     \u001b[0;32mif\u001b[0m \u001b[0mcontext\u001b[0m\u001b[0;34m.\u001b[0m\u001b[0mexecuting_eagerly\u001b[0m\u001b[0;34m(\u001b[0m\u001b[0;34m)\u001b[0m\u001b[0;34m:\u001b[0m\u001b[0;34m\u001b[0m\u001b[0;34m\u001b[0m\u001b[0m\n\u001b[0;32m--> 645\u001b[0;31m       \u001b[0;32mreturn\u001b[0m \u001b[0mself\u001b[0m\u001b[0;34m.\u001b[0m\u001b[0mread_value\u001b[0m\u001b[0;34m(\u001b[0m\u001b[0;34m)\u001b[0m\u001b[0;34m.\u001b[0m\u001b[0mnumpy\u001b[0m\u001b[0;34m(\u001b[0m\u001b[0;34m)\u001b[0m\u001b[0;34m\u001b[0m\u001b[0;34m\u001b[0m\u001b[0m\n\u001b[0m\u001b[1;32m    646\u001b[0m     raise NotImplementedError(\n\u001b[1;32m    647\u001b[0m         \"numpy() is only available when eager execution is enabled.\")\n",
      "\u001b[0;32m/opt/anaconda3/envs/Freeuni_ML/lib/python3.9/site-packages/tensorflow/python/ops/resource_variable_ops.py\u001b[0m in \u001b[0;36mread_value\u001b[0;34m(self)\u001b[0m\n\u001b[1;32m    718\u001b[0m     \"\"\"\n\u001b[1;32m    719\u001b[0m     \u001b[0;32mwith\u001b[0m \u001b[0mops\u001b[0m\u001b[0;34m.\u001b[0m\u001b[0mname_scope\u001b[0m\u001b[0;34m(\u001b[0m\u001b[0;34m\"Read\"\u001b[0m\u001b[0;34m)\u001b[0m\u001b[0;34m:\u001b[0m\u001b[0;34m\u001b[0m\u001b[0;34m\u001b[0m\u001b[0m\n\u001b[0;32m--> 720\u001b[0;31m       \u001b[0mvalue\u001b[0m \u001b[0;34m=\u001b[0m \u001b[0mself\u001b[0m\u001b[0;34m.\u001b[0m\u001b[0m_read_variable_op\u001b[0m\u001b[0;34m(\u001b[0m\u001b[0;34m)\u001b[0m\u001b[0;34m\u001b[0m\u001b[0;34m\u001b[0m\u001b[0m\n\u001b[0m\u001b[1;32m    721\u001b[0m     \u001b[0;31m# Return an identity so it can get placed on whatever device the context\u001b[0m\u001b[0;34m\u001b[0m\u001b[0;34m\u001b[0m\u001b[0m\n\u001b[1;32m    722\u001b[0m     \u001b[0;31m# specifies instead of the device where the variable is.\u001b[0m\u001b[0;34m\u001b[0m\u001b[0;34m\u001b[0m\u001b[0m\n",
      "\u001b[0;32m/opt/anaconda3/envs/Freeuni_ML/lib/python3.9/site-packages/tensorflow/python/ops/resource_variable_ops.py\u001b[0m in \u001b[0;36m_read_variable_op\u001b[0;34m(self)\u001b[0m\n\u001b[1;32m    697\u001b[0m           \u001b[0mresult\u001b[0m \u001b[0;34m=\u001b[0m \u001b[0mread_and_set_handle\u001b[0m\u001b[0;34m(\u001b[0m\u001b[0;34m)\u001b[0m\u001b[0;34m\u001b[0m\u001b[0;34m\u001b[0m\u001b[0m\n\u001b[1;32m    698\u001b[0m     \u001b[0;32melse\u001b[0m\u001b[0;34m:\u001b[0m\u001b[0;34m\u001b[0m\u001b[0;34m\u001b[0m\u001b[0m\n\u001b[0;32m--> 699\u001b[0;31m       \u001b[0mresult\u001b[0m \u001b[0;34m=\u001b[0m \u001b[0mread_and_set_handle\u001b[0m\u001b[0;34m(\u001b[0m\u001b[0;34m)\u001b[0m\u001b[0;34m\u001b[0m\u001b[0;34m\u001b[0m\u001b[0m\n\u001b[0m\u001b[1;32m    700\u001b[0m \u001b[0;34m\u001b[0m\u001b[0m\n\u001b[1;32m    701\u001b[0m     \u001b[0;32mif\u001b[0m \u001b[0;32mnot\u001b[0m \u001b[0mcontext\u001b[0m\u001b[0;34m.\u001b[0m\u001b[0mexecuting_eagerly\u001b[0m\u001b[0;34m(\u001b[0m\u001b[0;34m)\u001b[0m\u001b[0;34m:\u001b[0m\u001b[0;34m\u001b[0m\u001b[0;34m\u001b[0m\u001b[0m\n",
      "\u001b[0;32m/opt/anaconda3/envs/Freeuni_ML/lib/python3.9/site-packages/tensorflow/python/ops/resource_variable_ops.py\u001b[0m in \u001b[0;36mread_and_set_handle\u001b[0;34m()\u001b[0m\n\u001b[1;32m    687\u001b[0m \u001b[0;34m\u001b[0m\u001b[0m\n\u001b[1;32m    688\u001b[0m     \u001b[0;32mdef\u001b[0m \u001b[0mread_and_set_handle\u001b[0m\u001b[0;34m(\u001b[0m\u001b[0;34m)\u001b[0m\u001b[0;34m:\u001b[0m\u001b[0;34m\u001b[0m\u001b[0;34m\u001b[0m\u001b[0m\n\u001b[0;32m--> 689\u001b[0;31m       result = gen_resource_variable_ops.read_variable_op(\n\u001b[0m\u001b[1;32m    690\u001b[0m           self.handle, self._dtype)\n\u001b[1;32m    691\u001b[0m       \u001b[0m_maybe_set_handle_data\u001b[0m\u001b[0;34m(\u001b[0m\u001b[0mself\u001b[0m\u001b[0;34m.\u001b[0m\u001b[0m_dtype\u001b[0m\u001b[0;34m,\u001b[0m \u001b[0mself\u001b[0m\u001b[0;34m.\u001b[0m\u001b[0mhandle\u001b[0m\u001b[0;34m,\u001b[0m \u001b[0mresult\u001b[0m\u001b[0;34m)\u001b[0m\u001b[0;34m\u001b[0m\u001b[0;34m\u001b[0m\u001b[0m\n",
      "\u001b[0;32m/opt/anaconda3/envs/Freeuni_ML/lib/python3.9/site-packages/tensorflow/python/ops/gen_resource_variable_ops.py\u001b[0m in \u001b[0;36mread_variable_op\u001b[0;34m(resource, dtype, name)\u001b[0m\n\u001b[1;32m    468\u001b[0m   \u001b[0;32mif\u001b[0m \u001b[0mtld\u001b[0m\u001b[0;34m.\u001b[0m\u001b[0mis_eager\u001b[0m\u001b[0;34m:\u001b[0m\u001b[0;34m\u001b[0m\u001b[0;34m\u001b[0m\u001b[0m\n\u001b[1;32m    469\u001b[0m     \u001b[0;32mtry\u001b[0m\u001b[0;34m:\u001b[0m\u001b[0;34m\u001b[0m\u001b[0;34m\u001b[0m\u001b[0m\n\u001b[0;32m--> 470\u001b[0;31m       _result = pywrap_tfe.TFE_Py_FastPathExecute(\n\u001b[0m\u001b[1;32m    471\u001b[0m         _ctx, \"ReadVariableOp\", name, resource, \"dtype\", dtype)\n\u001b[1;32m    472\u001b[0m       \u001b[0;32mreturn\u001b[0m \u001b[0m_result\u001b[0m\u001b[0;34m\u001b[0m\u001b[0;34m\u001b[0m\u001b[0m\n",
      "\u001b[0;31mKeyboardInterrupt\u001b[0m: "
     ]
    }
   ],
   "source": [
    "errors_train = np.zeros(len(lambdas))\n",
    "errors_valid = np.zeros(len(lambdas))\n",
    "models: list[tf.keras.Sequential] = []\n",
    "\n",
    "for i, lambd in enumerate(lambdas):\n",
    "    model = get_model(alpha, lambd)\n",
    "    history = model.fit(X_train, Y_train, epochs=10, validation_data=(X_valid, Y_valid))\n",
    "    models.append(model)\n",
    "\n",
    "    train_accuracy = history.history['accuracy'][-1]\n",
    "    valid_accuracy = history.history['val_accuracy'][-1]\n",
    "\n",
    "    errors_train[i] = 1 - train_accuracy\n",
    "    errors_valid[i] = 1 - valid_accuracy\n",
    "\n",
    "    print(f\"{i + 1} / {len(lambdas)}\")"
   ]
  },
  {
   "cell_type": "code",
   "execution_count": null,
   "metadata": {},
   "outputs": [
    {
     "data": {
      "text/plain": [
       "0"
      ]
     },
     "execution_count": 15,
     "metadata": {},
     "output_type": "execute_result"
    }
   ],
   "source": [
    "lambd = lambdas[errors_valid.argmin()]\n",
    "model = models[errors_valid.argmin()]\n",
    "lambd"
   ]
  },
  {
   "cell_type": "code",
   "execution_count": null,
   "metadata": {},
   "outputs": [
    {
     "data": {
      "text/plain": [
       "Text(0.5, 1.0, 'Error vs. Lambda Value')"
      ]
     },
     "execution_count": 16,
     "metadata": {},
     "output_type": "execute_result"
    },
    {
     "data": {
      "image/png": "[encoded data removed]",
      "text/plain": [
       "<Figure size 864x576 with 1 Axes>"
      ]
     },
     "metadata": {
      "needs_background": "light"
     },
     "output_type": "display_data"
    }
   ],
   "source": [
    "vfig, ax = plt.subplots(figsize=(12,8))\n",
    "ax.plot(lambdas, errors_valid, 'r', label=\"Validation Error\")\n",
    "ax.plot(lambdas, errors_train, 'b', label=\"Training Error\")\n",
    "ax.legend(loc=1)\n",
    "ax.set_xlabel('Lambda values')\n",
    "ax.set_ylabel('Error')\n",
    "ax.set_title('Error vs. Lambda Value')"
   ]
  },
  {
   "cell_type": "markdown",
   "metadata": {},
   "source": [
    "##### debug model using learning curves"
   ]
  },
  {
   "cell_type": "code",
   "execution_count": 28,
   "metadata": {},
   "outputs": [
    {
     "name": "stdout",
     "output_type": "stream",
     "text": [
      "Epoch 1/10\n",
      "182/182 [==============================] - 1s 4ms/step - loss: 3.0664 - accuracy: 0.2240 - val_loss: 2.3825 - val_accuracy: 0.3934\n",
      "Epoch 2/10\n",
      "182/182 [==============================] - 0s 3ms/step - loss: 1.5626 - accuracy: 0.6219 - val_loss: 1.7124 - val_accuracy: 0.5385\n",
      "Epoch 3/10\n",
      "182/182 [==============================] - 0s 3ms/step - loss: 0.7891 - accuracy: 0.8109 - val_loss: 1.6454 - val_accuracy: 0.5591\n",
      "Epoch 4/10\n",
      "182/182 [==============================] - 0s 2ms/step - loss: 0.4457 - accuracy: 0.9016 - val_loss: 1.6939 - val_accuracy: 0.5643\n",
      "Epoch 5/10\n",
      "182/182 [==============================] - 0s 2ms/step - loss: 0.2731 - accuracy: 0.9458 - val_loss: 1.7840 - val_accuracy: 0.5643\n",
      "Epoch 6/10\n",
      "182/182 [==============================] - 1s 3ms/step - loss: 0.1768 - accuracy: 0.9677 - val_loss: 1.8846 - val_accuracy: 0.5710\n",
      "Epoch 7/10\n",
      "182/182 [==============================] - 0s 2ms/step - loss: 0.1180 - accuracy: 0.9811 - val_loss: 1.9773 - val_accuracy: 0.5689\n",
      "Epoch 8/10\n",
      "182/182 [==============================] - 1s 3ms/step - loss: 0.0811 - accuracy: 0.9890 - val_loss: 2.0759 - val_accuracy: 0.5658\n",
      "Epoch 9/10\n",
      "182/182 [==============================] - 1s 3ms/step - loss: 0.0612 - accuracy: 0.9928 - val_loss: 2.1497 - val_accuracy: 0.5684\n",
      "Epoch 10/10\n",
      "182/182 [==============================] - 0s 3ms/step - loss: 0.0443 - accuracy: 0.9957 - val_loss: 2.2248 - val_accuracy: 0.5715\n",
      "1 / 10\n",
      "Epoch 1/10\n",
      "364/364 [==============================] - 1s 3ms/step - loss: 2.5153 - accuracy: 0.3573 - val_loss: 1.6643 - val_accuracy: 0.5631\n",
      "Epoch 2/10\n",
      "364/364 [==============================] - 1s 2ms/step - loss: 1.1070 - accuracy: 0.7067 - val_loss: 1.4342 - val_accuracy: 0.6222\n",
      "Epoch 3/10\n",
      "364/364 [==============================] - 1s 2ms/step - loss: 0.6201 - accuracy: 0.8382 - val_loss: 1.4472 - val_accuracy: 0.6423\n",
      "Epoch 4/10\n",
      "364/364 [==============================] - 1s 2ms/step - loss: 0.3884 - accuracy: 0.9054 - val_loss: 1.5830 - val_accuracy: 0.6335\n",
      "Epoch 5/10\n",
      "364/364 [==============================] - 1s 2ms/step - loss: 0.2582 - accuracy: 0.9397 - val_loss: 1.6989 - val_accuracy: 0.6369\n",
      "Epoch 6/10\n",
      "364/364 [==============================] - 1s 2ms/step - loss: 0.1746 - accuracy: 0.9610 - val_loss: 1.8264 - val_accuracy: 0.6320\n",
      "Epoch 7/10\n",
      "364/364 [==============================] - 1s 3ms/step - loss: 0.1251 - accuracy: 0.9745 - val_loss: 1.9327 - val_accuracy: 0.6372\n",
      "Epoch 8/10\n",
      "364/364 [==============================] - 1s 2ms/step - loss: 0.0881 - accuracy: 0.9827 - val_loss: 2.1008 - val_accuracy: 0.6279\n",
      "Epoch 9/10\n",
      "364/364 [==============================] - 1s 2ms/step - loss: 0.0704 - accuracy: 0.9846 - val_loss: 2.1981 - val_accuracy: 0.6253\n",
      "Epoch 10/10\n",
      "364/364 [==============================] - 1s 2ms/step - loss: 0.0523 - accuracy: 0.9902 - val_loss: 2.3399 - val_accuracy: 0.6281\n",
      "2 / 10\n",
      "Epoch 1/10\n",
      "546/546 [==============================] - 2s 2ms/step - loss: 2.2210 - accuracy: 0.4245 - val_loss: 1.4470 - val_accuracy: 0.6140\n",
      "Epoch 2/10\n",
      "546/546 [==============================] - 1s 2ms/step - loss: 0.9857 - accuracy: 0.7352 - val_loss: 1.2944 - val_accuracy: 0.6608\n",
      "Epoch 3/10\n",
      "546/546 [==============================] - 1s 2ms/step - loss: 0.5902 - accuracy: 0.8424 - val_loss: 1.3352 - val_accuracy: 0.6740\n",
      "Epoch 4/10\n",
      "546/546 [==============================] - 1s 2ms/step - loss: 0.3955 - accuracy: 0.8979 - val_loss: 1.4297 - val_accuracy: 0.6783\n",
      "Epoch 5/10\n",
      "546/546 [==============================] - 1s 2ms/step - loss: 0.2641 - accuracy: 0.9344 - val_loss: 1.5421 - val_accuracy: 0.6762\n",
      "Epoch 6/10\n",
      "546/546 [==============================] - 1s 2ms/step - loss: 0.1890 - accuracy: 0.9526 - val_loss: 1.7219 - val_accuracy: 0.6678\n",
      "Epoch 7/10\n",
      "546/546 [==============================] - 1s 2ms/step - loss: 0.1423 - accuracy: 0.9665 - val_loss: 1.8420 - val_accuracy: 0.6757\n",
      "Epoch 8/10\n",
      "546/546 [==============================] - 1s 2ms/step - loss: 0.1118 - accuracy: 0.9754 - val_loss: 2.0378 - val_accuracy: 0.6659\n",
      "Epoch 9/10\n",
      "546/546 [==============================] - 1s 2ms/step - loss: 0.1400 - accuracy: 0.9625 - val_loss: 2.1667 - val_accuracy: 0.6671\n",
      "Epoch 10/10\n",
      "546/546 [==============================] - 1s 2ms/step - loss: 0.0935 - accuracy: 0.9798 - val_loss: 2.2429 - val_accuracy: 0.6721\n",
      "3 / 10\n",
      "Epoch 1/10\n",
      "727/727 [==============================] - 2s 2ms/step - loss: 1.9689 - accuracy: 0.4814 - val_loss: 1.3079 - val_accuracy: 0.6493\n",
      "Epoch 2/10\n",
      "727/727 [==============================] - 2s 2ms/step - loss: 0.9143 - accuracy: 0.7518 - val_loss: 1.2172 - val_accuracy: 0.6760\n",
      "Epoch 3/10\n",
      "727/727 [==============================] - 2s 2ms/step - loss: 0.5705 - accuracy: 0.8432 - val_loss: 1.2559 - val_accuracy: 0.6882\n",
      "Epoch 4/10\n",
      "727/727 [==============================] - 2s 2ms/step - loss: 0.3800 - accuracy: 0.8968 - val_loss: 1.3416 - val_accuracy: 0.6923\n",
      "Epoch 5/10\n",
      "727/727 [==============================] - 2s 2ms/step - loss: 0.2640 - accuracy: 0.9308 - val_loss: 1.5196 - val_accuracy: 0.6856\n",
      "Epoch 6/10\n",
      "727/727 [==============================] - 2s 2ms/step - loss: 0.1921 - accuracy: 0.9492 - val_loss: 1.6253 - val_accuracy: 0.6951\n",
      "Epoch 7/10\n",
      "727/727 [==============================] - 2s 2ms/step - loss: 0.1461 - accuracy: 0.9645 - val_loss: 1.7806 - val_accuracy: 0.6919\n",
      "Epoch 8/10\n",
      "727/727 [==============================] - 2s 2ms/step - loss: 0.1203 - accuracy: 0.9708 - val_loss: 1.9253 - val_accuracy: 0.6861\n",
      "Epoch 9/10\n",
      "727/727 [==============================] - 2s 2ms/step - loss: 0.1078 - accuracy: 0.9720 - val_loss: 2.0592 - val_accuracy: 0.6857\n",
      "Epoch 10/10\n",
      "727/727 [==============================] - 2s 2ms/step - loss: 0.0899 - accuracy: 0.9779 - val_loss: 2.1455 - val_accuracy: 0.6882\n",
      "4 / 10\n",
      "Epoch 1/10\n",
      "909/909 [==============================] - 2s 2ms/step - loss: 1.8598 - accuracy: 0.5070 - val_loss: 1.2443 - val_accuracy: 0.6653\n",
      "Epoch 2/10\n",
      "909/909 [==============================] - 2s 2ms/step - loss: 0.8720 - accuracy: 0.7585 - val_loss: 1.1441 - val_accuracy: 0.6988\n",
      "Epoch 3/10\n",
      "909/909 [==============================] - 2s 2ms/step - loss: 0.5556 - accuracy: 0.8414 - val_loss: 1.1756 - val_accuracy: 0.7116\n",
      "Epoch 4/10\n",
      "909/909 [==============================] - 2s 2ms/step - loss: 0.3727 - accuracy: 0.8961 - val_loss: 1.2734 - val_accuracy: 0.7136\n",
      "Epoch 5/10\n",
      "909/909 [==============================] - 2s 2ms/step - loss: 0.2678 - accuracy: 0.9257 - val_loss: 1.4061 - val_accuracy: 0.7121\n",
      "Epoch 6/10\n",
      "909/909 [==============================] - 2s 2ms/step - loss: 0.2047 - accuracy: 0.9440 - val_loss: 1.5695 - val_accuracy: 0.7117\n",
      "Epoch 7/10\n",
      "909/909 [==============================] - 2s 2ms/step - loss: 0.1630 - accuracy: 0.9553 - val_loss: 1.7004 - val_accuracy: 0.7116\n",
      "Epoch 8/10\n",
      "909/909 [==============================] - 2s 2ms/step - loss: 0.1331 - accuracy: 0.9634 - val_loss: 1.8509 - val_accuracy: 0.7136\n",
      "Epoch 9/10\n",
      "909/909 [==============================] - 2s 2ms/step - loss: 0.1047 - accuracy: 0.9711 - val_loss: 1.9729 - val_accuracy: 0.7115\n",
      "Epoch 10/10\n",
      "909/909 [==============================] - 2s 2ms/step - loss: 0.0927 - accuracy: 0.9758 - val_loss: 2.0851 - val_accuracy: 0.7130\n",
      "5 / 10\n",
      "Epoch 1/10\n",
      "1091/1091 [==============================] - 3s 2ms/step - loss: 1.7410 - accuracy: 0.5407 - val_loss: 1.1838 - val_accuracy: 0.6851\n",
      "Epoch 2/10\n",
      "1091/1091 [==============================] - 2s 2ms/step - loss: 0.8357 - accuracy: 0.7670 - val_loss: 1.1036 - val_accuracy: 0.7132\n",
      "Epoch 3/10\n",
      "1091/1091 [==============================] - 2s 2ms/step - loss: 0.5448 - accuracy: 0.8454 - val_loss: 1.1466 - val_accuracy: 0.7195\n",
      "Epoch 4/10\n",
      "1091/1091 [==============================] - 2s 2ms/step - loss: 0.3794 - accuracy: 0.8922 - val_loss: 1.2340 - val_accuracy: 0.7305\n",
      "Epoch 5/10\n",
      "1091/1091 [==============================] - 2s 2ms/step - loss: 0.2752 - accuracy: 0.9209 - val_loss: 1.3394 - val_accuracy: 0.7306\n",
      "Epoch 6/10\n",
      "1091/1091 [==============================] - 2s 2ms/step - loss: 0.2072 - accuracy: 0.9416 - val_loss: 1.5186 - val_accuracy: 0.7255\n",
      "Epoch 7/10\n",
      "1091/1091 [==============================] - 2s 2ms/step - loss: 0.1737 - accuracy: 0.9493 - val_loss: 1.6024 - val_accuracy: 0.7326\n",
      "Epoch 8/10\n",
      "1091/1091 [==============================] - 2s 2ms/step - loss: 0.1399 - accuracy: 0.9610 - val_loss: 1.7611 - val_accuracy: 0.7277\n",
      "Epoch 9/10\n",
      "1091/1091 [==============================] - 2s 2ms/step - loss: 0.1168 - accuracy: 0.9697 - val_loss: 1.8530 - val_accuracy: 0.7311\n",
      "Epoch 10/10\n",
      "1091/1091 [==============================] - 3s 2ms/step - loss: 0.1094 - accuracy: 0.9700 - val_loss: 1.9873 - val_accuracy: 0.7273\n",
      "6 / 10\n",
      "Epoch 1/10\n",
      "1272/1272 [==============================] - 3s 2ms/step - loss: 1.6944 - accuracy: 0.5505 - val_loss: 1.1418 - val_accuracy: 0.6951\n",
      "Epoch 2/10\n",
      "1272/1272 [==============================] - 3s 2ms/step - loss: 0.8091 - accuracy: 0.7732 - val_loss: 1.0411 - val_accuracy: 0.7272\n",
      "Epoch 3/10\n",
      "1272/1272 [==============================] - 3s 2ms/step - loss: 0.5294 - accuracy: 0.8491 - val_loss: 1.0837 - val_accuracy: 0.7328\n",
      "Epoch 4/10\n",
      "1272/1272 [==============================] - 3s 2ms/step - loss: 0.3754 - accuracy: 0.8925 - val_loss: 1.1698 - val_accuracy: 0.7398\n",
      "Epoch 5/10\n",
      "1272/1272 [==============================] - 3s 2ms/step - loss: 0.2735 - accuracy: 0.9212 - val_loss: 1.2868 - val_accuracy: 0.7421\n",
      "Epoch 6/10\n",
      "1272/1272 [==============================] - 3s 2ms/step - loss: 0.2099 - accuracy: 0.9395 - val_loss: 1.4112 - val_accuracy: 0.7430\n",
      "Epoch 7/10\n",
      "1272/1272 [==============================] - 3s 2ms/step - loss: 0.1747 - accuracy: 0.9491 - val_loss: 1.5034 - val_accuracy: 0.7478\n",
      "Epoch 8/10\n",
      "1272/1272 [==============================] - 3s 2ms/step - loss: 0.1459 - accuracy: 0.9569 - val_loss: 1.6156 - val_accuracy: 0.7471\n",
      "Epoch 9/10\n",
      "1272/1272 [==============================] - 3s 2ms/step - loss: 0.1229 - accuracy: 0.9655 - val_loss: 1.7544 - val_accuracy: 0.7494\n",
      "Epoch 10/10\n",
      "1272/1272 [==============================] - 3s 2ms/step - loss: 0.1032 - accuracy: 0.9713 - val_loss: 1.8758 - val_accuracy: 0.7432\n",
      "7 / 10\n",
      "Epoch 1/10\n",
      "1454/1454 [==============================] - 4s 2ms/step - loss: 1.5821 - accuracy: 0.5802 - val_loss: 1.0921 - val_accuracy: 0.7054\n",
      "Epoch 2/10\n",
      "1454/1454 [==============================] - 3s 2ms/step - loss: 0.7792 - accuracy: 0.7825 - val_loss: 0.9898 - val_accuracy: 0.7344\n",
      "Epoch 3/10\n",
      "1454/1454 [==============================] - 3s 2ms/step - loss: 0.5147 - accuracy: 0.8529 - val_loss: 1.0109 - val_accuracy: 0.7505\n",
      "Epoch 4/10\n",
      "1454/1454 [==============================] - 3s 2ms/step - loss: 0.3630 - accuracy: 0.8946 - val_loss: 1.0999 - val_accuracy: 0.7507\n",
      "Epoch 5/10\n",
      "1454/1454 [==============================] - 3s 2ms/step - loss: 0.2726 - accuracy: 0.9197 - val_loss: 1.2106 - val_accuracy: 0.7566\n",
      "Epoch 6/10\n",
      "1454/1454 [==============================] - 3s 2ms/step - loss: 0.2126 - accuracy: 0.9375 - val_loss: 1.3068 - val_accuracy: 0.7565\n",
      "Epoch 7/10\n",
      "1454/1454 [==============================] - 3s 2ms/step - loss: 0.1723 - accuracy: 0.9501 - val_loss: 1.4160 - val_accuracy: 0.7602\n",
      "Epoch 8/10\n",
      "1454/1454 [==============================] - 3s 2ms/step - loss: 0.1458 - accuracy: 0.9582 - val_loss: 1.5328 - val_accuracy: 0.7578\n",
      "Epoch 9/10\n",
      "1454/1454 [==============================] - 3s 2ms/step - loss: 0.1301 - accuracy: 0.9622 - val_loss: 1.6243 - val_accuracy: 0.7614\n",
      "Epoch 10/10\n",
      "1454/1454 [==============================] - 3s 2ms/step - loss: 0.0990 - accuracy: 0.9714 - val_loss: 1.7258 - val_accuracy: 0.7593\n",
      "8 / 10\n",
      "Epoch 1/10\n",
      "1636/1636 [==============================] - 4s 2ms/step - loss: 1.5380 - accuracy: 0.5913 - val_loss: 1.0628 - val_accuracy: 0.7128\n",
      "Epoch 2/10\n",
      "1636/1636 [==============================] - 4s 2ms/step - loss: 0.7599 - accuracy: 0.7871 - val_loss: 0.9631 - val_accuracy: 0.7431\n",
      "Epoch 3/10\n",
      "1636/1636 [==============================] - 4s 2ms/step - loss: 0.5085 - accuracy: 0.8519 - val_loss: 0.9879 - val_accuracy: 0.7563\n",
      "Epoch 4/10\n",
      "1636/1636 [==============================] - 4s 2ms/step - loss: 0.3668 - accuracy: 0.8922 - val_loss: 1.0578 - val_accuracy: 0.7606\n",
      "Epoch 5/10\n",
      "1636/1636 [==============================] - 4s 2ms/step - loss: 0.2707 - accuracy: 0.9191 - val_loss: 1.1547 - val_accuracy: 0.7657\n",
      "Epoch 6/10\n",
      "1636/1636 [==============================] - 4s 2ms/step - loss: 0.2179 - accuracy: 0.9349 - val_loss: 1.2816 - val_accuracy: 0.7682\n",
      "Epoch 7/10\n",
      "1636/1636 [==============================] - 4s 2ms/step - loss: 0.1766 - accuracy: 0.9483 - val_loss: 1.3666 - val_accuracy: 0.7696\n",
      "Epoch 8/10\n",
      "1636/1636 [==============================] - 4s 2ms/step - loss: 0.1508 - accuracy: 0.9568 - val_loss: 1.4697 - val_accuracy: 0.7696\n",
      "Epoch 9/10\n",
      "1636/1636 [==============================] - 4s 2ms/step - loss: 0.1344 - accuracy: 0.9622 - val_loss: 1.6082 - val_accuracy: 0.7692\n",
      "Epoch 10/10\n",
      "1636/1636 [==============================] - 4s 2ms/step - loss: 0.1156 - accuracy: 0.9666 - val_loss: 1.6607 - val_accuracy: 0.7703\n",
      "9 / 10\n",
      "Epoch 1/10\n",
      "1817/1817 [==============================] - 5s 2ms/step - loss: 1.4888 - accuracy: 0.6028 - val_loss: 1.0410 - val_accuracy: 0.7168\n",
      "Epoch 2/10\n",
      "1817/1817 [==============================] - 4s 2ms/step - loss: 0.7532 - accuracy: 0.7882 - val_loss: 0.9519 - val_accuracy: 0.7492\n",
      "Epoch 3/10\n",
      "1817/1817 [==============================] - 4s 2ms/step - loss: 0.5082 - accuracy: 0.8534 - val_loss: 0.9830 - val_accuracy: 0.7596\n",
      "Epoch 4/10\n",
      "1817/1817 [==============================] - 4s 2ms/step - loss: 0.3708 - accuracy: 0.8902 - val_loss: 1.0319 - val_accuracy: 0.7684\n",
      "Epoch 5/10\n",
      "1817/1817 [==============================] - 4s 2ms/step - loss: 0.2777 - accuracy: 0.9174 - val_loss: 1.1303 - val_accuracy: 0.7711\n",
      "Epoch 6/10\n",
      "1817/1817 [==============================] - 4s 2ms/step - loss: 0.2256 - accuracy: 0.9321 - val_loss: 1.2478 - val_accuracy: 0.7697\n",
      "Epoch 7/10\n",
      "1817/1817 [==============================] - 5s 2ms/step - loss: 0.1829 - accuracy: 0.9450 - val_loss: 1.3681 - val_accuracy: 0.7690\n",
      "Epoch 8/10\n",
      "1817/1817 [==============================] - 4s 2ms/step - loss: 0.1543 - accuracy: 0.9535 - val_loss: 1.4659 - val_accuracy: 0.7680\n",
      "Epoch 9/10\n",
      "1817/1817 [==============================] - 4s 2ms/step - loss: 0.1343 - accuracy: 0.9607 - val_loss: 1.5663 - val_accuracy: 0.7700\n",
      "Epoch 10/10\n",
      "1817/1817 [==============================] - 4s 2ms/step - loss: 0.1262 - accuracy: 0.9622 - val_loss: 1.6859 - val_accuracy: 0.7711\n",
      "10 / 10\n"
     ]
    }
   ],
   "source": [
    "errors_train = np.zeros(10)\n",
    "errors_valid = np.zeros(10)\n",
    "\n",
    "for i in range(10):\n",
    "    X_train_div = X_train[0: int(((i + 1) * X_train.shape[0]) / 10), :]\n",
    "    Y_train_div = Y_train[0: int(((i + 1) * Y_train.shape[0]) / 10), :]\n",
    "    X_valid_div = X_valid[0: int(((i + 1) * X_valid.shape[0]) / 10), :]\n",
    "    Y_valid_div = Y_valid[0: int(((i + 1) * Y_valid.shape[0]) / 10), :]\n",
    "\n",
    "    model = get_model(alpha, lambd)\n",
    "    history = model.fit(X_train_div, Y_train_div, epochs=10, validation_data=(X_valid_div, Y_valid_div))\n",
    "\n",
    "    train_accuracy = history.history['accuracy'][-1]\n",
    "    valid_accuracy = history.history['val_accuracy'][-1]\n",
    "\n",
    "    errors_train[i] = 1 - train_accuracy\n",
    "    errors_valid[i] = 1 - valid_accuracy\n",
    "\n",
    "    print(f\"{i + 1} / 10\")    "
   ]
  },
  {
   "cell_type": "code",
   "execution_count": 29,
   "metadata": {},
   "outputs": [
    {
     "data": {
      "text/plain": [
       "Text(0.5, 1.0, 'Error vs. Data Size')"
      ]
     },
     "execution_count": 29,
     "metadata": {},
     "output_type": "execute_result"
    },
    {
     "data": {
      "image/png": "[encoded data removed]",
      "text/plain": [
       "<Figure size 864x576 with 1 Axes>"
      ]
     },
     "metadata": {
      "needs_background": "light"
     },
     "output_type": "display_data"
    }
   ],
   "source": [
    "vfig, ax = plt.subplots(figsize=(12,8))\n",
    "ax.plot(np.arange(10) + 1, errors_valid, 'r', label=\"Validation Error\")\n",
    "ax.plot(np.arange(10) + 1, errors_train, 'b', label=\"Training Error\")\n",
    "ax.legend(loc=1)\n",
    "ax.set_xlabel('Data size')\n",
    "ax.set_ylabel('Error')\n",
    "ax.set_title('Error vs. Data Size')"
   ]
  },
  {
   "cell_type": "code",
   "execution_count": null,
   "metadata": {},
   "outputs": [],
   "source": [
    "nn = model"
   ]
  },
  {
   "cell_type": "code",
   "execution_count": null,
   "metadata": {},
   "outputs": [],
   "source": [
    "def predict(predictions: np.matrix) -> np.matrix:\n",
    "    return to_one_hot(np.asarray(predictions.argmax(axis=1)).ravel(), num_chars)"
   ]
  },
  {
   "cell_type": "code",
   "execution_count": null,
   "metadata": {},
   "outputs": [],
   "source": [
    "def get_accuracy(model: tf.keras.Sequential, X: np.matrix, Y: np.matrix) -> float:\n",
    "    return (predict(model.predict(X)) == Y).all(axis=1).mean()"
   ]
  },
  {
   "cell_type": "code",
   "execution_count": 30,
   "metadata": {},
   "outputs": [
    {
     "data": {
      "text/plain": [
       "0.802218782249742"
      ]
     },
     "execution_count": 30,
     "metadata": {},
     "output_type": "execute_result"
    }
   ],
   "source": [
    "get_accuracy(nn, X_test, Y_test)"
   ]
  },
  {
   "cell_type": "code",
   "execution_count": null,
   "metadata": {},
   "outputs": [
    {
     "data": {
      "text/plain": [
       "0.9806838900546975"
      ]
     },
     "execution_count": 23,
     "metadata": {},
     "output_type": "execute_result"
    }
   ],
   "source": [
    "get_accuracy(nn, X_train, Y_train)"
   ]
  }
 ],
 "metadata": {
  "interpreter": {
   "hash": "d80a6ad3f177f820c16ffddce5e20b9780a5a50a827e881a42629beae35f11cc"
  },
  "kernelspec": {
   "display_name": "Python 3.9.7 64-bit ('Freeuni_ML': conda)",
   "language": "python",
   "name": "python3"
  },
  "language_info": {
   "codemirror_mode": {
    "name": "ipython",
    "version": 3
   },
   "file_extension": ".py",
   "mimetype": "text/x-python",
   "name": "python",
   "nbconvert_exporter": "python",
   "pygments_lexer": "ipython3",
   "version": "3.9.7"
  },
  "orig_nbformat": 4
 },
 "nbformat": 4,
 "nbformat_minor": 2
}
