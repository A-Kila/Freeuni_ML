{
 "cells": [
  {
   "cell_type": "markdown",
   "metadata": {},
   "source": [
    "# Georgian Digital Alphabet Recognition"
   ]
  },
  {
   "cell_type": "markdown",
   "metadata": {},
   "source": [
    "### Preprocessing\n",
    "add useful imports"
   ]
  },
  {
   "cell_type": "code",
   "execution_count": 24,
   "metadata": {},
   "outputs": [],
   "source": [
    "import numpy as np\n",
    "import matplotlib.pyplot as plt\n",
    "import os\n",
    "%matplotlib inline"
   ]
  },
  {
   "cell_type": "markdown",
   "metadata": {},
   "source": [
    "turns a number to a one hot array"
   ]
  },
  {
   "cell_type": "code",
   "execution_count": 25,
   "metadata": {},
   "outputs": [],
   "source": [
    "def to_one_hot(values: np.ndarray, max: int) -> np.matrix:\n",
    "    one_hot = np.zeros((values.size, max))\n",
    "    rows = np.arange(values.size)\n",
    "    one_hot[rows, values] = 1    \n",
    "\n",
    "    return one_hot"
   ]
  },
  {
   "cell_type": "markdown",
   "metadata": {},
   "source": [
    "import image data and convert images to numpy arrays"
   ]
  },
  {
   "cell_type": "code",
   "execution_count": 26,
   "metadata": {},
   "outputs": [],
   "source": [
    "import matplotlib.image as im\n",
    "\n",
    "X_arr = list[np.ndarray]()\n",
    "Y_arr = list[int]()\n",
    "num_chars = ord(\"ჰ\") - ord(\"ა\") + 1\n",
    "\n",
    "for i in range(num_chars):\n",
    "    char = chr(ord(\"ა\") + i)\n",
    "\n",
    "    file_path = f\"data/Letters/{char}\"\n",
    "    for j, image in enumerate(os.listdir(file_path)):\n",
    "        if j >= 300: break\n",
    "        img_data = im.imread(f\"{file_path}/{image}\").ravel()\n",
    "\n",
    "        X_arr.append(np.append(img_data, np.ones(10000 - len(img_data))))\n",
    "        Y_arr.append(i)"
   ]
  },
  {
   "cell_type": "markdown",
   "metadata": {},
   "source": [
    "turn list of image values to numpy matrix, values to one_hot vector"
   ]
  },
  {
   "cell_type": "code",
   "execution_count": 27,
   "metadata": {},
   "outputs": [
    {
     "data": {
      "text/plain": [
       "((9900, 10000), (9900, 33))"
      ]
     },
     "execution_count": 27,
     "metadata": {},
     "output_type": "execute_result"
    }
   ],
   "source": [
    "X = np.asmatrix(X_arr)\n",
    "Y = to_one_hot(np.asarray(Y_arr), num_chars)\n",
    "\n",
    "X.shape, Y.shape"
   ]
  },
  {
   "cell_type": "markdown",
   "metadata": {},
   "source": [
    "divide data to train, validation, and test"
   ]
  },
  {
   "cell_type": "code",
   "execution_count": 28,
   "metadata": {},
   "outputs": [
    {
     "data": {
      "text/plain": [
       "((5940, 10000), (1980, 10000), (1980, 10000))"
      ]
     },
     "execution_count": 28,
     "metadata": {},
     "output_type": "execute_result"
    }
   ],
   "source": [
    "division_points = (int(X.shape[0] * 0.6), int(X.shape[0] * 0.8))\n",
    "\n",
    "data = np.append(X, Y, 1)\n",
    "np.random.shuffle(data)\n",
    "\n",
    "X = data[:, 0: X.shape[1]]\n",
    "Y = data[:, X.shape[1]:]\n",
    "\n",
    "X_train = X[0: division_points[0], :]\n",
    "Y_train = Y[0: division_points[0], :]\n",
    "\n",
    "X_valid = X[division_points[0]: division_points[1], :]\n",
    "Y_valid = Y[division_points[0]: division_points[1], :]\n",
    "\n",
    "X_test = X[division_points[1]:, :]\n",
    "Y_test = Y[division_points[1]:, :]\n",
    "\n",
    "X_train.shape, X_valid.shape, X_test.shape"
   ]
  },
  {
   "cell_type": "markdown",
   "metadata": {},
   "source": [
    "add normalizarion to the three datas seperately"
   ]
  },
  {
   "cell_type": "code",
   "execution_count": 29,
   "metadata": {},
   "outputs": [],
   "source": [
    "X_train -= X_train.mean(0)\n",
    "X_valid -= X_valid.mean(0)\n",
    "X_test -= X_test.mean(0)"
   ]
  },
  {
   "cell_type": "markdown",
   "metadata": {},
   "source": [
    "##### Reduce dimensions using PCA for data compression reasons\n",
    "find minimum dimension to reduce data to"
   ]
  },
  {
   "cell_type": "code",
   "execution_count": 30,
   "metadata": {},
   "outputs": [],
   "source": [
    "min_dimension = 0\n",
    "\n",
    "sigma = (1 / X_train.shape[0]) * X.T * X\n",
    "u, s, _ = np.linalg.svd(sigma)\n",
    "\n",
    "dimension_sum = 0\n",
    "full_sum = np.sum(s)\n",
    "\n",
    "for k in range(len(s)):\n",
    "    dimension_sum += s[k]\n",
    "    variance_retained = dimension_sum / full_sum\n",
    "\n",
    "    if variance_retained > 0.99:\n",
    "        min_dimension = k\n",
    "        break"
   ]
  },
  {
   "cell_type": "code",
   "execution_count": 31,
   "metadata": {},
   "outputs": [
    {
     "data": {
      "text/plain": [
       "775"
      ]
     },
     "execution_count": 31,
     "metadata": {},
     "output_type": "execute_result"
    }
   ],
   "source": [
    "min_dimension"
   ]
  },
  {
   "cell_type": "markdown",
   "metadata": {},
   "source": [
    "reduce data"
   ]
  },
  {
   "cell_type": "code",
   "execution_count": 32,
   "metadata": {},
   "outputs": [
    {
     "data": {
      "text/plain": [
       "((5940, 775), (1980, 775), (1980, 775))"
      ]
     },
     "execution_count": 32,
     "metadata": {},
     "output_type": "execute_result"
    }
   ],
   "source": [
    "u_reduce = u[:, : min_dimension]\n",
    "\n",
    "X_train = X_train * u_reduce\n",
    "X_valid = X_valid * u_reduce\n",
    "X_test = X_test * u_reduce\n",
    "\n",
    "X_train.shape, X_valid.shape, X_test.shape"
   ]
  },
  {
   "cell_type": "markdown",
   "metadata": {},
   "source": [
    "### Define neural network model class"
   ]
  },
  {
   "cell_type": "code",
   "execution_count": 33,
   "metadata": {},
   "outputs": [],
   "source": [
    "class NeuralNetworkModel:\n",
    "    def __init__(self, in_size: int, out_size: int, hidden_sizes: list[int]) -> None:\n",
    "        self.layers: list[int] = [in_size] + hidden_sizes + [out_size]\n",
    "        \n",
    "        self.thetas = list[np.matrix]()\n",
    "        self.biases = list[np.matrix]()\n",
    "\n",
    "        for i in range(len(self.layers) - 1):\n",
    "            prev_size: int = self.layers[i]\n",
    "            next_size: int = self.layers[i + 1]\n",
    "\n",
    "            # for large inputs dividing by the sqrt of the size helps to keep weights and layer values low\n",
    "            self.thetas.append(np.asmatrix(np.random.standard_normal((next_size, prev_size)) / np.sqrt(in_size)))\n",
    "            self.biases.append(np.asmatrix(np.random.standard_normal((next_size, 1))))\n",
    "\n",
    "    def __ReLU(self, X: np.matrix) -> np.matrix:\n",
    "        return np.maximum(0, X)\n",
    "\n",
    "    def __ReLU_grad(self, X: np.matrix) -> np.matrix:\n",
    "        return np.where(X <= 0, 0, 1)\n",
    "\n",
    "    def __sigmoid(self, X: np.matrix) -> np.matrix:\n",
    "        ephsilon = 1e-5 # to avoid returning 1\n",
    "        X = X.clip(-500, 500) # to prevent overflows\n",
    "\n",
    "        return np.divide(1, 1 + np.exp(-X) + ephsilon)\n",
    "\n",
    "    def __forward(self, input: np.matrix, thetas: list[np.matrix]) -> tuple[np.matrix, list[np.matrix]]:\n",
    "        result: np.matrix = input\n",
    "        layer_values: list[np.matrix] = [input]\n",
    "\n",
    "        for i in range(len(self.layers) - 1):\n",
    "            # z(i)\n",
    "            result = np.dot(result, thetas[i].T)\n",
    "            result = np.add(result, self.biases[i].T)\n",
    "            # a(i)\n",
    "            if i != len(self.layers) - 2: \n",
    "                result = self.__ReLU(result)\n",
    "                layer_values.append(result)\n",
    "\n",
    "            else: result = self.__sigmoid(result)\n",
    "\n",
    "        return result, layer_values\n",
    "\n",
    "    # forward propagation, but returns array with only 1 and 0s\n",
    "    def predict(self, input: np.matrix) -> np.matrix:\n",
    "        predictions = self.__forward(input, self.thetas)[0]\n",
    "        return to_one_hot(np.asarray(predictions.argmax(axis=1)).ravel(), num_chars)\n",
    "\n",
    "    def cost(self, X: np.matrix, Y: np.matrix, lambd: float, thetas: list[np.matrix]) -> float:\n",
    "        h, _ = self.__forward(X, thetas)\n",
    "\n",
    "        # compute cost\n",
    "        first_term = np.multiply(Y, np.log(h))\n",
    "        second_term = np.multiply((1 - Y), np.log(1 - h))\n",
    "        J = np.sum(first_term + second_term) / (-X.shape[0])\n",
    "\n",
    "        # add regularization\n",
    "        regularized = 0\n",
    "        for thetas in thetas:\n",
    "            regularized += np.sum(np.power(thetas, 2)) * (lambd / (2 * X.shape[0]))\n",
    "\n",
    "        J += regularized\n",
    "\n",
    "        return J\n",
    "    \n",
    "    # backpropagation\n",
    "    def gradients(self, X: np.matrix, Y: np.matrix, lambd: float) -> tuple[list[np.matrix], list[np.matrix]]:\n",
    "        m = X.shape[0]\n",
    "\n",
    "        h, a_values = self.__forward(X, self.thetas)\n",
    "        bias_a = [np.ones((m, 1)) for _ in a_values]\n",
    "\n",
    "        grads = [np.zeros(theta.shape) for theta in self.thetas]\n",
    "        biases = [np.zeros(bias.shape) for bias in self.biases]\n",
    "\n",
    "        # last layer gradients\n",
    "        last_delta = h - Y\n",
    "        grads[-1] = np.dot(last_delta.T, a_values[-1]) / m\n",
    "        grads[-1] += (lambd * self.thetas[-1]) / m  # regulatization\n",
    "\n",
    "        biases[-1] = np.dot(last_delta.T, bias_a[-1]) / m\n",
    "\n",
    "        # hidden layer gradients\n",
    "        for i in reversed(range(1, len(a_values))):\n",
    "            delta = np.multiply(np.dot(last_delta, self.thetas[i]), self.__ReLU_grad(a_values[i]))\n",
    "            last_delta = delta\n",
    "\n",
    "            grads[i - 1] = np.dot(delta.T, a_values[i - 1]) / m\n",
    "            grads[i - 1] += (lambd * self.thetas[i - 1]) / m   # regulatization\n",
    "\n",
    "            biases[i - 1] = np.dot(delta.T, bias_a[i - 1]) / m\n",
    "\n",
    "        return grads, biases\n",
    "\n",
    "    #for debugging\n",
    "    def gradient_check(self, X: np.matrix, Y: np.matrix, lambd: float, grads: list[np.matrix]) -> bool:\n",
    "        ephsilon = 1e-8\n",
    "        \n",
    "        new_theta1 = [np.copy(theta) for theta in self.thetas]\n",
    "        new_theta2 = [np.copy(theta) for theta in self.thetas]\n",
    "        preds = [np.zeros(grad.shape) for grad in grads]\n",
    "        for l in range(len(self.thetas)):\n",
    "            for i in range(self.thetas[l].shape[0]):\n",
    "                for j in range(self.thetas[l].shape[1]):\n",
    "                    new_theta1[l][i, j] = new_theta1[l][i, j] + ephsilon\n",
    "                    new_theta2[l][i, j] = new_theta2[l][i, j] - ephsilon\n",
    "\n",
    "                    grad_pred = self.cost(X, Y, lambd, new_theta1) - self.cost(X, Y, lambd, [theta for theta in new_theta2])\n",
    "                    grad_pred = grad_pred / (2 * ephsilon)\n",
    "                    preds[l][i, j] = grad_pred\n",
    "\n",
    "                    new_theta1[l][i, j] = new_theta1[l][i, j] - ephsilon\n",
    "                    new_theta2[l][i, j] = new_theta2[l][i, j] + ephsilon\n",
    "\n",
    "        flattened_grads = np.concatenate([np.asarray(grad).ravel() for grad in grads])\n",
    "        flattened_preds = np.concatenate([np.asarray(pred).ravel() for pred in preds])\n",
    "\n",
    "        numerator = np.linalg.norm(flattened_grads - flattened_preds)\n",
    "        denominator = np.linalg.norm(flattened_grads) + np.linalg.norm(flattened_preds)\n",
    "        diff = numerator / denominator\n",
    "\n",
    "        if diff > 1e-4:\n",
    "            print(diff)\n",
    "            print(grads) \n",
    "            print(preds)\n",
    "            return False\n",
    "\n",
    "        return True\n",
    "\n",
    "    def train(self, X: np.matrix, Y: np.matrix, alpha_start: float, lambd: float, max_iters: int = 1000) -> np.ndarray:\n",
    "        cost = np.zeros(max_iters)\n",
    "\n",
    "        for i in range(max_iters):\n",
    "            # learning rate decay\n",
    "            alpha = alpha_start / np.sqrt(i + 1)\n",
    "\n",
    "            theta_grads, bias_grads = self.gradients(X, Y, lambd)\n",
    "\n",
    "            for j, _ in enumerate(self.thetas):\n",
    "                self.thetas[j] = self.thetas[j] - np.multiply(alpha, theta_grads[j])\n",
    "                self.biases[j] = self.biases[j] - np.multiply(alpha, bias_grads[j])\n",
    "\n",
    "            cost[i] = self.cost(X, Y, lambd, self.thetas)\n",
    "\n",
    "        return cost\n",
    "\n",
    "    def get_accuracy(self, X: np.matrix, Y: np.matrix) -> float:\n",
    "        return (self.predict(X) == Y).all(axis=1).mean()"
   ]
  },
  {
   "cell_type": "markdown",
   "metadata": {},
   "source": [
    "### Build a model"
   ]
  },
  {
   "cell_type": "markdown",
   "metadata": {},
   "source": [
    "##### draw the graph of model costs to choose the best alpha"
   ]
  },
  {
   "cell_type": "code",
   "execution_count": 63,
   "metadata": {},
   "outputs": [],
   "source": [
    "hidden_layers = [128, 128]"
   ]
  },
  {
   "cell_type": "code",
   "execution_count": 64,
   "metadata": {},
   "outputs": [],
   "source": [
    "alpha = 0.3\n",
    "\n",
    "nn = NeuralNetworkModel(min_dimension, num_chars, hidden_layers)\n",
    "cost = nn.train(X_train, Y_train, alpha, 0.1, 1000)"
   ]
  },
  {
   "cell_type": "code",
   "execution_count": 65,
   "metadata": {},
   "outputs": [
    {
     "data": {
      "text/plain": [
       "Text(0.5, 1.0, 'Error vs. Training Epoch')"
      ]
     },
     "execution_count": 65,
     "metadata": {},
     "output_type": "execute_result"
    },
    {
     "data": {
      "image/png": "[encoded data removed]",
      "text/plain": [
       "<Figure size 864x576 with 1 Axes>"
      ]
     },
     "metadata": {
      "needs_background": "light"
     },
     "output_type": "display_data"
    }
   ],
   "source": [
    "vfig, ax = plt.subplots(figsize=(12,8))\n",
    "ax.plot(np.arange(cost.size), cost, 'r')\n",
    "ax.set_xlabel('Iterations')\n",
    "ax.set_ylabel('Cost')\n",
    "ax.set_title('Error vs. Training Epoch')"
   ]
  },
  {
   "cell_type": "markdown",
   "metadata": {},
   "source": [
    "##### choose optimal lambda for the model"
   ]
  },
  {
   "cell_type": "code",
   "execution_count": 42,
   "metadata": {},
   "outputs": [],
   "source": [
    "lambdas: list[float] = [0]\n",
    "\n",
    "lambd = 0.01\n",
    "while lambd < 11:\n",
    "    lambdas.append(lambd)\n",
    "    \n",
    "    lambd *= 2"
   ]
  },
  {
   "cell_type": "code",
   "execution_count": 44,
   "metadata": {},
   "outputs": [],
   "source": [
    "errors_train = np.zeros(len(lambdas))\n",
    "errors_valid = np.zeros(len(lambdas))\n",
    "models: list[NeuralNetworkModel] = []\n",
    "\n",
    "for i, lambd in enumerate(lambdas):\n",
    "    model = NeuralNetworkModel(min_dimension, num_chars, hidden_layers)\n",
    "    models.append()\n",
    "    model.train(X_train, Y_train, alpha, lambd)\n",
    "\n",
    "    errors_train[i] = 1 - model.get_accuracy(X_train, Y_train)\n",
    "    errors_valid[i] = 1 - model.get_accuracy(X_valid, Y_valid)\n",
    "\n",
    "    print(f\"{i + 1} / {len(lambdas)}\")"
   ]
  },
  {
   "cell_type": "code",
   "execution_count": 45,
   "metadata": {},
   "outputs": [
    {
     "data": {
      "text/plain": [
       "0.08"
      ]
     },
     "execution_count": 45,
     "metadata": {},
     "output_type": "execute_result"
    }
   ],
   "source": [
    "lambd = lambdas[errors_valid.argmin()]\n",
    "model = models[errors_valid.argmin()]\n",
    "lambd"
   ]
  },
  {
   "cell_type": "code",
   "execution_count": 46,
   "metadata": {},
   "outputs": [
    {
     "data": {
      "text/plain": [
       "Text(0.5, 1.0, 'Error vs. Lambda Value')"
      ]
     },
     "execution_count": 46,
     "metadata": {},
     "output_type": "execute_result"
    },
    {
     "data": {
      "image/png": "[encoded data removed]",
      "text/plain": [
       "<Figure size 864x576 with 1 Axes>"
      ]
     },
     "metadata": {
      "needs_background": "light"
     },
     "output_type": "display_data"
    }
   ],
   "source": [
    "vfig, ax = plt.subplots(figsize=(12,8))\n",
    "ax.plot(lambdas, errors_valid, 'r', label=\"Validation Error\")\n",
    "ax.plot(lambdas, errors_train, 'b', label=\"Training Error\")\n",
    "ax.legend(loc=1)\n",
    "ax.set_xlabel('Lambda values')\n",
    "ax.set_ylabel('Error')\n",
    "ax.set_title('Error vs. Lambda Value')"
   ]
  },
  {
   "cell_type": "markdown",
   "metadata": {},
   "source": [
    "##### debug model using learning curves"
   ]
  },
  {
   "cell_type": "code",
   "execution_count": 47,
   "metadata": {},
   "outputs": [
    {
     "name": "stdout",
     "output_type": "stream",
     "text": [
      "1 / 10\n",
      "2 / 10\n",
      "3 / 10\n",
      "4 / 10\n",
      "5 / 10\n",
      "6 / 10\n",
      "7 / 10\n",
      "8 / 10\n",
      "9 / 10\n",
      "10 / 10\n"
     ]
    }
   ],
   "source": [
    "errors_train = np.zeros(10)\n",
    "errors_valid = np.zeros(10)\n",
    "\n",
    "for i in range(10):\n",
    "    X_train_div = X_train[0: int(((i + 1) * X_train.shape[0]) / 10), :]\n",
    "    Y_train_div = Y_train[0: int(((i + 1) * Y_train.shape[0]) / 10), :]\n",
    "    X_valid_div = X_valid[0: int(((i + 1) * X_valid.shape[0]) / 10), :]\n",
    "    Y_valid_div = Y_valid[0: int(((i + 1) * Y_valid.shape[0]) / 10), :]\n",
    "\n",
    "    model = NeuralNetworkModel(min_dimension, num_chars, hidden_layers)\n",
    "    model.train(X_train_div, Y_train_div, alpha, lambd)\n",
    "\n",
    "    errors_train[i] = 1 - model.get_accuracy(X_train_div, Y_train_div)\n",
    "    errors_valid[i] = 1 - model.get_accuracy(X_valid_div, Y_valid_div)\n",
    "\n",
    "    print(f\"{i + 1} / 10\")    "
   ]
  },
  {
   "cell_type": "code",
   "execution_count": 48,
   "metadata": {},
   "outputs": [
    {
     "data": {
      "text/plain": [
       "Text(0.5, 1.0, 'Error vs. Data Size')"
      ]
     },
     "execution_count": 48,
     "metadata": {},
     "output_type": "execute_result"
    },
    {
     "data": {
      "image/png": "[encoded data removed]",
      "text/plain": [
       "<Figure size 864x576 with 1 Axes>"
      ]
     },
     "metadata": {
      "needs_background": "light"
     },
     "output_type": "display_data"
    }
   ],
   "source": [
    "vfig, ax = plt.subplots(figsize=(12,8))\n",
    "ax.plot(np.arange(10) + 1, errors_valid, 'r', label=\"Validation Error\")\n",
    "ax.plot(np.arange(10) + 1, errors_train, 'b', label=\"Training Error\")\n",
    "ax.legend(loc=1)\n",
    "ax.set_xlabel('Data size')\n",
    "ax.set_ylabel('Error')\n",
    "ax.set_title('Error vs. Data Size')"
   ]
  },
  {
   "cell_type": "code",
   "execution_count": 49,
   "metadata": {},
   "outputs": [
    {
     "data": {
      "text/plain": [
       "array([9.79041744, 5.45253985, 4.73774377, 4.62734331, 4.57634959,\n",
       "       4.54748879, 4.52931335, 4.51709685, 4.50850557, 4.50225437,\n",
       "       4.49758225, 4.49401842, 4.49125204, 4.48907303, 4.487333  ,\n",
       "       4.48592855, 4.48478042, 4.4838317 , 4.48303957, 4.48237218,\n",
       "       4.48180445, 4.48131757, 4.48089736, 4.48053129, 4.48020924,\n",
       "       4.47992329, 4.4796681 , 4.47943862, 4.47923082, 4.47904154,\n",
       "       4.47886768, 4.47870783, 4.47855955, 4.47842148, 4.47829204,\n",
       "       4.47817031, 4.47805508, 4.47794566, 4.47784179, 4.47774199,\n",
       "       4.47764652, 4.47755485, 4.47746664, 4.47738173, 4.47729965,\n",
       "       4.47721956, 4.47714184, 4.47706583, 4.47699112, 4.47691822,\n",
       "       4.47684667, 4.4767767 , 4.47670829, 4.47664109, 4.47657527,\n",
       "       4.47651044, 4.47644631, 4.47638286, 4.47632038, 4.47625877,\n",
       "       4.47619786, 4.47613763, 4.47607826, 4.4760198 , 4.47596218,\n",
       "       4.47590532, 4.475849  , 4.47579327, 4.47573794, 4.47568318,\n",
       "       4.47562903, 4.47557552, 4.47552244, 4.47546966, 4.47541749,\n",
       "       4.47536571, 4.47531434, 4.47526329, 4.47521266, 4.47516262,\n",
       "       4.47511311, 4.47506404, 4.47501552, 4.4749673 , 4.47491936,\n",
       "       4.47487172, 4.4748245 , 4.47477767, 4.47473125, 4.47468518,\n",
       "       4.4746393 , 4.47459364, 4.47454823, 4.47450304, 4.47445811,\n",
       "       4.47441342, 4.47436903, 4.47432483, 4.47428087, 4.47423732,\n",
       "       4.47419405, 4.47415098, 4.47410811, 4.47406544, 4.47402291,\n",
       "       4.47398052, 4.47393839, 4.47389646, 4.47385469, 4.47381304,\n",
       "       4.47377159, 4.47373032, 4.47368926, 4.47364832, 4.47360747,\n",
       "       4.47356676, 4.47352624, 4.47348592, 4.47344575, 4.47340577,\n",
       "       4.47336599, 4.47332645, 4.47328709, 4.47324792, 4.47320889,\n",
       "       4.47317003, 4.47313135, 4.47309283, 4.47305443, 4.47301615,\n",
       "       4.47297798, 4.47293995, 4.47290208, 4.47286438, 4.47282679,\n",
       "       4.47278927, 4.47275177, 4.4727144 , 4.47267713, 4.47264   ,\n",
       "       4.47260303, 4.47256617, 4.47252945, 4.47249281, 4.47245628,\n",
       "       4.47241987, 4.47238351, 4.47234719, 4.47231087, 4.47227462,\n",
       "       4.47223856, 4.47220263, 4.47216685, 4.47213124, 4.47209562,\n",
       "       4.4720601 , 4.47202461, 4.47198909, 4.47195371, 4.47191845,\n",
       "       4.47188329, 4.47184823, 4.47181332, 4.47177842, 4.47174349,\n",
       "       4.47170862, 4.47167388, 4.47163922, 4.47160463, 4.47157023,\n",
       "       4.47153594, 4.47150164, 4.47146729, 4.47143295, 4.47139866,\n",
       "       4.47136445, 4.47133034, 4.47129625, 4.47126216, 4.47122812,\n",
       "       4.47119408, 4.47116014, 4.47112624, 4.4710924 , 4.47105862,\n",
       "       4.47102488, 4.47099106, 4.47095742, 4.47092394, 4.47089066,\n",
       "       4.47085741, 4.47082423, 4.470791  , 4.47075775, 4.47072456,\n",
       "       4.4706916 , 4.47065865, 4.47062569, 4.47059281, 4.47055997,\n",
       "       4.47052711, 4.47049419, 4.47046136, 4.47042864, 4.47039605,\n",
       "       4.47036361, 4.47033121, 4.47029882, 4.47026646, 4.47023413,\n",
       "       4.47020179, 4.47016944, 4.47013716, 4.47010494, 4.47007275,\n",
       "       4.47004069, 4.47000867, 4.46997673, 4.46994493, 4.46991317,\n",
       "       4.46988153, 4.46985002, 4.46981859, 4.46978731, 4.46975621,\n",
       "       4.46972529, 4.46969449, 4.46966378, 4.46963311, 4.4696024 ,\n",
       "       4.46957164, 4.46954088, 4.46951021, 4.46947958, 4.46944896,\n",
       "       4.46941843, 4.46938799, 4.4693576 , 4.46932721, 4.46929686,\n",
       "       4.46926664, 4.46923649, 4.46920635, 4.46917625, 4.46914621,\n",
       "       4.46911619, 4.46908622, 4.4690562 , 4.46902622, 4.46899631,\n",
       "       4.46896648, 4.46893663, 4.46890686, 4.46887714, 4.46884741,\n",
       "       4.46881772, 4.46878807, 4.46875844, 4.46872883, 4.46869923,\n",
       "       4.46866967, 4.46864021, 4.46861083, 4.46858145, 4.46855217,\n",
       "       4.46852299, 4.46849385, 4.46846477, 4.46843576, 4.4684068 ,\n",
       "       4.46837789, 4.46834907, 4.46832032, 4.46829162, 4.46826295,\n",
       "       4.46823431, 4.46820569, 4.46817711, 4.46814859, 4.46812013,\n",
       "       4.46809173, 4.46806331, 4.46803488, 4.46800641, 4.46797798,\n",
       "       4.46794963, 4.46792133, 4.46789307, 4.46786483, 4.46783658,\n",
       "       4.46780831, 4.46778004, 4.46775191, 4.46772379, 4.4676957 ,\n",
       "       4.46766767, 4.46763972, 4.46761178, 4.46758386, 4.46755597,\n",
       "       4.46752806, 4.46750013, 4.46747223, 4.46744438, 4.46741659,\n",
       "       4.46738883, 4.46736105, 4.46733325, 4.46730554, 4.46727782,\n",
       "       4.46725014, 4.46722255, 4.46719506, 4.4671676 , 4.46714013,\n",
       "       4.46711272, 4.46708533, 4.46705792, 4.46703052, 4.46700312,\n",
       "       4.46697576, 4.46694843, 4.46692117, 4.46689393, 4.46686668,\n",
       "       4.46683949, 4.46681235, 4.46678525, 4.46675815, 4.46673109,\n",
       "       4.46670406, 4.46667705, 4.46665015, 4.46662327, 4.46659642,\n",
       "       4.46656956, 4.46654273, 4.46651598, 4.46648926, 4.46646248,\n",
       "       4.46643574, 4.46640902, 4.46638231, 4.46635555, 4.46632876,\n",
       "       4.46630195, 4.46627521, 4.46624848, 4.46622176, 4.46619511,\n",
       "       4.46616859, 4.46614214, 4.46611578, 4.46608948, 4.46606324,\n",
       "       4.46603705, 4.46601095, 4.46598493, 4.46595896, 4.46593302,\n",
       "       4.46590711, 4.46588125, 4.46585541, 4.46582955, 4.4658037 ,\n",
       "       4.46577782, 4.46575196, 4.46572611, 4.46570029, 4.46567453,\n",
       "       4.46564877, 4.46562301, 4.46559727, 4.46557154, 4.46554579,\n",
       "       4.46552   , 4.46549416, 4.46546828, 4.46544244, 4.46541667,\n",
       "       4.46539095, 4.46536525, 4.46533957, 4.46531389, 4.46528825,\n",
       "       4.46526262, 4.465237  , 4.46521139, 4.46518575, 4.4651601 ,\n",
       "       4.4651345 , 4.46510885, 4.46508327, 4.46505775, 4.46503231,\n",
       "       4.46500688, 4.46498146, 4.46495608, 4.4649307 , 4.46490532,\n",
       "       4.46487988, 4.46485442, 4.46482893, 4.46480345, 4.46477793,\n",
       "       4.46475245, 4.46472697, 4.46470149, 4.46467597, 4.46465041,\n",
       "       4.46462488, 4.46459943, 4.46457399, 4.46454856, 4.46452309,\n",
       "       4.46449764, 4.46447217, 4.46444671, 4.46442126, 4.46439582,\n",
       "       4.46437041, 4.46434502, 4.46431961, 4.46429422, 4.46426883,\n",
       "       4.46424345, 4.46421821, 4.46419302, 4.4641679 , 4.46414277,\n",
       "       4.46411768, 4.46409259, 4.46406751, 4.46404247, 4.46401744,\n",
       "       4.46399247, 4.46396753, 4.46394256, 4.46391765, 4.46389271,\n",
       "       4.46386775, 4.46384279, 4.46381783, 4.46379291, 4.46376797,\n",
       "       4.46374295, 4.46371787, 4.46369282, 4.46366778, 4.46364269,\n",
       "       4.46361764, 4.46359264, 4.46356763, 4.46354261, 4.46351765,\n",
       "       4.46349274, 4.46346781, 4.46344292, 4.46341802, 4.46339308,\n",
       "       4.46336819, 4.46334335, 4.46331851, 4.46329368, 4.4632688 ,\n",
       "       4.46324398, 4.46321921, 4.46319448, 4.46316969, 4.4631449 ,\n",
       "       4.46312015, 4.46309538, 4.46307056, 4.46304572, 4.46302097,\n",
       "       4.46299627, 4.46297156, 4.46294687, 4.46292221, 4.46289763,\n",
       "       4.46287309, 4.4628486 , 4.46282413, 4.46279962, 4.4627751 ,\n",
       "       4.46275061, 4.46272615, 4.46270172, 4.46267733, 4.46265294,\n",
       "       4.46262856, 4.46260421, 4.46257992, 4.46255563, 4.46253135,\n",
       "       4.46250714, 4.46248295, 4.46245874, 4.46243454, 4.46241038,\n",
       "       4.46238626, 4.46236216, 4.46233807, 4.46231395, 4.46228985,\n",
       "       4.46226575, 4.46224165, 4.46221755, 4.46219344, 4.46216934,\n",
       "       4.46214523, 4.46212113, 4.4620971 , 4.46207309, 4.46204911,\n",
       "       4.46202514, 4.46200118, 4.46197727, 4.46195338, 4.4619295 ,\n",
       "       4.46190562, 4.46188171, 4.46185781, 4.46183396, 4.46181016,\n",
       "       4.46178639, 4.46176263, 4.46173888, 4.46171513, 4.46169139,\n",
       "       4.46166767, 4.46164401, 4.46162034, 4.46159664, 4.46157296,\n",
       "       4.46154931, 4.46152569, 4.46150208, 4.4614785 , 4.46145496,\n",
       "       4.46143142, 4.46140791, 4.46138441, 4.4613609 , 4.46133739,\n",
       "       4.4613139 , 4.46129041, 4.46126693, 4.46124346, 4.46122003,\n",
       "       4.46119667, 4.46117331, 4.46114998, 4.46112665, 4.46110333,\n",
       "       4.46108005, 4.46105682, 4.46103361, 4.46101042, 4.46098724,\n",
       "       4.46096408, 4.46094093, 4.4609178 , 4.46089467, 4.46087151,\n",
       "       4.46084834, 4.46082519, 4.46080205, 4.46077893, 4.46075582,\n",
       "       4.46073271, 4.46070962, 4.46068653, 4.46066347, 4.46064042,\n",
       "       4.46061739, 4.46059436, 4.46057133, 4.46054833, 4.46052533,\n",
       "       4.46050234, 4.46047933, 4.46045631, 4.46043328, 4.46041026,\n",
       "       4.46038727, 4.4603643 , 4.46034137, 4.46031844, 4.46029551,\n",
       "       4.4602726 , 4.46024973, 4.46022688, 4.46020404, 4.46018123,\n",
       "       4.46015844, 4.46013564, 4.46011285, 4.46009005, 4.46006726,\n",
       "       4.46004449, 4.46002172, 4.45999895, 4.45997618, 4.45995341,\n",
       "       4.45993065, 4.45990788, 4.45988509, 4.45986229, 4.45983946,\n",
       "       4.45981665, 4.45979384, 4.45977101, 4.45974817, 4.45972529,\n",
       "       4.45970239, 4.45967946, 4.45965654, 4.45963362, 4.45961071,\n",
       "       4.45958779, 4.45956488, 4.45954198, 4.45951907, 4.45949614,\n",
       "       4.45947317, 4.4594502 , 4.45942727, 4.45940437, 4.45938146,\n",
       "       4.45935855, 4.45933564, 4.45931271, 4.45928976, 4.45926679,\n",
       "       4.45924385, 4.45922092, 4.45919799, 4.4591751 , 4.45915222,\n",
       "       4.45912937, 4.45910654, 4.45908371, 4.45906083, 4.45903796,\n",
       "       4.45901505, 4.45899208, 4.45896912, 4.45894612, 4.4589231 ,\n",
       "       4.45890003, 4.45887697, 4.45885389, 4.45883082, 4.45880768,\n",
       "       4.45878453, 4.45876139, 4.45873822, 4.45871502, 4.45869183,\n",
       "       4.4586686 , 4.45864536, 4.45862217, 4.45859905, 4.45857593,\n",
       "       4.45855274, 4.45852954, 4.45850637, 4.45848321, 4.45846008,\n",
       "       4.45843698, 4.45841389, 4.45839082, 4.45836773, 4.45834459,\n",
       "       4.45832143, 4.45829829, 4.45827517, 4.45825201, 4.45822883,\n",
       "       4.45820564, 4.45818245, 4.45815927, 4.45813611, 4.45811294,\n",
       "       4.45808975, 4.45806655, 4.45804329, 4.45802012, 4.45799693,\n",
       "       4.45797378, 4.45795071, 4.45792765, 4.45790456, 4.45788147,\n",
       "       4.45785842, 4.45783537, 4.45781233, 4.45778931, 4.45776627,\n",
       "       4.45774329, 4.4577204 , 4.45769752, 4.45767465, 4.45765176,\n",
       "       4.45762888, 4.45760603, 4.45758318, 4.45756036, 4.45753757,\n",
       "       4.45751482, 4.45749207, 4.45746932, 4.45744657, 4.45742379,\n",
       "       4.45740101, 4.45737824, 4.45735547, 4.45733275, 4.45731002,\n",
       "       4.45728732, 4.4572646 , 4.4572419 , 4.45721918, 4.4571964 ,\n",
       "       4.45717357, 4.45715073, 4.45712784, 4.45710499, 4.45708212,\n",
       "       4.45705926, 4.45703636, 4.45701346, 4.45699052, 4.45696758,\n",
       "       4.45694467, 4.45692178, 4.45689897, 4.45687619, 4.45685342,\n",
       "       4.45683064, 4.4568079 , 4.45678521, 4.45676251, 4.45673982,\n",
       "       4.45671714, 4.45669445, 4.45667171, 4.45664898, 4.45662626,\n",
       "       4.45660357, 4.45658086, 4.45655816, 4.45653549, 4.45651286,\n",
       "       4.45649025, 4.45646769, 4.45644513, 4.45642256, 4.45640002,\n",
       "       4.45637746, 4.4563549 , 4.45633242, 4.45630993, 4.45628746,\n",
       "       4.45626498, 4.4562425 , 4.45622006, 4.45619763, 4.4561752 ,\n",
       "       4.45615279, 4.45613041, 4.45610805, 4.45608568, 4.45606331,\n",
       "       4.45604095, 4.45601858, 4.45599621, 4.45597387, 4.45595155,\n",
       "       4.45592924, 4.4559069 , 4.45588459, 4.45586228, 4.45583998,\n",
       "       4.45581769, 4.45579539, 4.45577309, 4.45575078, 4.45572847,\n",
       "       4.45570614, 4.45568382, 4.45566152, 4.45563921, 4.45561691,\n",
       "       4.4555946 , 4.45557229, 4.45555   , 4.45552772, 4.45550545,\n",
       "       4.45548317, 4.45546089, 4.45543862, 4.45541637, 4.4553941 ,\n",
       "       4.45537181, 4.45534952, 4.45532724, 4.45530497, 4.45528271,\n",
       "       4.45526045, 4.4552382 , 4.45521595, 4.45519371, 4.45517147,\n",
       "       4.45514925, 4.45512703, 4.45510481, 4.4550826 , 4.4550604 ,\n",
       "       4.45503821, 4.45501601, 4.45499381, 4.45497163, 4.45494949,\n",
       "       4.45492737, 4.45490525, 4.45488315, 4.45486107, 4.45483898,\n",
       "       4.45481691, 4.45479486, 4.45477281, 4.45475077, 4.45472873,\n",
       "       4.45470669, 4.45468464, 4.45466258, 4.45464052, 4.45461844,\n",
       "       4.45459635, 4.45457426, 4.45455216, 4.45453009, 4.45450802,\n",
       "       4.45448595, 4.45446388, 4.4544418 , 4.45441971, 4.45439762,\n",
       "       4.45437554, 4.45435346, 4.45433138, 4.45430931, 4.45428725,\n",
       "       4.45426519, 4.45424314, 4.45422111, 4.45419908, 4.45417707,\n",
       "       4.45415507, 4.45413308, 4.45411109, 4.4540891 , 4.4540671 ,\n",
       "       4.45404513, 4.45402315, 4.45400117, 4.45397919, 4.4539572 ,\n",
       "       4.45393521, 4.45391323, 4.45389125, 4.45386928, 4.45384731,\n",
       "       4.45382535, 4.45380339, 4.45378143, 4.45375947, 4.45373752,\n",
       "       4.45371557, 4.45369363, 4.45367169, 4.45364974, 4.45362778,\n",
       "       4.45360584, 4.4535839 , 4.45356197, 4.45354005, 4.45351813,\n",
       "       4.45349623, 4.45347433, 4.45345242, 4.45343051, 4.45340858,\n",
       "       4.45338665, 4.45336473, 4.45334282, 4.45332091, 4.45329901,\n",
       "       4.45327712, 4.45325522, 4.45323332, 4.45321144, 4.45318956,\n",
       "       4.45316767, 4.45314579, 4.45312392, 4.45310204, 4.45308016,\n",
       "       4.45305827, 4.45303637, 4.45301449, 4.4529926 , 4.45297071,\n",
       "       4.45294882, 4.45292693, 4.45290505, 4.45288317, 4.45286128,\n",
       "       4.4528394 , 4.45281753, 4.45279566, 4.45277378, 4.4527519 ,\n",
       "       4.45273003, 4.45270817, 4.4526863 , 4.45266444, 4.45264258,\n",
       "       4.45262073, 4.45259886, 4.452577  , 4.45255513, 4.45253326,\n",
       "       4.45251139, 4.45248952, 4.45246765, 4.45244578, 4.45242392,\n",
       "       4.45240206, 4.4523802 , 4.45235835, 4.4523365 , 4.45231464,\n",
       "       4.45229278, 4.45227092, 4.45224905, 4.45222718, 4.45220531,\n",
       "       4.45218342, 4.45216153, 4.45213965, 4.45211776, 4.45209587,\n",
       "       4.45207399, 4.4520521 , 4.45203021, 4.45200832, 4.45198642,\n",
       "       4.45196451, 4.45194262, 4.45192073, 4.45189886, 4.45187699,\n",
       "       4.45185511, 4.45183324, 4.45181137, 4.45178948, 4.4517676 ,\n",
       "       4.4517457 , 4.4517238 , 4.4517019 , 4.45168001, 4.45165812,\n",
       "       4.45163623, 4.45161435, 4.45159247, 4.45157059, 4.45154872,\n",
       "       4.45152685, 4.45150498, 4.45148311, 4.45146126, 4.45143941,\n",
       "       4.45141756, 4.4513957 , 4.45137383, 4.45135197, 4.45133009,\n",
       "       4.45130822, 4.45128633, 4.45126443, 4.45124252, 4.45122061,\n",
       "       4.45119869, 4.45117677, 4.45115484, 4.45113291, 4.45111097])"
      ]
     },
     "execution_count": 49,
     "metadata": {},
     "output_type": "execute_result"
    }
   ],
   "source": [
    "nn = NeuralNetworkModel(min_dimension, num_chars, hidden_layers)\n",
    "nn.train(X_train, Y_train, alpha, lambd)"
   ]
  },
  {
   "cell_type": "code",
   "execution_count": null,
   "metadata": {},
   "outputs": [],
   "source": [
    "whaat = np.asmatrix([\n",
    "    im.imread(f\"data/images/ა/1_aacadhn.ttf_fs_24_bc_256.ა.png\").ravel(),\n",
    "    im.imread(f\"data/images/ბ/2648_ashesha.ttf_fs_64_bc_256.ბ.png\").ravel(),\n",
    "    np.zeros(10000)\n",
    "])\n",
    "\n",
    "whaat = whaat * u_reduce"
   ]
  },
  {
   "cell_type": "code",
   "execution_count": null,
   "metadata": {},
   "outputs": [],
   "source": [
    "nn.predict(whaat)"
   ]
  },
  {
   "cell_type": "code",
   "execution_count": 61,
   "metadata": {},
   "outputs": [
    {
     "data": {
      "text/plain": [
       "0.15606060606060607"
      ]
     },
     "execution_count": 61,
     "metadata": {},
     "output_type": "execute_result"
    }
   ],
   "source": [
    "nn.get_accuracy(X_test, Y_test)"
   ]
  },
  {
   "cell_type": "code",
   "execution_count": 62,
   "metadata": {},
   "outputs": [
    {
     "data": {
      "text/plain": [
       "0.1978114478114478"
      ]
     },
     "execution_count": 62,
     "metadata": {},
     "output_type": "execute_result"
    }
   ],
   "source": [
    "nn.get_accuracy(X_train, Y_train)"
   ]
  }
 ],
 "metadata": {
  "interpreter": {
   "hash": "d80a6ad3f177f820c16ffddce5e20b9780a5a50a827e881a42629beae35f11cc"
  },
  "kernelspec": {
   "display_name": "Python 3.9.7 64-bit ('Freeuni_ML': conda)",
   "language": "python",
   "name": "python3"
  },
  "language_info": {
   "codemirror_mode": {
    "name": "ipython",
    "version": 3
   },
   "file_extension": ".py",
   "mimetype": "text/x-python",
   "name": "python",
   "nbconvert_exporter": "python",
   "pygments_lexer": "ipython3",
   "version": "3.9.7"
  },
  "orig_nbformat": 4
 },
 "nbformat": 4,
 "nbformat_minor": 2
}
