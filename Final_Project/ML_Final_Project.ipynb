{
 "cells": [
  {
   "cell_type": "code",
   "execution_count": null,
   "metadata": {},
   "outputs": [],
   "source": []
  }
 ],
 "metadata": {
  "interpreter": {
   "hash": "d80a6ad3f177f820c16ffddce5e20b9780a5a50a827e881a42629beae35f11cc"
  },
  "kernelspec": {
   "display_name": "Python 3.9.7 64-bit ('Freeuni_ML': conda)",
   "language": "python",
   "name": "python3"
  },
  "language_info": {
   "name": "python",
   "version": "3.9.7"
  },
  "orig_nbformat": 4
 },
 "nbformat": 4,
 "nbformat_minor": 2
}
