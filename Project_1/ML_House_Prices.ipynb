{
 "cells": [
  {
   "cell_type": "markdown",
   "metadata": {},
   "source": [
    "# House Prices\n",
    "\n",
    "Initilize project files and libraries"
   ]
  },
  {
   "cell_type": "code",
   "execution_count": 1,
   "metadata": {},
   "outputs": [
    {
     "data": {
      "text/html": [
       "<div>\n",
       "<style scoped>\n",
       "    .dataframe tbody tr th:only-of-type {\n",
       "        vertical-align: middle;\n",
       "    }\n",
       "\n",
       "    .dataframe tbody tr th {\n",
       "        vertical-align: top;\n",
       "    }\n",
       "\n",
       "    .dataframe thead th {\n",
       "        text-align: right;\n",
       "    }\n",
       "</style>\n",
       "<table border=\"1\" class=\"dataframe\">\n",
       "  <thead>\n",
       "    <tr style=\"text-align: right;\">\n",
       "      <th></th>\n",
       "      <th>Id</th>\n",
       "      <th>MSSubClass</th>\n",
       "      <th>MSZoning</th>\n",
       "      <th>LotFrontage</th>\n",
       "      <th>LotArea</th>\n",
       "      <th>Street</th>\n",
       "      <th>Alley</th>\n",
       "      <th>LotShape</th>\n",
       "      <th>LandContour</th>\n",
       "      <th>Utilities</th>\n",
       "      <th>...</th>\n",
       "      <th>PoolArea</th>\n",
       "      <th>PoolQC</th>\n",
       "      <th>Fence</th>\n",
       "      <th>MiscFeature</th>\n",
       "      <th>MiscVal</th>\n",
       "      <th>MoSold</th>\n",
       "      <th>YrSold</th>\n",
       "      <th>SaleType</th>\n",
       "      <th>SaleCondition</th>\n",
       "      <th>SalePrice</th>\n",
       "    </tr>\n",
       "  </thead>\n",
       "  <tbody>\n",
       "    <tr>\n",
       "      <th>0</th>\n",
       "      <td>1</td>\n",
       "      <td>60</td>\n",
       "      <td>RL</td>\n",
       "      <td>65.0</td>\n",
       "      <td>8450</td>\n",
       "      <td>Pave</td>\n",
       "      <td>NaN</td>\n",
       "      <td>Reg</td>\n",
       "      <td>Lvl</td>\n",
       "      <td>AllPub</td>\n",
       "      <td>...</td>\n",
       "      <td>0</td>\n",
       "      <td>NaN</td>\n",
       "      <td>NaN</td>\n",
       "      <td>NaN</td>\n",
       "      <td>0</td>\n",
       "      <td>2</td>\n",
       "      <td>2008</td>\n",
       "      <td>WD</td>\n",
       "      <td>Normal</td>\n",
       "      <td>208500</td>\n",
       "    </tr>\n",
       "    <tr>\n",
       "      <th>1</th>\n",
       "      <td>2</td>\n",
       "      <td>20</td>\n",
       "      <td>RL</td>\n",
       "      <td>80.0</td>\n",
       "      <td>9600</td>\n",
       "      <td>Pave</td>\n",
       "      <td>NaN</td>\n",
       "      <td>Reg</td>\n",
       "      <td>Lvl</td>\n",
       "      <td>AllPub</td>\n",
       "      <td>...</td>\n",
       "      <td>0</td>\n",
       "      <td>NaN</td>\n",
       "      <td>NaN</td>\n",
       "      <td>NaN</td>\n",
       "      <td>0</td>\n",
       "      <td>5</td>\n",
       "      <td>2007</td>\n",
       "      <td>WD</td>\n",
       "      <td>Normal</td>\n",
       "      <td>181500</td>\n",
       "    </tr>\n",
       "    <tr>\n",
       "      <th>2</th>\n",
       "      <td>3</td>\n",
       "      <td>60</td>\n",
       "      <td>RL</td>\n",
       "      <td>68.0</td>\n",
       "      <td>11250</td>\n",
       "      <td>Pave</td>\n",
       "      <td>NaN</td>\n",
       "      <td>IR1</td>\n",
       "      <td>Lvl</td>\n",
       "      <td>AllPub</td>\n",
       "      <td>...</td>\n",
       "      <td>0</td>\n",
       "      <td>NaN</td>\n",
       "      <td>NaN</td>\n",
       "      <td>NaN</td>\n",
       "      <td>0</td>\n",
       "      <td>9</td>\n",
       "      <td>2008</td>\n",
       "      <td>WD</td>\n",
       "      <td>Normal</td>\n",
       "      <td>223500</td>\n",
       "    </tr>\n",
       "    <tr>\n",
       "      <th>3</th>\n",
       "      <td>4</td>\n",
       "      <td>70</td>\n",
       "      <td>RL</td>\n",
       "      <td>60.0</td>\n",
       "      <td>9550</td>\n",
       "      <td>Pave</td>\n",
       "      <td>NaN</td>\n",
       "      <td>IR1</td>\n",
       "      <td>Lvl</td>\n",
       "      <td>AllPub</td>\n",
       "      <td>...</td>\n",
       "      <td>0</td>\n",
       "      <td>NaN</td>\n",
       "      <td>NaN</td>\n",
       "      <td>NaN</td>\n",
       "      <td>0</td>\n",
       "      <td>2</td>\n",
       "      <td>2006</td>\n",
       "      <td>WD</td>\n",
       "      <td>Abnorml</td>\n",
       "      <td>140000</td>\n",
       "    </tr>\n",
       "    <tr>\n",
       "      <th>4</th>\n",
       "      <td>5</td>\n",
       "      <td>60</td>\n",
       "      <td>RL</td>\n",
       "      <td>84.0</td>\n",
       "      <td>14260</td>\n",
       "      <td>Pave</td>\n",
       "      <td>NaN</td>\n",
       "      <td>IR1</td>\n",
       "      <td>Lvl</td>\n",
       "      <td>AllPub</td>\n",
       "      <td>...</td>\n",
       "      <td>0</td>\n",
       "      <td>NaN</td>\n",
       "      <td>NaN</td>\n",
       "      <td>NaN</td>\n",
       "      <td>0</td>\n",
       "      <td>12</td>\n",
       "      <td>2008</td>\n",
       "      <td>WD</td>\n",
       "      <td>Normal</td>\n",
       "      <td>250000</td>\n",
       "    </tr>\n",
       "  </tbody>\n",
       "</table>\n",
       "<p>5 rows × 81 columns</p>\n",
       "</div>"
      ],
      "text/plain": [
       "   Id  MSSubClass MSZoning  LotFrontage  LotArea Street Alley LotShape  \\\n",
       "0   1          60       RL         65.0     8450   Pave   NaN      Reg   \n",
       "1   2          20       RL         80.0     9600   Pave   NaN      Reg   \n",
       "2   3          60       RL         68.0    11250   Pave   NaN      IR1   \n",
       "3   4          70       RL         60.0     9550   Pave   NaN      IR1   \n",
       "4   5          60       RL         84.0    14260   Pave   NaN      IR1   \n",
       "\n",
       "  LandContour Utilities  ... PoolArea PoolQC Fence MiscFeature MiscVal MoSold  \\\n",
       "0         Lvl    AllPub  ...        0    NaN   NaN         NaN       0      2   \n",
       "1         Lvl    AllPub  ...        0    NaN   NaN         NaN       0      5   \n",
       "2         Lvl    AllPub  ...        0    NaN   NaN         NaN       0      9   \n",
       "3         Lvl    AllPub  ...        0    NaN   NaN         NaN       0      2   \n",
       "4         Lvl    AllPub  ...        0    NaN   NaN         NaN       0     12   \n",
       "\n",
       "  YrSold  SaleType  SaleCondition  SalePrice  \n",
       "0   2008        WD         Normal     208500  \n",
       "1   2007        WD         Normal     181500  \n",
       "2   2008        WD         Normal     223500  \n",
       "3   2006        WD        Abnorml     140000  \n",
       "4   2008        WD         Normal     250000  \n",
       "\n",
       "[5 rows x 81 columns]"
      ]
     },
     "execution_count": 1,
     "metadata": {},
     "output_type": "execute_result"
    }
   ],
   "source": [
    "import numpy as np\n",
    "import pandas as pd\n",
    "import matplotlib.pyplot as plt\n",
    "%matplotlib inline\n",
    "\n",
    "data: pd.DataFrame = pd.read_csv(\"data/train.csv\")\n",
    "test: pd.DataFrame = pd.read_csv(\"data/test.csv\")\n",
    "data.head()"
   ]
  },
  {
   "cell_type": "markdown",
   "metadata": {},
   "source": [
    "## Process data"
   ]
  },
  {
   "cell_type": "code",
   "execution_count": 2,
   "metadata": {},
   "outputs": [
    {
     "data": {
      "text/plain": [
       "(1460, 80)"
      ]
     },
     "execution_count": 2,
     "metadata": {},
     "output_type": "execute_result"
    }
   ],
   "source": [
    "IdColumn = test[['Id']]          # Save Id column\n",
    "data = data.drop(columns=['Id']) # We don't need Id for calculations\n",
    "test = test.drop(columns=['Id'])\n",
    "data.shape"
   ]
  },
  {
   "cell_type": "code",
   "execution_count": 3,
   "metadata": {},
   "outputs": [
    {
     "name": "stdout",
     "output_type": "stream",
     "text": [
      "<class 'pandas.core.frame.DataFrame'>\n",
      "RangeIndex: 1460 entries, 0 to 1459\n",
      "Data columns (total 80 columns):\n",
      " #   Column         Non-Null Count  Dtype  \n",
      "---  ------         --------------  -----  \n",
      " 0   MSSubClass     1460 non-null   int64  \n",
      " 1   MSZoning       1460 non-null   object \n",
      " 2   LotFrontage    1201 non-null   float64\n",
      " 3   LotArea        1460 non-null   int64  \n",
      " 4   Street         1460 non-null   object \n",
      " 5   Alley          91 non-null     object \n",
      " 6   LotShape       1460 non-null   object \n",
      " 7   LandContour    1460 non-null   object \n",
      " 8   Utilities      1460 non-null   object \n",
      " 9   LotConfig      1460 non-null   object \n",
      " 10  LandSlope      1460 non-null   object \n",
      " 11  Neighborhood   1460 non-null   object \n",
      " 12  Condition1     1460 non-null   object \n",
      " 13  Condition2     1460 non-null   object \n",
      " 14  BldgType       1460 non-null   object \n",
      " 15  HouseStyle     1460 non-null   object \n",
      " 16  OverallQual    1460 non-null   int64  \n",
      " 17  OverallCond    1460 non-null   int64  \n",
      " 18  YearBuilt      1460 non-null   int64  \n",
      " 19  YearRemodAdd   1460 non-null   int64  \n",
      " 20  RoofStyle      1460 non-null   object \n",
      " 21  RoofMatl       1460 non-null   object \n",
      " 22  Exterior1st    1460 non-null   object \n",
      " 23  Exterior2nd    1460 non-null   object \n",
      " 24  MasVnrType     1452 non-null   object \n",
      " 25  MasVnrArea     1452 non-null   float64\n",
      " 26  ExterQual      1460 non-null   object \n",
      " 27  ExterCond      1460 non-null   object \n",
      " 28  Foundation     1460 non-null   object \n",
      " 29  BsmtQual       1423 non-null   object \n",
      " 30  BsmtCond       1423 non-null   object \n",
      " 31  BsmtExposure   1422 non-null   object \n",
      " 32  BsmtFinType1   1423 non-null   object \n",
      " 33  BsmtFinSF1     1460 non-null   int64  \n",
      " 34  BsmtFinType2   1422 non-null   object \n",
      " 35  BsmtFinSF2     1460 non-null   int64  \n",
      " 36  BsmtUnfSF      1460 non-null   int64  \n",
      " 37  TotalBsmtSF    1460 non-null   int64  \n",
      " 38  Heating        1460 non-null   object \n",
      " 39  HeatingQC      1460 non-null   object \n",
      " 40  CentralAir     1460 non-null   object \n",
      " 41  Electrical     1459 non-null   object \n",
      " 42  1stFlrSF       1460 non-null   int64  \n",
      " 43  2ndFlrSF       1460 non-null   int64  \n",
      " 44  LowQualFinSF   1460 non-null   int64  \n",
      " 45  GrLivArea      1460 non-null   int64  \n",
      " 46  BsmtFullBath   1460 non-null   int64  \n",
      " 47  BsmtHalfBath   1460 non-null   int64  \n",
      " 48  FullBath       1460 non-null   int64  \n",
      " 49  HalfBath       1460 non-null   int64  \n",
      " 50  BedroomAbvGr   1460 non-null   int64  \n",
      " 51  KitchenAbvGr   1460 non-null   int64  \n",
      " 52  KitchenQual    1460 non-null   object \n",
      " 53  TotRmsAbvGrd   1460 non-null   int64  \n",
      " 54  Functional     1460 non-null   object \n",
      " 55  Fireplaces     1460 non-null   int64  \n",
      " 56  FireplaceQu    770 non-null    object \n",
      " 57  GarageType     1379 non-null   object \n",
      " 58  GarageYrBlt    1379 non-null   float64\n",
      " 59  GarageFinish   1379 non-null   object \n",
      " 60  GarageCars     1460 non-null   int64  \n",
      " 61  GarageArea     1460 non-null   int64  \n",
      " 62  GarageQual     1379 non-null   object \n",
      " 63  GarageCond     1379 non-null   object \n",
      " 64  PavedDrive     1460 non-null   object \n",
      " 65  WoodDeckSF     1460 non-null   int64  \n",
      " 66  OpenPorchSF    1460 non-null   int64  \n",
      " 67  EnclosedPorch  1460 non-null   int64  \n",
      " 68  3SsnPorch      1460 non-null   int64  \n",
      " 69  ScreenPorch    1460 non-null   int64  \n",
      " 70  PoolArea       1460 non-null   int64  \n",
      " 71  PoolQC         7 non-null      object \n",
      " 72  Fence          281 non-null    object \n",
      " 73  MiscFeature    54 non-null     object \n",
      " 74  MiscVal        1460 non-null   int64  \n",
      " 75  MoSold         1460 non-null   int64  \n",
      " 76  YrSold         1460 non-null   int64  \n",
      " 77  SaleType       1460 non-null   object \n",
      " 78  SaleCondition  1460 non-null   object \n",
      " 79  SalePrice      1460 non-null   int64  \n",
      "dtypes: float64(3), int64(34), object(43)\n",
      "memory usage: 912.6+ KB\n"
     ]
    }
   ],
   "source": [
    "data.info()"
   ]
  },
  {
   "cell_type": "code",
   "execution_count": 4,
   "metadata": {},
   "outputs": [
    {
     "data": {
      "image/png": "[encoded data removed]",
      "text/plain": [
       "<Figure size 432x288 with 1 Axes>"
      ]
     },
     "metadata": {
      "needs_background": "light"
     },
     "output_type": "display_data"
    }
   ],
   "source": [
    "nulls = data.isnull().sum()\n",
    "\n",
    "ax = nulls.plot.bar()"
   ]
  },
  {
   "cell_type": "markdown",
   "metadata": {},
   "source": [
    "We can see, that some of the collums are mostly filled with null values.\n",
    "\n",
    "I will drop the collums that have more than 50% of the values set to null, and changing other collumns' null values either with mean (for numeric data) or mode (for objets)"
   ]
  },
  {
   "cell_type": "code",
   "execution_count": 5,
   "metadata": {},
   "outputs": [],
   "source": [
    "def handleNullValues(data: pd.DataFrame) -> pd.DataFrame:\n",
    "    for column in data.columns:\n",
    "        if data[column].isnull().sum() == 0:\n",
    "            continue                                                        # No problem with the data, no modification\n",
    "\n",
    "        elif data[column].isnull().sum() >= data.shape[0] / 2:\n",
    "            data = data.drop(columns=[column])                              # At least 50% of the data is undefined \n",
    "\n",
    "        elif data[column].dtype != np.object_:                              # Numerical values\n",
    "            # Not having a numerical value of a column mean not having a particular part of a house, area is 0 sq meters\n",
    "            data[column] = data[column].fillna(0)                           \n",
    "\n",
    "        # object type null values will be droped in one_hot encoding function\n",
    "\n",
    "    return data"
   ]
  },
  {
   "cell_type": "code",
   "execution_count": 6,
   "metadata": {},
   "outputs": [
    {
     "data": {
      "text/plain": [
       "(1460, 80)"
      ]
     },
     "execution_count": 6,
     "metadata": {},
     "output_type": "execute_result"
    },
    {
     "data": {
      "image/png": "[encoded data removed]",
      "text/plain": [
       "<Figure size 432x288 with 1 Axes>"
      ]
     },
     "metadata": {
      "needs_background": "light"
     },
     "output_type": "display_data"
    }
   ],
   "source": [
    "data = handleNullValues(data)\n",
    "test = handleNullValues(test)\n",
    "\n",
    "ax = data.isnull().sum().plot.bar()\n",
    "data.shape"
   ]
  },
  {
   "cell_type": "markdown",
   "metadata": {},
   "source": [
    "Null values are completely gone.\n",
    "\n",
    "Now we need to change non-numerical values into numericals using hot_one_encoding"
   ]
  },
  {
   "cell_type": "code",
   "execution_count": 7,
   "metadata": {},
   "outputs": [],
   "source": [
    "def oneHotEncoder(data: pd.DataFrame) -> pd.DataFrame:\n",
    "    data_copy: pd.DataFrame = data                                  # We do not want to change data while iterating over it\n",
    "\n",
    "    for column in data.columns:\n",
    "        if data[column].dtype != np.object_:\n",
    "            continue\n",
    "\n",
    "        dummy: pd.DataFrame\n",
    "        if data[column].isnull().sum() == 0:\n",
    "            dummy = pd.get_dummies(data[column], drop_first=True)   # If the dummies don't hava NaN column, we can remove an extra column\n",
    "        else:\n",
    "            dummy = pd.get_dummies(data[column], drop_first=False)  # pd.get_dummies drops NaN columns itself, we do not need to drop an extra one\n",
    "\n",
    "        data_copy = data_copy.drop([column], axis=1)                # We don't need non-numeric column any more\n",
    "        data_copy = pd.concat([data_copy, dummy], axis=1)       \n",
    "\n",
    "    data = data_copy\n",
    "    \n",
    "    return data"
   ]
  },
  {
   "cell_type": "code",
   "execution_count": 8,
   "metadata": {},
   "outputs": [],
   "source": [
    "data = oneHotEncoder(data)\n",
    "test = oneHotEncoder(test)\n",
    "\n",
    "data = data.loc[:, ~data.columns.duplicated()]      # Remove duplicate collumns\n",
    "test = test.iloc[:, ~test.columns.duplicated()]"
   ]
  },
  {
   "cell_type": "code",
   "execution_count": 9,
   "metadata": {},
   "outputs": [
    {
     "data": {
      "text/plain": [
       "(1460, 192)"
      ]
     },
     "execution_count": 9,
     "metadata": {},
     "output_type": "execute_result"
    },
    {
     "data": {
      "image/png": "[encoded data removed]",
      "text/plain": [
       "<Figure size 432x288 with 1 Axes>"
      ]
     },
     "metadata": {
      "needs_background": "light"
     },
     "output_type": "display_data"
    }
   ],
   "source": [
    "data = handleNullValues(data)\n",
    "test = handleNullValues(test)\n",
    "\n",
    "ax = data.isnull().sum().plot.bar()\n",
    "data.shape"
   ]
  },
  {
   "cell_type": "code",
   "execution_count": 10,
   "metadata": {},
   "outputs": [
    {
     "name": "stdout",
     "output_type": "stream",
     "text": [
      "<class 'pandas.core.frame.DataFrame'>\n",
      "RangeIndex: 1460 entries, 0 to 1459\n",
      "Columns: 192 entries, MSSubClass to Partial\n",
      "dtypes: float64(3), int64(34), uint8(155)\n",
      "memory usage: 643.2 KB\n"
     ]
    },
    {
     "data": {
      "text/plain": [
       "((1460, 192), (1459, 184))"
      ]
     },
     "execution_count": 10,
     "metadata": {},
     "output_type": "execute_result"
    }
   ],
   "source": [
    "data.info()\n",
    "data.shape, test.shape"
   ]
  },
  {
   "cell_type": "markdown",
   "metadata": {},
   "source": [
    "train and test datas do not have the same amount of columns.\n",
    "\n",
    "We need to drop the extra columns from test data and add columns with the value of 0 from train data to test data."
   ]
  },
  {
   "cell_type": "code",
   "execution_count": 11,
   "metadata": {},
   "outputs": [],
   "source": [
    "def modifyTestCollumns(train: pd.DataFrame, test: pd.DataFrame) -> pd.DataFrame:              \n",
    "    test_copy = test                                                 # We should not change the data while iterating over them\n",
    "\n",
    "    for testColumn in test:\n",
    "        if testColumn not in train.columns:\n",
    "            test_copy = test_copy.drop(columns=[testColumn])        # Remove extra columns\n",
    "\n",
    "    for trainColumn in train:\n",
    "        if trainColumn not in test and trainColumn != 'SalePrice':  # Test data does not need target column\n",
    "            test_copy[trainColumn] = 0                              # Add missing columns with the value of 0\n",
    "\n",
    "    test_sorted = pd.DataFrame()                                    # Sort test columns like train data\n",
    "    for trainColumn in train:\n",
    "        if trainColumn != 'SalePrice':\n",
    "            test_sorted = pd.concat([test_sorted, test_copy[[trainColumn]]], axis=1)\n",
    "\n",
    "    test = test_sorted\n",
    "\n",
    "    return test    "
   ]
  },
  {
   "cell_type": "code",
   "execution_count": 12,
   "metadata": {},
   "outputs": [
    {
     "data": {
      "text/plain": [
       "((1460, 192), (1459, 191))"
      ]
     },
     "execution_count": 12,
     "metadata": {},
     "output_type": "execute_result"
    }
   ],
   "source": [
    "test = modifyTestCollumns(data, test)\n",
    "data.shape, test.shape"
   ]
  },
  {
   "cell_type": "markdown",
   "metadata": {},
   "source": [
    "all non-nmerical data is gone and the data is ready to be passed to ML model."
   ]
  },
  {
   "cell_type": "markdown",
   "metadata": {},
   "source": [
    "### finish up preprocessing and extract information for ML Models"
   ]
  },
  {
   "cell_type": "code",
   "execution_count": 13,
   "metadata": {},
   "outputs": [
    {
     "data": {
      "text/html": [
       "<div>\n",
       "<style scoped>\n",
       "    .dataframe tbody tr th:only-of-type {\n",
       "        vertical-align: middle;\n",
       "    }\n",
       "\n",
       "    .dataframe tbody tr th {\n",
       "        vertical-align: top;\n",
       "    }\n",
       "\n",
       "    .dataframe thead th {\n",
       "        text-align: right;\n",
       "    }\n",
       "</style>\n",
       "<table border=\"1\" class=\"dataframe\">\n",
       "  <thead>\n",
       "    <tr style=\"text-align: right;\">\n",
       "      <th></th>\n",
       "      <th>MSSubClass</th>\n",
       "      <th>LotFrontage</th>\n",
       "      <th>LotArea</th>\n",
       "      <th>OverallQual</th>\n",
       "      <th>OverallCond</th>\n",
       "      <th>YearBuilt</th>\n",
       "      <th>YearRemodAdd</th>\n",
       "      <th>MasVnrArea</th>\n",
       "      <th>BsmtFinSF1</th>\n",
       "      <th>BsmtFinSF2</th>\n",
       "      <th>...</th>\n",
       "      <th>ConLI</th>\n",
       "      <th>ConLw</th>\n",
       "      <th>New</th>\n",
       "      <th>Oth</th>\n",
       "      <th>WD</th>\n",
       "      <th>AdjLand</th>\n",
       "      <th>Alloca</th>\n",
       "      <th>Family</th>\n",
       "      <th>Normal</th>\n",
       "      <th>Partial</th>\n",
       "    </tr>\n",
       "  </thead>\n",
       "  <tbody>\n",
       "    <tr>\n",
       "      <th>0</th>\n",
       "      <td>0.076049</td>\n",
       "      <td>0.216476</td>\n",
       "      <td>-0.193993</td>\n",
       "      <td>0.652363</td>\n",
       "      <td>-0.505995</td>\n",
       "      <td>1.053322</td>\n",
       "      <td>0.874813</td>\n",
       "      <td>0.513029</td>\n",
       "      <td>0.605512</td>\n",
       "      <td>-0.287315</td>\n",
       "      <td>...</td>\n",
       "      <td>-0.06554</td>\n",
       "      <td>-0.058596</td>\n",
       "      <td>-0.304188</td>\n",
       "      <td>-0.041398</td>\n",
       "      <td>0.39968</td>\n",
       "      <td>-0.058596</td>\n",
       "      <td>-0.097464</td>\n",
       "      <td>-0.121479</td>\n",
       "      <td>0.477478</td>\n",
       "      <td>-0.309197</td>\n",
       "    </tr>\n",
       "    <tr>\n",
       "      <th>1</th>\n",
       "      <td>-0.865143</td>\n",
       "      <td>0.655899</td>\n",
       "      <td>-0.086301</td>\n",
       "      <td>-0.073313</td>\n",
       "      <td>2.168222</td>\n",
       "      <td>0.151871</td>\n",
       "      <td>-0.440033</td>\n",
       "      <td>-0.571999</td>\n",
       "      <td>1.229192</td>\n",
       "      <td>-0.287315</td>\n",
       "      <td>...</td>\n",
       "      <td>-0.06554</td>\n",
       "      <td>-0.058596</td>\n",
       "      <td>-0.304188</td>\n",
       "      <td>-0.041398</td>\n",
       "      <td>0.39968</td>\n",
       "      <td>-0.058596</td>\n",
       "      <td>-0.097464</td>\n",
       "      <td>-0.121479</td>\n",
       "      <td>0.477478</td>\n",
       "      <td>-0.309197</td>\n",
       "    </tr>\n",
       "    <tr>\n",
       "      <th>2</th>\n",
       "      <td>0.076049</td>\n",
       "      <td>0.304361</td>\n",
       "      <td>0.068213</td>\n",
       "      <td>0.652363</td>\n",
       "      <td>-0.505995</td>\n",
       "      <td>0.986548</td>\n",
       "      <td>0.826115</td>\n",
       "      <td>0.324810</td>\n",
       "      <td>0.101066</td>\n",
       "      <td>-0.287315</td>\n",
       "      <td>...</td>\n",
       "      <td>-0.06554</td>\n",
       "      <td>-0.058596</td>\n",
       "      <td>-0.304188</td>\n",
       "      <td>-0.041398</td>\n",
       "      <td>0.39968</td>\n",
       "      <td>-0.058596</td>\n",
       "      <td>-0.097464</td>\n",
       "      <td>-0.121479</td>\n",
       "      <td>0.477478</td>\n",
       "      <td>-0.309197</td>\n",
       "    </tr>\n",
       "    <tr>\n",
       "      <th>3</th>\n",
       "      <td>0.311347</td>\n",
       "      <td>0.070002</td>\n",
       "      <td>-0.090984</td>\n",
       "      <td>0.652363</td>\n",
       "      <td>-0.505995</td>\n",
       "      <td>-1.884741</td>\n",
       "      <td>-0.732221</td>\n",
       "      <td>-0.571999</td>\n",
       "      <td>-0.518027</td>\n",
       "      <td>-0.287315</td>\n",
       "      <td>...</td>\n",
       "      <td>-0.06554</td>\n",
       "      <td>-0.058596</td>\n",
       "      <td>-0.304188</td>\n",
       "      <td>-0.041398</td>\n",
       "      <td>0.39968</td>\n",
       "      <td>-0.058596</td>\n",
       "      <td>-0.097464</td>\n",
       "      <td>-0.121479</td>\n",
       "      <td>-2.092543</td>\n",
       "      <td>-0.309197</td>\n",
       "    </tr>\n",
       "    <tr>\n",
       "      <th>4</th>\n",
       "      <td>0.076049</td>\n",
       "      <td>0.773079</td>\n",
       "      <td>0.350085</td>\n",
       "      <td>1.378039</td>\n",
       "      <td>-0.505995</td>\n",
       "      <td>0.953161</td>\n",
       "      <td>0.728719</td>\n",
       "      <td>1.365551</td>\n",
       "      <td>0.488573</td>\n",
       "      <td>-0.287315</td>\n",
       "      <td>...</td>\n",
       "      <td>-0.06554</td>\n",
       "      <td>-0.058596</td>\n",
       "      <td>-0.304188</td>\n",
       "      <td>-0.041398</td>\n",
       "      <td>0.39968</td>\n",
       "      <td>-0.058596</td>\n",
       "      <td>-0.097464</td>\n",
       "      <td>-0.121479</td>\n",
       "      <td>0.477478</td>\n",
       "      <td>-0.309197</td>\n",
       "    </tr>\n",
       "  </tbody>\n",
       "</table>\n",
       "<p>5 rows × 191 columns</p>\n",
       "</div>"
      ],
      "text/plain": [
       "   MSSubClass  LotFrontage   LotArea  OverallQual  OverallCond  YearBuilt  \\\n",
       "0    0.076049     0.216476 -0.193993     0.652363    -0.505995   1.053322   \n",
       "1   -0.865143     0.655899 -0.086301    -0.073313     2.168222   0.151871   \n",
       "2    0.076049     0.304361  0.068213     0.652363    -0.505995   0.986548   \n",
       "3    0.311347     0.070002 -0.090984     0.652363    -0.505995  -1.884741   \n",
       "4    0.076049     0.773079  0.350085     1.378039    -0.505995   0.953161   \n",
       "\n",
       "   YearRemodAdd  MasVnrArea  BsmtFinSF1  BsmtFinSF2  ...    ConLI     ConLw  \\\n",
       "0      0.874813    0.513029    0.605512   -0.287315  ... -0.06554 -0.058596   \n",
       "1     -0.440033   -0.571999    1.229192   -0.287315  ... -0.06554 -0.058596   \n",
       "2      0.826115    0.324810    0.101066   -0.287315  ... -0.06554 -0.058596   \n",
       "3     -0.732221   -0.571999   -0.518027   -0.287315  ... -0.06554 -0.058596   \n",
       "4      0.728719    1.365551    0.488573   -0.287315  ... -0.06554 -0.058596   \n",
       "\n",
       "        New       Oth       WD   AdjLand    Alloca    Family    Normal  \\\n",
       "0 -0.304188 -0.041398  0.39968 -0.058596 -0.097464 -0.121479  0.477478   \n",
       "1 -0.304188 -0.041398  0.39968 -0.058596 -0.097464 -0.121479  0.477478   \n",
       "2 -0.304188 -0.041398  0.39968 -0.058596 -0.097464 -0.121479  0.477478   \n",
       "3 -0.304188 -0.041398  0.39968 -0.058596 -0.097464 -0.121479 -2.092543   \n",
       "4 -0.304188 -0.041398  0.39968 -0.058596 -0.097464 -0.121479  0.477478   \n",
       "\n",
       "    Partial  \n",
       "0 -0.309197  \n",
       "1 -0.309197  \n",
       "2 -0.309197  \n",
       "3 -0.309197  \n",
       "4 -0.309197  \n",
       "\n",
       "[5 rows x 191 columns]"
      ]
     },
     "execution_count": 13,
     "metadata": {},
     "output_type": "execute_result"
    }
   ],
   "source": [
    "numTrain: int = int(data.shape[0] * 0.8)                            # 80% of the data will be used for training, 20% will be used for validation\n",
    "\n",
    "yTrain: pd.DataFrame = data[['SalePrice']].iloc[ : numTrain, :]     # SalePrice is our target variable\n",
    "yValid: pd.DataFrame = data[['SalePrice']].iloc[numTrain : , :]\n",
    "\n",
    "XTrain: pd.DataFrame = data.drop(columns=['SalePrice']).iloc[ : numTrain, :]\n",
    "XValid: pd.DataFrame = data.drop(columns=['SalePrice']).iloc[numTrain : , :]\n",
    "\n",
    "XTrain = (XTrain - XTrain.mean()) / XTrain.std()                    # Feature scaling\n",
    "XTrain = XTrain.fillna(0)                   # For columns with only 0 values, test.std() is zero, so the values become NaN. Se need to replace them with 0\n",
    "XValid = (XValid - XValid.mean()) / XValid.std()\n",
    "XValid = XValid.fillna(0)\n",
    "\n",
    "test = (test - test.mean()) / test.std()\n",
    "test = test.fillna(0)\n",
    "\n",
    "XTrain.head()"
   ]
  },
  {
   "cell_type": "code",
   "execution_count": 14,
   "metadata": {},
   "outputs": [
    {
     "data": {
      "text/html": [
       "<div>\n",
       "<style scoped>\n",
       "    .dataframe tbody tr th:only-of-type {\n",
       "        vertical-align: middle;\n",
       "    }\n",
       "\n",
       "    .dataframe tbody tr th {\n",
       "        vertical-align: top;\n",
       "    }\n",
       "\n",
       "    .dataframe thead th {\n",
       "        text-align: right;\n",
       "    }\n",
       "</style>\n",
       "<table border=\"1\" class=\"dataframe\">\n",
       "  <thead>\n",
       "    <tr style=\"text-align: right;\">\n",
       "      <th></th>\n",
       "      <th>MSSubClass</th>\n",
       "      <th>LotFrontage</th>\n",
       "      <th>LotArea</th>\n",
       "      <th>OverallQual</th>\n",
       "      <th>OverallCond</th>\n",
       "      <th>YearBuilt</th>\n",
       "      <th>YearRemodAdd</th>\n",
       "      <th>MasVnrArea</th>\n",
       "      <th>BsmtFinSF1</th>\n",
       "      <th>BsmtFinSF2</th>\n",
       "      <th>...</th>\n",
       "      <th>ConLI</th>\n",
       "      <th>ConLw</th>\n",
       "      <th>New</th>\n",
       "      <th>Oth</th>\n",
       "      <th>WD</th>\n",
       "      <th>AdjLand</th>\n",
       "      <th>Alloca</th>\n",
       "      <th>Family</th>\n",
       "      <th>Normal</th>\n",
       "      <th>Partial</th>\n",
       "    </tr>\n",
       "  </thead>\n",
       "  <tbody>\n",
       "    <tr>\n",
       "      <th>0</th>\n",
       "      <td>-0.874411</td>\n",
       "      <td>0.684614</td>\n",
       "      <td>0.363804</td>\n",
       "      <td>-0.750844</td>\n",
       "      <td>0.400629</td>\n",
       "      <td>-0.340828</td>\n",
       "      <td>-1.072517</td>\n",
       "      <td>-0.563123</td>\n",
       "      <td>0.063914</td>\n",
       "      <td>0.517359</td>\n",
       "      <td>...</td>\n",
       "      <td>-0.052414</td>\n",
       "      <td>-0.045377</td>\n",
       "      <td>-0.295167</td>\n",
       "      <td>-0.052414</td>\n",
       "      <td>0.399585</td>\n",
       "      <td>-0.074227</td>\n",
       "      <td>-0.091035</td>\n",
       "      <td>-0.134653</td>\n",
       "      <td>0.460053</td>\n",
       "      <td>-0.299262</td>\n",
       "    </tr>\n",
       "    <tr>\n",
       "      <th>1</th>\n",
       "      <td>-0.874411</td>\n",
       "      <td>0.715606</td>\n",
       "      <td>0.897553</td>\n",
       "      <td>-0.054858</td>\n",
       "      <td>0.400629</td>\n",
       "      <td>-0.439544</td>\n",
       "      <td>-1.214492</td>\n",
       "      <td>0.047040</td>\n",
       "      <td>1.063349</td>\n",
       "      <td>-0.297587</td>\n",
       "      <td>...</td>\n",
       "      <td>-0.052414</td>\n",
       "      <td>-0.045377</td>\n",
       "      <td>-0.295167</td>\n",
       "      <td>-0.052414</td>\n",
       "      <td>0.399585</td>\n",
       "      <td>-0.074227</td>\n",
       "      <td>-0.091035</td>\n",
       "      <td>-0.134653</td>\n",
       "      <td>0.460053</td>\n",
       "      <td>-0.299262</td>\n",
       "    </tr>\n",
       "    <tr>\n",
       "      <th>2</th>\n",
       "      <td>0.061330</td>\n",
       "      <td>0.498660</td>\n",
       "      <td>0.809368</td>\n",
       "      <td>-0.750844</td>\n",
       "      <td>-0.497247</td>\n",
       "      <td>0.843770</td>\n",
       "      <td>0.678509</td>\n",
       "      <td>-0.563123</td>\n",
       "      <td>0.773403</td>\n",
       "      <td>-0.297587</td>\n",
       "      <td>...</td>\n",
       "      <td>-0.052414</td>\n",
       "      <td>-0.045377</td>\n",
       "      <td>-0.295167</td>\n",
       "      <td>-0.052414</td>\n",
       "      <td>0.399585</td>\n",
       "      <td>-0.074227</td>\n",
       "      <td>-0.091035</td>\n",
       "      <td>-0.134653</td>\n",
       "      <td>0.460053</td>\n",
       "      <td>-0.299262</td>\n",
       "    </tr>\n",
       "    <tr>\n",
       "      <th>3</th>\n",
       "      <td>0.061330</td>\n",
       "      <td>0.622629</td>\n",
       "      <td>0.032053</td>\n",
       "      <td>-0.054858</td>\n",
       "      <td>0.400629</td>\n",
       "      <td>0.876675</td>\n",
       "      <td>0.678509</td>\n",
       "      <td>-0.450130</td>\n",
       "      <td>0.358253</td>\n",
       "      <td>-0.297587</td>\n",
       "      <td>...</td>\n",
       "      <td>-0.052414</td>\n",
       "      <td>-0.045377</td>\n",
       "      <td>-0.295167</td>\n",
       "      <td>-0.052414</td>\n",
       "      <td>0.399585</td>\n",
       "      <td>-0.074227</td>\n",
       "      <td>-0.091035</td>\n",
       "      <td>-0.134653</td>\n",
       "      <td>0.460053</td>\n",
       "      <td>-0.299262</td>\n",
       "    </tr>\n",
       "    <tr>\n",
       "      <th>4</th>\n",
       "      <td>1.464941</td>\n",
       "      <td>-0.462102</td>\n",
       "      <td>-0.971475</td>\n",
       "      <td>1.337113</td>\n",
       "      <td>-0.497247</td>\n",
       "      <td>0.679242</td>\n",
       "      <td>0.394559</td>\n",
       "      <td>-0.563123</td>\n",
       "      <td>-0.386381</td>\n",
       "      <td>-0.297587</td>\n",
       "      <td>...</td>\n",
       "      <td>-0.052414</td>\n",
       "      <td>-0.045377</td>\n",
       "      <td>-0.295167</td>\n",
       "      <td>-0.052414</td>\n",
       "      <td>0.399585</td>\n",
       "      <td>-0.074227</td>\n",
       "      <td>-0.091035</td>\n",
       "      <td>-0.134653</td>\n",
       "      <td>0.460053</td>\n",
       "      <td>-0.299262</td>\n",
       "    </tr>\n",
       "  </tbody>\n",
       "</table>\n",
       "<p>5 rows × 191 columns</p>\n",
       "</div>"
      ],
      "text/plain": [
       "   MSSubClass  LotFrontage   LotArea  OverallQual  OverallCond  YearBuilt  \\\n",
       "0   -0.874411     0.684614  0.363804    -0.750844     0.400629  -0.340828   \n",
       "1   -0.874411     0.715606  0.897553    -0.054858     0.400629  -0.439544   \n",
       "2    0.061330     0.498660  0.809368    -0.750844    -0.497247   0.843770   \n",
       "3    0.061330     0.622629  0.032053    -0.054858     0.400629   0.876675   \n",
       "4    1.464941    -0.462102 -0.971475     1.337113    -0.497247   0.679242   \n",
       "\n",
       "   YearRemodAdd  MasVnrArea  BsmtFinSF1  BsmtFinSF2  ...     ConLI     ConLw  \\\n",
       "0     -1.072517   -0.563123    0.063914    0.517359  ... -0.052414 -0.045377   \n",
       "1     -1.214492    0.047040    1.063349   -0.297587  ... -0.052414 -0.045377   \n",
       "2      0.678509   -0.563123    0.773403   -0.297587  ... -0.052414 -0.045377   \n",
       "3      0.678509   -0.450130    0.358253   -0.297587  ... -0.052414 -0.045377   \n",
       "4      0.394559   -0.563123   -0.386381   -0.297587  ... -0.052414 -0.045377   \n",
       "\n",
       "        New       Oth        WD   AdjLand    Alloca    Family    Normal  \\\n",
       "0 -0.295167 -0.052414  0.399585 -0.074227 -0.091035 -0.134653  0.460053   \n",
       "1 -0.295167 -0.052414  0.399585 -0.074227 -0.091035 -0.134653  0.460053   \n",
       "2 -0.295167 -0.052414  0.399585 -0.074227 -0.091035 -0.134653  0.460053   \n",
       "3 -0.295167 -0.052414  0.399585 -0.074227 -0.091035 -0.134653  0.460053   \n",
       "4 -0.295167 -0.052414  0.399585 -0.074227 -0.091035 -0.134653  0.460053   \n",
       "\n",
       "    Partial  \n",
       "0 -0.299262  \n",
       "1 -0.299262  \n",
       "2 -0.299262  \n",
       "3 -0.299262  \n",
       "4 -0.299262  \n",
       "\n",
       "[5 rows x 191 columns]"
      ]
     },
     "execution_count": 14,
     "metadata": {},
     "output_type": "execute_result"
    }
   ],
   "source": [
    "test.head()"
   ]
  },
  {
   "cell_type": "markdown",
   "metadata": {},
   "source": [
    "change data to matrices for easy mathematical operations in ML models"
   ]
  },
  {
   "cell_type": "code",
   "execution_count": 15,
   "metadata": {},
   "outputs": [
    {
     "data": {
      "text/plain": [
       "((1168, 191), (1168, 1), (292, 191), (292, 1))"
      ]
     },
     "execution_count": 15,
     "metadata": {},
     "output_type": "execute_result"
    }
   ],
   "source": [
    "XTrain = np.matrix(XTrain.values)\n",
    "XValid = np.matrix(XValid.values)\n",
    "yTrain = np.matrix(yTrain.values)\n",
    "yValid = np.matrix(yValid.values)\n",
    "testX = np.matrix(test.values)\n",
    "\n",
    "XTrain.shape, yTrain.shape, XValid.shape, yValid.shape"
   ]
  },
  {
   "cell_type": "markdown",
   "metadata": {},
   "source": [
    "# Start Creating ML Model"
   ]
  },
  {
   "cell_type": "markdown",
   "metadata": {},
   "source": [
    "### Define some useful functions for modeling\n",
    "\n",
    "#### Define gradient descent helper functions"
   ]
  },
  {
   "cell_type": "markdown",
   "metadata": {},
   "source": [
    "Gradient for linear regression\n",
    "##### Everything is on one line and one function for optimization, avoids copying."
   ]
  },
  {
   "cell_type": "code",
   "execution_count": 16,
   "metadata": {},
   "outputs": [],
   "source": [
    "def gradLin(X: np.matrix, y: np.matrix, theta: np.matrix, lambd: float) -> tuple[np.matrix, float]:\n",
    "    X = np.insert(X, 0, values=np.ones(X.shape[0]), axis=1)\n",
    "    m = X.shape[0]\n",
    "    \n",
    "    regTheta = lambd * theta\n",
    "    regTheta[0, 0] = 0              # we don't need to regularize first theta\n",
    "\n",
    "            # error\n",
    "    return (((X.T * ((X * theta.T) - y)).T + regTheta) / m,                                                    # gradient\n",
    "            # error                                 # regularized thetas\n",
    "            np.sum(np.square((X * theta.T) - y)) / (2 * m) + np.sum((lambd * np.square(theta).T)[1, :]) / (2 * m))    # cost                          "
   ]
  },
  {
   "cell_type": "markdown",
   "metadata": {},
   "source": [
    "Batch generator (generator returns a value when needed, it does not create a list)"
   ]
  },
  {
   "cell_type": "code",
   "execution_count": 17,
   "metadata": {},
   "outputs": [],
   "source": [
    "def getBatch(X: np.matrix, y: np.matrix, batchSize: int) -> tuple[np.matrix, np.matrix]:\n",
    "    for i in range(int((X.shape[0] - 1) / batchSize) + 1):\n",
    "        startIndex = i * batchSize\n",
    "        endIndex = (i + 1) * batchSize if (i + 1) * batchSize < X.shape[0] else X.shape[0]\n",
    "\n",
    "        yield X[startIndex : endIndex, :], y[startIndex : endIndex, :]"
   ]
  },
  {
   "cell_type": "markdown",
   "metadata": {},
   "source": [
    "#### Define gradient descent functions\n",
    "\n",
    "Batch gradient descent without any optimizations"
   ]
  },
  {
   "cell_type": "code",
   "execution_count": 18,
   "metadata": {},
   "outputs": [],
   "source": [
    "def batchGradientDescent(X: np.matrix, y: np.matrix, alpha: float, lambd: float, iters: int) -> tuple[np.matrix, np.ndarray]:\n",
    "    theta = np.matrix(np.random.rand(X.shape[1] + 1))\n",
    "    costs = np.zeros(iters)\n",
    "\n",
    "    for i in range(iters):\n",
    "        grad, cost = gradLin(X, y, theta, lambd)\n",
    "\n",
    "        theta = theta - alpha * grad\n",
    "\n",
    "        costs[i] = cost\n",
    "\n",
    "        if i > 0 and costs[-2] > costs[-1] and costs[-2] - costs[-1] < 0.001:        # declare convergence\n",
    "            break \n",
    "\n",
    "    return theta, costs  # return cost for debugging"
   ]
  },
  {
   "cell_type": "markdown",
   "metadata": {},
   "source": [
    "Mini-batch gradient descent without optimizations"
   ]
  },
  {
   "cell_type": "code",
   "execution_count": 19,
   "metadata": {},
   "outputs": [],
   "source": [
    "def miniBatchGradientDescent(X: np.matrix, y: np.matrix, alpha: float, lambd: float, iters: int, batchSize: int) -> tuple[np.matrix, np.ndarray]:\n",
    "    theta = np.matrix(np.random.rand(X.shape[1] + 1))\n",
    "    costs: list[float] = list()\n",
    "\n",
    "    for i in range(iters):\n",
    "        brk = False\n",
    "        for XBatch, yBatch in getBatch(X, y, batchSize):\n",
    "            grad, cost = gradLin(XBatch, yBatch, theta, lambd)\n",
    "            theta = theta - alpha * grad\n",
    "\n",
    "            costs.append(cost)\n",
    "\n",
    "            if i > 0 and costs[-2] > costs[-1] and costs[-2] - costs[-1] < 0.001:       # declare convergence\n",
    "                brk = True\n",
    "                break\n",
    "\n",
    "        if brk: break\n",
    "\n",
    "    return theta, np.array(costs)"
   ]
  },
  {
   "cell_type": "markdown",
   "metadata": {},
   "source": [
    "Stochastic gradient descent with Adam optimizer (Unfortunately, runs very slow. Probably bad code)"
   ]
  },
  {
   "cell_type": "code",
   "execution_count": 20,
   "metadata": {},
   "outputs": [],
   "source": [
    "def AdamStochasticGradientDescent(X: np.matrix, y: np.matrix, alpha: float, lambd: float, iters: int, beta1: float = 0.9, beta2: float = 0.999) -> tuple[np.matrix, np.ndarray]:\n",
    "    theta = np.matrix(np.random.rand(X.shape[1] + 1))\n",
    "    costs: list[float] = list()\n",
    "    m = np.matrix(np.zeros(X.shape[1] + 1))\n",
    "    v = np.matrix(np.zeros(X.shape[1] + 1))\n",
    "    ephsilon = 1e-08\n",
    "\n",
    "    for i in range(iters):\n",
    "        brk = False\n",
    "        for j in range(X.shape[0]):\n",
    "            grad, cost = gradLin(X, y, theta, lambd)\n",
    "            m = beta1 * m + (1 - beta1) * grad\n",
    "            v = beta2 * v + (1 - beta2) * np.square(grad)\n",
    "\n",
    "            mHat = m / (1 - np.power(beta1, j + 1))             # j + 1, because j starts at 0, algorithm t start at 1\n",
    "            vHat = v / (1 - np.power(beta2, j + 1))\n",
    "\n",
    "            theta = theta - (alpha * mHat) / (np.sqrt(vHat) + ephsilon)\n",
    "\n",
    "            costs.append(cost)\n",
    "\n",
    "            if i > 0 and costs[-2] > costs[-1] and costs[-2] - costs[-1] < 0.001 :         # declare convergence\n",
    "                brk = True\n",
    "                break \n",
    "\n",
    "        if brk: break\n",
    "\n",
    "    return theta, np.array(costs)"
   ]
  },
  {
   "cell_type": "markdown",
   "metadata": {},
   "source": [
    "# Train models\n",
    "#### Train linear regression models\n",
    "\n",
    "Training takes roughly 5 minutes, comment out AdamSGD to run this part quickly"
   ]
  },
  {
   "cell_type": "code",
   "execution_count": 21,
   "metadata": {},
   "outputs": [
    {
     "name": "stderr",
     "output_type": "stream",
     "text": [
      "/opt/anaconda3/envs/Freeuni_ML/lib/python3.9/site-packages/numpy/core/_methods.py:48: RuntimeWarning: overflow encountered in reduce\n",
      "  return umr_sum(a, axis, dtype, out, keepdims, initial, where)\n",
      "/var/folders/cg/nbkqfqq15tb9bkp7kghtnggm0000gp/T/ipykernel_1081/70039894.py:11: RuntimeWarning: overflow encountered in square\n",
      "  np.sum(np.square((X * theta.T) - y)) / (2 * m) + np.sum((lambd * np.square(theta).T)[1, :]) / (2 * m))    # cost\n"
     ]
    }
   ],
   "source": [
    "models: list[tuple[np.matrix, np.ndarray, float]] = list()\n",
    "iters = 5000\n",
    "\n",
    "# Add models to the list\n",
    "for i in range(6):                                                          # from 0.001 to about 0.3\n",
    "    alpha: float = 0.001 * (3 ** i)\n",
    "    theta, cost = batchGradientDescent(XTrain, yTrain, alpha, 0.1, iters)\n",
    "    models.append((theta, cost, 0.1))                                # add cost to check later if it is the model worked correctly\n",
    "\n",
    "    theta, cost = miniBatchGradientDescent(XTrain, yTrain, alpha, 0.1, 1000, iters)\n",
    "    models.append((theta, cost, 0.1))\n",
    "\n",
    "# theta, cost = AdamStochasticGradientDescent(XTrain, yTrain, 0.01, 0.1, 500)    # it is very slow in the loop\n",
    "# models.append((theta, cost, 0.1))"
   ]
  },
  {
   "cell_type": "markdown",
   "metadata": {},
   "source": [
    "# Test Model"
   ]
  },
  {
   "cell_type": "markdown",
   "metadata": {},
   "source": [
    "#### Choose least cost model with validation data"
   ]
  },
  {
   "cell_type": "code",
   "execution_count": 22,
   "metadata": {},
   "outputs": [
    {
     "data": {
      "text/plain": [
       "((1, 192), 250727185.0328348, 947688628.6482445)"
      ]
     },
     "execution_count": 22,
     "metadata": {},
     "output_type": "execute_result"
    }
   ],
   "source": [
    "theta, cost, lambd = min(models, key=lambda x: gradLin(XValid, yValid, x[0], x[2])[1])\n",
    "theta.shape, cost[-1], gradLin(XValid, yValid, theta, lambd)[1]"
   ]
  },
  {
   "cell_type": "code",
   "execution_count": 23,
   "metadata": {},
   "outputs": [
    {
     "data": {
      "text/plain": [
       "Text(0.5, 1.0, 'Error vs. Training Epoch')"
      ]
     },
     "execution_count": 23,
     "metadata": {},
     "output_type": "execute_result"
    },
    {
     "data": {
      "image/png": "[encoded data removed]",
      "text/plain": [
       "<Figure size 864x576 with 1 Axes>"
      ]
     },
     "metadata": {
      "needs_background": "light"
     },
     "output_type": "display_data"
    }
   ],
   "source": [
    "vfig, ax = plt.subplots(figsize=(12,8))\n",
    "ax.plot(np.arange(cost.size), cost, 'r')\n",
    "ax.set_xlabel('Iterations')\n",
    "ax.set_ylabel('Cost')\n",
    "ax.set_title('Error vs. Training Epoch')"
   ]
  },
  {
   "cell_type": "markdown",
   "metadata": {},
   "source": [
    "The model we choose works correctly, cost is constantly lowering in value\n",
    "#### Graph validation data to check how well the model predected\n",
    "Compare actual results to the predicted ones"
   ]
  },
  {
   "cell_type": "code",
   "execution_count": 24,
   "metadata": {},
   "outputs": [
    {
     "data": {
      "text/plain": [
       "Text(0.5, 1.0, 'Predicted Price vs. Actual Price')"
      ]
     },
     "execution_count": 24,
     "metadata": {},
     "output_type": "execute_result"
    },
    {
     "data": {
      "image/png": "[encoded data removed]",
      "text/plain": [
       "<Figure size 864x576 with 1 Axes>"
      ]
     },
     "metadata": {
      "needs_background": "light"
     },
     "output_type": "display_data"
    }
   ],
   "source": [
    "pred = theta[0, 0] + (XValid * theta[0, 1 : ].T)\n",
    "\n",
    "fig, ax = plt.subplots(figsize=(12,8))\n",
    "ax.plot(pred, pred, 'r', label='Perfect prediction line')             # perfect prediction would be if predicted values where equal to real values\n",
    "ax.scatter(pred.tolist(), yValid[:, -1].tolist())\n",
    "ax.legend(loc=2)\n",
    "ax.set_xlabel('Predicted')\n",
    "ax.set_ylabel('Actual')\n",
    "ax.set_title(f'Predicted Price vs. Actual Price')"
   ]
  },
  {
   "cell_type": "markdown",
   "metadata": {},
   "source": [
    "Linear regression algorithm works mostly correctly. It's predictions are very close to the real values (with only a few exceptions, from what we can see on graph)"
   ]
  },
  {
   "cell_type": "markdown",
   "metadata": {},
   "source": [
    "# Predict final test data"
   ]
  },
  {
   "cell_type": "code",
   "execution_count": 25,
   "metadata": {},
   "outputs": [],
   "source": [
    "test_with_ones = np.insert(testX, 0, np.ones(testX.shape[0]), axis=1)\n",
    "pred = test_with_ones * theta.T\n",
    "result = pd.DataFrame(pred, columns=['SalePrice'])\n",
    "result = pd.concat([IdColumn, result], axis=1)\n",
    "\n",
    "result.head()\n",
    "result.to_csv('data/result.csv', index=False)"
   ]
  }
 ],
 "metadata": {
  "interpreter": {
   "hash": "d80a6ad3f177f820c16ffddce5e20b9780a5a50a827e881a42629beae35f11cc"
  },
  "kernelspec": {
   "display_name": "Python 3.9.7 64-bit ('Freeuni_ML': conda)",
   "language": "python",
   "name": "python3"
  },
  "language_info": {
   "codemirror_mode": {
    "name": "ipython",
    "version": 3
   },
   "file_extension": ".py",
   "mimetype": "text/x-python",
   "name": "python",
   "nbconvert_exporter": "python",
   "pygments_lexer": "ipython3",
   "version": "3.9.7"
  },
  "orig_nbformat": 4
 },
 "nbformat": 4,
 "nbformat_minor": 2
}
